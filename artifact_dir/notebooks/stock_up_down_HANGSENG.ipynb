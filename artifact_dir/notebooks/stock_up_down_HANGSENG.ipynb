{
 "cells": [
  {
   "cell_type": "code",
   "execution_count": 1,
   "metadata": {
    "execution": {
     "iopub.execute_input": "2020-09-07T19:21:45.061862Z",
     "iopub.status.busy": "2020-09-07T19:21:45.060862Z",
     "iopub.status.idle": "2020-09-07T19:21:45.181547Z",
     "shell.execute_reply": "2020-09-07T19:21:45.181547Z"
    },
    "papermill": {
     "duration": 0.199999,
     "end_time": "2020-09-07T19:21:45.181547",
     "exception": false,
     "start_time": "2020-09-07T19:21:44.981548",
     "status": "completed"
    },
    "tags": []
   },
   "outputs": [],
   "source": [
    "%load_ext autoreload\n",
    "%autoreload 2"
   ]
  },
  {
   "cell_type": "code",
   "execution_count": 2,
   "metadata": {
    "execution": {
     "iopub.execute_input": "2020-09-07T19:21:45.328950Z",
     "iopub.status.busy": "2020-09-07T19:21:45.327950Z",
     "iopub.status.idle": "2020-09-07T19:21:45.383496Z",
     "shell.execute_reply": "2020-09-07T19:21:45.383496Z"
    },
    "papermill": {
     "duration": 0.125718,
     "end_time": "2020-09-07T19:21:45.383496",
     "exception": false,
     "start_time": "2020-09-07T19:21:45.257778",
     "status": "completed"
    },
    "tags": []
   },
   "outputs": [],
   "source": [
    "import warnings\n",
    "warnings.filterwarnings(\"ignore\")"
   ]
  },
  {
   "cell_type": "code",
   "execution_count": 3,
   "metadata": {
    "execution": {
     "iopub.execute_input": "2020-09-07T19:21:45.510542Z",
     "iopub.status.busy": "2020-09-07T19:21:45.510542Z",
     "iopub.status.idle": "2020-09-07T19:21:50.177564Z",
     "shell.execute_reply": "2020-09-07T19:21:50.177564Z"
    },
    "papermill": {
     "duration": 4.741535,
     "end_time": "2020-09-07T19:21:50.177564",
     "exception": false,
     "start_time": "2020-09-07T19:21:45.436029",
     "status": "completed"
    },
    "tags": []
   },
   "outputs": [],
   "source": [
    "import pandas as pd\n",
    "import matplotlib.pyplot as plt\n",
    "import statsmodels.api as sm\n",
    "import statsmodels.formula.api as smf\n",
    "from statsmodels.tools.tools import add_constant\n",
    "from sklearn.preprocessing import StandardScaler\n",
    "from sklearn.linear_model import LogisticRegression\n",
    "from sklearn.svm import SVC\n",
    "from sklearn.neighbors import KNeighborsClassifier\n",
    "from sklearn.ensemble import GradientBoostingClassifier, ExtraTreesClassifier\n",
    "from joblib import load\n",
    "\n",
    "from logger import logger\n",
    "from utils import evaluate_binary, log_mlflow"
   ]
  },
  {
   "cell_type": "code",
   "execution_count": 4,
   "metadata": {
    "execution": {
     "iopub.execute_input": "2020-09-07T19:21:50.293100Z",
     "iopub.status.busy": "2020-09-07T19:21:50.293100Z",
     "iopub.status.idle": "2020-09-07T19:21:50.482612Z",
     "shell.execute_reply": "2020-09-07T19:21:50.483094Z"
    },
    "papermill": {
     "duration": 0.250283,
     "end_time": "2020-09-07T19:21:50.483094",
     "exception": false,
     "start_time": "2020-09-07T19:21:50.232811",
     "status": "completed"
    },
    "tags": [
     "parameters"
    ]
   },
   "outputs": [],
   "source": [
    "# Tag this cell as 'parameters'\n",
    "INDEX = 'SNP'"
   ]
  },
  {
   "cell_type": "code",
   "execution_count": 5,
   "metadata": {
    "execution": {
     "iopub.execute_input": "2020-09-07T19:21:50.614783Z",
     "iopub.status.busy": "2020-09-07T19:21:50.613785Z",
     "iopub.status.idle": "2020-09-07T19:21:50.901073Z",
     "shell.execute_reply": "2020-09-07T19:21:50.902074Z"
    },
    "papermill": {
     "duration": 0.355739,
     "end_time": "2020-09-07T19:21:50.902074",
     "exception": false,
     "start_time": "2020-09-07T19:21:50.546335",
     "status": "completed"
    },
    "tags": [
     "injected-parameters"
    ]
   },
   "outputs": [],
   "source": [
    "# Parameters\n",
    "INDEX = \"HANGSENG\"\n"
   ]
  },
  {
   "cell_type": "code",
   "execution_count": 6,
   "metadata": {
    "execution": {
     "iopub.execute_input": "2020-09-07T19:21:51.047859Z",
     "iopub.status.busy": "2020-09-07T19:21:51.046859Z",
     "iopub.status.idle": "2020-09-07T19:21:51.297539Z",
     "shell.execute_reply": "2020-09-07T19:21:51.296599Z"
    },
    "papermill": {
     "duration": 0.329204,
     "end_time": "2020-09-07T19:21:51.297539",
     "exception": false,
     "start_time": "2020-09-07T19:21:50.968335",
     "status": "completed"
    },
    "tags": []
   },
   "outputs": [],
   "source": [
    "EXPERIMENT = 'stock_up_down'  # Name of experiment\n",
    "RUN_NAME = 'initial assessment'  # Name of iteration (that will show\n",
    "ARTIFACT_DIR = '../artifact_dir'  # Dir for notebook outputs where plots are saved"
   ]
  },
  {
   "cell_type": "code",
   "execution_count": 7,
   "metadata": {
    "execution": {
     "iopub.execute_input": "2020-09-07T19:21:51.422012Z",
     "iopub.status.busy": "2020-09-07T19:21:51.421010Z",
     "iopub.status.idle": "2020-09-07T19:21:51.603105Z",
     "shell.execute_reply": "2020-09-07T19:21:51.604106Z"
    },
    "papermill": {
     "duration": 0.249414,
     "end_time": "2020-09-07T19:21:51.604106",
     "exception": false,
     "start_time": "2020-09-07T19:21:51.354692",
     "status": "completed"
    },
    "tags": []
   },
   "outputs": [],
   "source": [
    "# Wrap all this is a parameter dict\n",
    "run_params = {'experiment': EXPERIMENT,\n",
    "              'iteration': RUN_NAME,\n",
    "              'index': INDEX,\n",
    "              'artifact_dir': ARTIFACT_DIR}"
   ]
  },
  {
   "cell_type": "markdown",
   "metadata": {
    "papermill": {
     "duration": 0.056362,
     "end_time": "2020-09-07T19:21:51.711986",
     "exception": false,
     "start_time": "2020-09-07T19:21:51.655624",
     "status": "completed"
    },
    "tags": []
   },
   "source": [
    "### Import data"
   ]
  },
  {
   "cell_type": "code",
   "execution_count": 8,
   "metadata": {
    "execution": {
     "iopub.execute_input": "2020-09-07T19:21:51.890994Z",
     "iopub.status.busy": "2020-09-07T19:21:51.884165Z",
     "iopub.status.idle": "2020-09-07T19:21:52.341949Z",
     "shell.execute_reply": "2020-09-07T19:21:52.343590Z"
    },
    "papermill": {
     "duration": 0.536038,
     "end_time": "2020-09-07T19:21:52.343590",
     "exception": false,
     "start_time": "2020-09-07T19:21:51.807552",
     "status": "completed"
    },
    "tags": []
   },
   "outputs": [],
   "source": [
    "df = pd.read_csv('../datadir/{}.csv'.format(INDEX))"
   ]
  },
  {
   "cell_type": "markdown",
   "metadata": {
    "papermill": {
     "duration": 0.115034,
     "end_time": "2020-09-07T19:21:52.550351",
     "exception": false,
     "start_time": "2020-09-07T19:21:52.435317",
     "status": "completed"
    },
    "tags": []
   },
   "source": [
    "### Data prep"
   ]
  },
  {
   "cell_type": "code",
   "execution_count": 9,
   "metadata": {
    "execution": {
     "iopub.execute_input": "2020-09-07T19:21:52.770124Z",
     "iopub.status.busy": "2020-09-07T19:21:52.767459Z",
     "iopub.status.idle": "2020-09-07T19:21:53.156075Z",
     "shell.execute_reply": "2020-09-07T19:21:53.156075Z"
    },
    "papermill": {
     "duration": 0.505321,
     "end_time": "2020-09-07T19:21:53.156075",
     "exception": false,
     "start_time": "2020-09-07T19:21:52.650754",
     "status": "completed"
    },
    "tags": []
   },
   "outputs": [],
   "source": [
    "df.columns = [col.lower().replace(' ', '_') for col in df.columns]"
   ]
  },
  {
   "cell_type": "code",
   "execution_count": 10,
   "metadata": {
    "execution": {
     "iopub.execute_input": "2020-09-07T19:21:53.335595Z",
     "iopub.status.busy": "2020-09-07T19:21:53.333513Z",
     "iopub.status.idle": "2020-09-07T19:21:53.674458Z",
     "shell.execute_reply": "2020-09-07T19:21:53.673458Z"
    },
    "papermill": {
     "duration": 0.398344,
     "end_time": "2020-09-07T19:21:53.674458",
     "exception": false,
     "start_time": "2020-09-07T19:21:53.276114",
     "status": "completed"
    },
    "tags": []
   },
   "outputs": [],
   "source": [
    "df.sort_values(by='date', ascending=True, inplace=True)  # Have to sort ascending for rolling to work correctly"
   ]
  },
  {
   "cell_type": "markdown",
   "metadata": {
    "papermill": {
     "duration": 0.089559,
     "end_time": "2020-09-07T19:21:53.845710",
     "exception": false,
     "start_time": "2020-09-07T19:21:53.756151",
     "status": "completed"
    },
    "tags": []
   },
   "source": [
    "### Create basic features"
   ]
  },
  {
   "cell_type": "code",
   "execution_count": 11,
   "metadata": {
    "execution": {
     "iopub.execute_input": "2020-09-07T19:21:53.974439Z",
     "iopub.status.busy": "2020-09-07T19:21:53.973432Z",
     "iopub.status.idle": "2020-09-07T19:21:54.398232Z",
     "shell.execute_reply": "2020-09-07T19:21:54.399236Z"
    },
    "papermill": {
     "duration": 0.49231,
     "end_time": "2020-09-07T19:21:54.400461",
     "exception": false,
     "start_time": "2020-09-07T19:21:53.908151",
     "status": "completed"
    },
    "tags": []
   },
   "outputs": [],
   "source": [
    "df = df[['date', 'open', 'adj_close']].copy()"
   ]
  },
  {
   "cell_type": "code",
   "execution_count": 12,
   "metadata": {
    "execution": {
     "iopub.execute_input": "2020-09-07T19:21:54.572826Z",
     "iopub.status.busy": "2020-09-07T19:21:54.569222Z",
     "iopub.status.idle": "2020-09-07T19:21:54.937919Z",
     "shell.execute_reply": "2020-09-07T19:21:54.937919Z"
    },
    "papermill": {
     "duration": 0.446887,
     "end_time": "2020-09-07T19:21:54.937919",
     "exception": false,
     "start_time": "2020-09-07T19:21:54.491032",
     "status": "completed"
    },
    "tags": []
   },
   "outputs": [],
   "source": [
    "df['prev'] = df['adj_close'].shift(1)"
   ]
  },
  {
   "cell_type": "code",
   "execution_count": 13,
   "metadata": {
    "execution": {
     "iopub.execute_input": "2020-09-07T19:21:55.134732Z",
     "iopub.status.busy": "2020-09-07T19:21:55.132902Z",
     "iopub.status.idle": "2020-09-07T19:21:55.563356Z",
     "shell.execute_reply": "2020-09-07T19:21:55.563356Z"
    },
    "papermill": {
     "duration": 0.526676,
     "end_time": "2020-09-07T19:21:55.564356",
     "exception": false,
     "start_time": "2020-09-07T19:21:55.037680",
     "status": "completed"
    },
    "tags": []
   },
   "outputs": [],
   "source": [
    "df['sma2'] = df['prev'].rolling(window=2).mean()\n",
    "df['sma5'] = df['prev'].rolling(window=5).mean()\n",
    "df['sma10'] = df['prev'].rolling(window=10).mean()\n",
    "df['sma20'] = df['prev'].rolling(window=20).mean()"
   ]
  },
  {
   "cell_type": "code",
   "execution_count": 14,
   "metadata": {
    "execution": {
     "iopub.execute_input": "2020-09-07T19:21:55.728784Z",
     "iopub.status.busy": "2020-09-07T19:21:55.723454Z",
     "iopub.status.idle": "2020-09-07T19:21:56.095986Z",
     "shell.execute_reply": "2020-09-07T19:21:56.095986Z"
    },
    "papermill": {
     "duration": 0.456271,
     "end_time": "2020-09-07T19:21:56.095986",
     "exception": false,
     "start_time": "2020-09-07T19:21:55.639715",
     "status": "completed"
    },
    "tags": []
   },
   "outputs": [],
   "source": [
    "assert round(df['prev'].tail(5).mean(), 4) == round(df['sma5'].tail(1).item(), 4), 'Expected sma5 to be same as mean of past 5 items'\n",
    "assert round(df['prev'].tail(10).mean(), 4) == round(df['sma10'].tail(1).item(), 4), 'Expected sma10 to be same as mean of past 10 items'\n",
    "assert round(df['prev'].tail(20).mean(), 4) == round(df['sma20'].tail(1).item(), 4), 'Expected sma20 to be same as mean of past 20 items'"
   ]
  },
  {
   "cell_type": "code",
   "execution_count": 15,
   "metadata": {
    "execution": {
     "iopub.execute_input": "2020-09-07T19:21:56.278913Z",
     "iopub.status.busy": "2020-09-07T19:21:56.278913Z",
     "iopub.status.idle": "2020-09-07T19:21:56.661215Z",
     "shell.execute_reply": "2020-09-07T19:21:56.661215Z"
    },
    "papermill": {
     "duration": 0.491376,
     "end_time": "2020-09-07T19:21:56.661215",
     "exception": false,
     "start_time": "2020-09-07T19:21:56.169839",
     "status": "completed"
    },
    "tags": []
   },
   "outputs": [],
   "source": [
    "df['ema12'] = df['prev'].ewm(span=12, min_periods=12, adjust=False).mean()\n",
    "df['ema26'] = df['prev'].ewm(span=26, min_periods=26, adjust=False).mean()"
   ]
  },
  {
   "cell_type": "code",
   "execution_count": 16,
   "metadata": {
    "execution": {
     "iopub.execute_input": "2020-09-07T19:21:56.781815Z",
     "iopub.status.busy": "2020-09-07T19:21:56.781815Z",
     "iopub.status.idle": "2020-09-07T19:21:57.116621Z",
     "shell.execute_reply": "2020-09-07T19:21:57.118478Z"
    },
    "papermill": {
     "duration": 0.399809,
     "end_time": "2020-09-07T19:21:57.119480",
     "exception": false,
     "start_time": "2020-09-07T19:21:56.719671",
     "status": "completed"
    },
    "tags": []
   },
   "outputs": [],
   "source": [
    "def difference(prev_price, moving_average):\n",
    "    return (prev_price - moving_average) / prev_price"
   ]
  },
  {
   "cell_type": "code",
   "execution_count": 17,
   "metadata": {
    "execution": {
     "iopub.execute_input": "2020-09-07T19:21:57.237057Z",
     "iopub.status.busy": "2020-09-07T19:21:57.236050Z",
     "iopub.status.idle": "2020-09-07T19:21:57.580989Z",
     "shell.execute_reply": "2020-09-07T19:21:57.585948Z"
    },
    "papermill": {
     "duration": 0.415509,
     "end_time": "2020-09-07T19:21:57.585948",
     "exception": false,
     "start_time": "2020-09-07T19:21:57.170439",
     "status": "completed"
    },
    "tags": []
   },
   "outputs": [],
   "source": [
    "for col in ['sma2', 'sma5', 'sma10', 'sma20', 'ema12', 'ema26']:\n",
    "    df['{}_diff'.format(col)] = difference(df['prev'], df[col])"
   ]
  },
  {
   "cell_type": "code",
   "execution_count": 18,
   "metadata": {
    "execution": {
     "iopub.execute_input": "2020-09-07T19:21:57.703229Z",
     "iopub.status.busy": "2020-09-07T19:21:57.702226Z",
     "iopub.status.idle": "2020-09-07T19:21:58.036823Z",
     "shell.execute_reply": "2020-09-07T19:21:58.036823Z"
    },
    "papermill": {
     "duration": 0.399798,
     "end_time": "2020-09-07T19:21:58.036823",
     "exception": false,
     "start_time": "2020-09-07T19:21:57.637025",
     "status": "completed"
    },
    "tags": []
   },
   "outputs": [],
   "source": [
    "df.dropna(inplace=True)"
   ]
  },
  {
   "cell_type": "code",
   "execution_count": 19,
   "metadata": {
    "execution": {
     "iopub.execute_input": "2020-09-07T19:21:58.205421Z",
     "iopub.status.busy": "2020-09-07T19:21:58.204422Z",
     "iopub.status.idle": "2020-09-07T19:21:58.542539Z",
     "shell.execute_reply": "2020-09-07T19:21:58.542539Z"
    },
    "papermill": {
     "duration": 0.404752,
     "end_time": "2020-09-07T19:21:58.542539",
     "exception": false,
     "start_time": "2020-09-07T19:21:58.137787",
     "status": "completed"
    },
    "tags": []
   },
   "outputs": [
    {
     "data": {
      "text/plain": [
       "(223, 16)"
      ]
     },
     "execution_count": 19,
     "metadata": {},
     "output_type": "execute_result"
    }
   ],
   "source": [
    "df.shape"
   ]
  },
  {
   "cell_type": "code",
   "execution_count": 20,
   "metadata": {
    "execution": {
     "iopub.execute_input": "2020-09-07T19:21:58.680190Z",
     "iopub.status.busy": "2020-09-07T19:21:58.679190Z",
     "iopub.status.idle": "2020-09-07T19:21:59.023891Z",
     "shell.execute_reply": "2020-09-07T19:21:59.023891Z"
    },
    "papermill": {
     "duration": 0.425522,
     "end_time": "2020-09-07T19:21:59.025615",
     "exception": false,
     "start_time": "2020-09-07T19:21:58.600093",
     "status": "completed"
    },
    "tags": []
   },
   "outputs": [],
   "source": [
    "df.drop(columns=['date', 'open'], inplace=True)"
   ]
  },
  {
   "cell_type": "markdown",
   "metadata": {
    "papermill": {
     "duration": 0.089135,
     "end_time": "2020-09-07T19:21:59.185260",
     "exception": false,
     "start_time": "2020-09-07T19:21:59.096125",
     "status": "completed"
    },
    "tags": []
   },
   "source": [
    "### Create label"
   ]
  },
  {
   "cell_type": "code",
   "execution_count": 21,
   "metadata": {
    "execution": {
     "iopub.execute_input": "2020-09-07T19:21:59.307146Z",
     "iopub.status.busy": "2020-09-07T19:21:59.305139Z",
     "iopub.status.idle": "2020-09-07T19:21:59.712935Z",
     "shell.execute_reply": "2020-09-07T19:21:59.712935Z"
    },
    "papermill": {
     "duration": 0.479501,
     "end_time": "2020-09-07T19:21:59.716190",
     "exception": false,
     "start_time": "2020-09-07T19:21:59.236689",
     "status": "completed"
    },
    "tags": []
   },
   "outputs": [],
   "source": [
    "df['label'] = (df['adj_close'] > df['prev']).astype(int)"
   ]
  },
  {
   "cell_type": "markdown",
   "metadata": {
    "papermill": {
     "duration": 0.124961,
     "end_time": "2020-09-07T19:21:59.904331",
     "exception": false,
     "start_time": "2020-09-07T19:21:59.779370",
     "status": "completed"
    },
    "tags": []
   },
   "source": [
    "### Train-val split"
   ]
  },
  {
   "cell_type": "code",
   "execution_count": 22,
   "metadata": {
    "execution": {
     "iopub.execute_input": "2020-09-07T19:22:00.077447Z",
     "iopub.status.busy": "2020-09-07T19:22:00.075425Z",
     "iopub.status.idle": "2020-09-07T19:22:00.414255Z",
     "shell.execute_reply": "2020-09-07T19:22:00.418352Z"
    },
    "papermill": {
     "duration": 0.430803,
     "end_time": "2020-09-07T19:22:00.418352",
     "exception": false,
     "start_time": "2020-09-07T19:21:59.987549",
     "status": "completed"
    },
    "tags": []
   },
   "outputs": [],
   "source": [
    "# Keep most recent 20 days as validation set"
   ]
  },
  {
   "cell_type": "code",
   "execution_count": 23,
   "metadata": {
    "execution": {
     "iopub.execute_input": "2020-09-07T19:22:00.551643Z",
     "iopub.status.busy": "2020-09-07T19:22:00.550612Z",
     "iopub.status.idle": "2020-09-07T19:22:00.889943Z",
     "shell.execute_reply": "2020-09-07T19:22:00.889943Z"
    },
    "papermill": {
     "duration": 0.416522,
     "end_time": "2020-09-07T19:22:00.889943",
     "exception": false,
     "start_time": "2020-09-07T19:22:00.473421",
     "status": "completed"
    },
    "tags": []
   },
   "outputs": [
    {
     "name": "stderr",
     "output_type": "stream",
     "text": [
      "2020-09-08 00:52:00,869 - No. of days - Train: 203, Val: 20\n"
     ]
    }
   ],
   "source": [
    "validation_days = 20\n",
    "train = df.iloc[:-validation_days].copy()\n",
    "val = df.iloc[-validation_days:].copy()\n",
    "logger.info('No. of days - Train: {}, Val: {}'.format(train.shape[0], val.shape[0]))"
   ]
  },
  {
   "cell_type": "markdown",
   "metadata": {
    "papermill": {
     "duration": 0.065751,
     "end_time": "2020-09-07T19:22:01.028678",
     "exception": false,
     "start_time": "2020-09-07T19:22:00.962927",
     "status": "completed"
    },
    "tags": []
   },
   "source": [
    "### Basic visualizations"
   ]
  },
  {
   "cell_type": "code",
   "execution_count": 24,
   "metadata": {
    "execution": {
     "iopub.execute_input": "2020-09-07T19:22:01.169444Z",
     "iopub.status.busy": "2020-09-07T19:22:01.168445Z",
     "iopub.status.idle": "2020-09-07T19:22:02.028889Z",
     "shell.execute_reply": "2020-09-07T19:22:02.033465Z"
    },
    "papermill": {
     "duration": 0.936109,
     "end_time": "2020-09-07T19:22:02.033465",
     "exception": false,
     "start_time": "2020-09-07T19:22:01.097356",
     "status": "completed"
    },
    "tags": []
   },
   "outputs": [
    {
     "data": {
      "text/plain": [
       "<matplotlib.legend.Legend at 0x1cda157d0b8>"
      ]
     },
     "execution_count": 24,
     "metadata": {},
     "output_type": "execute_result"
    },
    {
     "data": {
      "image/png": "[encoded data removed]",
      "text/plain": [
       "<Figure size 1080x360 with 1 Axes>"
      ]
     },
     "metadata": {
      "needs_background": "light"
     },
     "output_type": "display_data"
    }
   ],
   "source": [
    "plt.figure(figsize=(15, 5))\n",
    "plt.grid()\n",
    "plt.plot(train['adj_close'], label='price')\n",
    "plt.plot(train['sma20'], label='simple moving average 20')\n",
    "plt.plot(train['ema12'], label='exponential moving average 12')\n",
    "plt.plot(train['ema26'], label='exponential moving average 26')\n",
    "plt.legend()"
   ]
  },
  {
   "cell_type": "markdown",
   "metadata": {
    "papermill": {
     "duration": 0.052597,
     "end_time": "2020-09-07T19:22:02.143572",
     "exception": false,
     "start_time": "2020-09-07T19:22:02.090975",
     "status": "completed"
    },
    "tags": []
   },
   "source": [
    "### Feature transformations"
   ]
  },
  {
   "cell_type": "code",
   "execution_count": 25,
   "metadata": {
    "execution": {
     "iopub.execute_input": "2020-09-07T19:22:02.272706Z",
     "iopub.status.busy": "2020-09-07T19:22:02.271707Z",
     "iopub.status.idle": "2020-09-07T19:22:02.576989Z",
     "shell.execute_reply": "2020-09-07T19:22:02.583262Z"
    },
    "papermill": {
     "duration": 0.381792,
     "end_time": "2020-09-07T19:22:02.584281",
     "exception": false,
     "start_time": "2020-09-07T19:22:02.202489",
     "status": "completed"
    },
    "tags": []
   },
   "outputs": [],
   "source": [
    "scaler = StandardScaler()"
   ]
  },
  {
   "cell_type": "code",
   "execution_count": 26,
   "metadata": {
    "execution": {
     "iopub.execute_input": "2020-09-07T19:22:02.709129Z",
     "iopub.status.busy": "2020-09-07T19:22:02.709129Z",
     "iopub.status.idle": "2020-09-07T19:22:03.018652Z",
     "shell.execute_reply": "2020-09-07T19:22:03.018652Z"
    },
    "papermill": {
     "duration": 0.383299,
     "end_time": "2020-09-07T19:22:03.018652",
     "exception": false,
     "start_time": "2020-09-07T19:22:02.635353",
     "status": "completed"
    },
    "tags": []
   },
   "outputs": [],
   "source": [
    "COLS_TO_SCALE = ['prev', 'sma2', 'sma5', 'sma10', 'sma20', 'ema12', 'ema26']"
   ]
  },
  {
   "cell_type": "code",
   "execution_count": 27,
   "metadata": {
    "execution": {
     "iopub.execute_input": "2020-09-07T19:22:03.176669Z",
     "iopub.status.busy": "2020-09-07T19:22:03.176669Z",
     "iopub.status.idle": "2020-09-07T19:22:03.534198Z",
     "shell.execute_reply": "2020-09-07T19:22:03.534198Z"
    },
    "papermill": {
     "duration": 0.455775,
     "end_time": "2020-09-07T19:22:03.534198",
     "exception": false,
     "start_time": "2020-09-07T19:22:03.078423",
     "status": "completed"
    },
    "tags": []
   },
   "outputs": [
    {
     "data": {
      "text/plain": [
       "StandardScaler(copy=True, with_mean=True, with_std=True)"
      ]
     },
     "execution_count": 27,
     "metadata": {},
     "output_type": "execute_result"
    }
   ],
   "source": [
    "scaler.fit(train[COLS_TO_SCALE])"
   ]
  },
  {
   "cell_type": "code",
   "execution_count": 28,
   "metadata": {
    "execution": {
     "iopub.execute_input": "2020-09-07T19:22:03.671717Z",
     "iopub.status.busy": "2020-09-07T19:22:03.671717Z",
     "iopub.status.idle": "2020-09-07T19:22:04.024761Z",
     "shell.execute_reply": "2020-09-07T19:22:04.019265Z"
    },
    "papermill": {
     "duration": 0.431934,
     "end_time": "2020-09-07T19:22:04.024761",
     "exception": false,
     "start_time": "2020-09-07T19:22:03.592827",
     "status": "completed"
    },
    "tags": []
   },
   "outputs": [],
   "source": [
    "train[COLS_TO_SCALE] = scaler.transform(train[COLS_TO_SCALE])\n",
    "val[COLS_TO_SCALE] = scaler.transform(val[COLS_TO_SCALE])"
   ]
  },
  {
   "cell_type": "markdown",
   "metadata": {
    "papermill": {
     "duration": 0.088672,
     "end_time": "2020-09-07T19:22:04.177670",
     "exception": false,
     "start_time": "2020-09-07T19:22:04.088998",
     "status": "completed"
    },
    "tags": []
   },
   "source": [
    "### Linear regression coefficients"
   ]
  },
  {
   "cell_type": "code",
   "execution_count": 29,
   "metadata": {
    "execution": {
     "iopub.execute_input": "2020-09-07T19:22:04.322814Z",
     "iopub.status.busy": "2020-09-07T19:22:04.318447Z",
     "iopub.status.idle": "2020-09-07T19:22:04.674374Z",
     "shell.execute_reply": "2020-09-07T19:22:04.674374Z"
    },
    "papermill": {
     "duration": 0.427862,
     "end_time": "2020-09-07T19:22:04.674374",
     "exception": false,
     "start_time": "2020-09-07T19:22:04.246512",
     "status": "completed"
    },
    "tags": []
   },
   "outputs": [
    {
     "name": "stderr",
     "output_type": "stream",
     "text": [
      "2020-09-08 00:52:04,662 - x variables: prev+sma2+sma5+sma10+sma20+ema12+ema26+sma2_diff+sma5_diff+sma10_diff+sma20_diff+ema12_diff+ema26_diff\n"
     ]
    }
   ],
   "source": [
    "x_variables = '+'.join(list(train.columns[1:-1]))\n",
    "logger.info('x variables: {}'.format(x_variables))"
   ]
  },
  {
   "cell_type": "code",
   "execution_count": 30,
   "metadata": {
    "execution": {
     "iopub.execute_input": "2020-09-07T19:22:04.820064Z",
     "iopub.status.busy": "2020-09-07T19:22:04.818064Z",
     "iopub.status.idle": "2020-09-07T19:22:05.257744Z",
     "shell.execute_reply": "2020-09-07T19:22:05.257744Z"
    },
    "papermill": {
     "duration": 0.505673,
     "end_time": "2020-09-07T19:22:05.257744",
     "exception": false,
     "start_time": "2020-09-07T19:22:04.752071",
     "status": "completed"
    },
    "tags": []
   },
   "outputs": [],
   "source": [
    "results = smf.ols('adj_close ~ {}'.format(x_variables), data=train).fit()"
   ]
  },
  {
   "cell_type": "code",
   "execution_count": 31,
   "metadata": {
    "execution": {
     "iopub.execute_input": "2020-09-07T19:22:05.402604Z",
     "iopub.status.busy": "2020-09-07T19:22:05.395335Z",
     "iopub.status.idle": "2020-09-07T19:22:05.783149Z",
     "shell.execute_reply": "2020-09-07T19:22:05.783149Z"
    },
    "papermill": {
     "duration": 0.46594,
     "end_time": "2020-09-07T19:22:05.783149",
     "exception": false,
     "start_time": "2020-09-07T19:22:05.317209",
     "status": "completed"
    },
    "scrolled": false,
    "tags": []
   },
   "outputs": [
    {
     "name": "stdout",
     "output_type": "stream",
     "text": [
      "                            OLS Regression Results                            \n",
      "==============================================================================\n",
      "Dep. Variable:              adj_close   R-squared:                       0.949\n",
      "Model:                            OLS   Adj. R-squared:                  0.945\n",
      "Method:                 Least Squares   F-statistic:                     268.3\n",
      "Date:                Tue, 08 Sep 2020   Prob (F-statistic):          3.55e-114\n",
      "Time:                        00:52:05   Log-Likelihood:                -1423.8\n",
      "No. Observations:                 203   AIC:                             2876.\n",
      "Df Residuals:                     189   BIC:                             2922.\n",
      "Df Model:                          13                                         \n",
      "Covariance Type:            nonrobust                                         \n",
      "==============================================================================\n",
      "                 coef    std err          t      P>|t|      [0.025      0.975]\n",
      "------------------------------------------------------------------------------\n",
      "Intercept   2.751e+04    130.619    210.624      0.000    2.73e+04    2.78e+04\n",
      "prev       -6944.0392   4929.762     -1.409      0.161   -1.67e+04    2780.386\n",
      "sma2        1.143e+04   7132.159      1.602      0.111   -2643.464    2.55e+04\n",
      "sma5        1405.5361   1.22e+04      0.115      0.908   -2.26e+04    2.54e+04\n",
      "sma10        1.19e+04   1.71e+04      0.698      0.486   -2.17e+04    4.55e+04\n",
      "sma20        361.6405   1.07e+04      0.034      0.973   -2.08e+04    2.15e+04\n",
      "ema12      -2.003e+04   4.57e+04     -0.438      0.662    -1.1e+05    7.02e+04\n",
      "ema26       3619.2112   5812.103      0.623      0.534   -7845.714    1.51e+04\n",
      "sma2_diff   2.659e+05   1.63e+05      1.628      0.105   -5.64e+04    5.88e+05\n",
      "sma5_diff   4.986e+04   2.78e+05      0.179      0.858   -4.99e+05    5.99e+05\n",
      "sma10_diff  2.992e+05   3.99e+05      0.749      0.455   -4.89e+05    1.09e+06\n",
      "sma20_diff  3.259e+04   2.63e+05      0.124      0.902   -4.87e+05    5.52e+05\n",
      "ema12_diff -5.629e+05   1.13e+06     -0.500      0.618   -2.78e+06    1.66e+06\n",
      "ema26_diff  9.938e+04   1.56e+05      0.639      0.524   -2.07e+05    4.06e+05\n",
      "==============================================================================\n",
      "Omnibus:                        4.053   Durbin-Watson:                   2.046\n",
      "Prob(Omnibus):                  0.132   Jarque-Bera (JB):                4.353\n",
      "Skew:                          -0.164   Prob(JB):                        0.113\n",
      "Kurtosis:                       3.638   Cond. No.                     1.63e+05\n",
      "==============================================================================\n",
      "\n",
      "Warnings:\n",
      "[1] Standard Errors assume that the covariance matrix of the errors is correctly specified.\n",
      "[2] The condition number is large, 1.63e+05. This might indicate that there are\n",
      "strong multicollinearity or other numerical problems.\n"
     ]
    }
   ],
   "source": [
    "print(results.summary())"
   ]
  },
  {
   "cell_type": "markdown",
   "metadata": {
    "papermill": {
     "duration": 0.065968,
     "end_time": "2020-09-07T19:22:05.908328",
     "exception": false,
     "start_time": "2020-09-07T19:22:05.842360",
     "status": "completed"
    },
    "tags": []
   },
   "source": [
    "### Drop label col"
   ]
  },
  {
   "cell_type": "code",
   "execution_count": 32,
   "metadata": {
    "execution": {
     "iopub.execute_input": "2020-09-07T19:22:06.054350Z",
     "iopub.status.busy": "2020-09-07T19:22:06.053352Z",
     "iopub.status.idle": "2020-09-07T19:22:06.432360Z",
     "shell.execute_reply": "2020-09-07T19:22:06.434574Z"
    },
    "papermill": {
     "duration": 0.464419,
     "end_time": "2020-09-07T19:22:06.434574",
     "exception": false,
     "start_time": "2020-09-07T19:22:05.970155",
     "status": "completed"
    },
    "tags": []
   },
   "outputs": [],
   "source": [
    "train.drop(columns=['adj_close'], inplace=True)\n",
    "val.drop(columns=['adj_close'], inplace=True)"
   ]
  },
  {
   "cell_type": "markdown",
   "metadata": {
    "papermill": {
     "duration": 0.070617,
     "end_time": "2020-09-07T19:22:06.575297",
     "exception": false,
     "start_time": "2020-09-07T19:22:06.504680",
     "status": "completed"
    },
    "tags": []
   },
   "source": [
    "### Logistic Regression Coefficients"
   ]
  },
  {
   "cell_type": "code",
   "execution_count": 33,
   "metadata": {
    "execution": {
     "iopub.execute_input": "2020-09-07T19:22:06.723071Z",
     "iopub.status.busy": "2020-09-07T19:22:06.723071Z",
     "iopub.status.idle": "2020-09-07T19:22:07.090547Z",
     "shell.execute_reply": "2020-09-07T19:22:07.090547Z"
    },
    "papermill": {
     "duration": 0.44187,
     "end_time": "2020-09-07T19:22:07.090547",
     "exception": false,
     "start_time": "2020-09-07T19:22:06.648677",
     "status": "completed"
    },
    "tags": []
   },
   "outputs": [],
   "source": [
    "y = train['label'].values\n",
    "X = train.drop(columns=['label'])"
   ]
  },
  {
   "cell_type": "code",
   "execution_count": 34,
   "metadata": {
    "execution": {
     "iopub.execute_input": "2020-09-07T19:22:07.247818Z",
     "iopub.status.busy": "2020-09-07T19:22:07.246032Z",
     "iopub.status.idle": "2020-09-07T19:22:07.568978Z",
     "shell.execute_reply": "2020-09-07T19:22:07.567981Z"
    },
    "papermill": {
     "duration": 0.401125,
     "end_time": "2020-09-07T19:22:07.568978",
     "exception": false,
     "start_time": "2020-09-07T19:22:07.167853",
     "status": "completed"
    },
    "tags": []
   },
   "outputs": [],
   "source": [
    "X = add_constant(X)"
   ]
  },
  {
   "cell_type": "code",
   "execution_count": 35,
   "metadata": {
    "execution": {
     "iopub.execute_input": "2020-09-07T19:22:07.693844Z",
     "iopub.status.busy": "2020-09-07T19:22:07.692836Z",
     "iopub.status.idle": "2020-09-07T19:22:08.050608Z",
     "shell.execute_reply": "2020-09-07T19:22:08.050608Z"
    },
    "papermill": {
     "duration": 0.424792,
     "end_time": "2020-09-07T19:22:08.050608",
     "exception": false,
     "start_time": "2020-09-07T19:22:07.625816",
     "status": "completed"
    },
    "tags": []
   },
   "outputs": [],
   "source": [
    "logit = sm.Logit(y, X)"
   ]
  },
  {
   "cell_type": "code",
   "execution_count": 36,
   "metadata": {
    "execution": {
     "iopub.execute_input": "2020-09-07T19:22:08.200072Z",
     "iopub.status.busy": "2020-09-07T19:22:08.197055Z",
     "iopub.status.idle": "2020-09-07T19:22:08.573333Z",
     "shell.execute_reply": "2020-09-07T19:22:08.572332Z"
    },
    "papermill": {
     "duration": 0.453225,
     "end_time": "2020-09-07T19:22:08.573333",
     "exception": false,
     "start_time": "2020-09-07T19:22:08.120108",
     "status": "completed"
    },
    "tags": []
   },
   "outputs": [
    {
     "name": "stdout",
     "output_type": "stream",
     "text": [
      "Warning: Maximum number of iterations has been exceeded.\n",
      "         Current function value: 7.346979\n",
      "         Iterations: 35\n",
      "                           Logit Regression Results                           \n",
      "==============================================================================\n",
      "Dep. Variable:                      y   No. Observations:                  203\n",
      "Model:                          Logit   Df Residuals:                      189\n",
      "Method:                           MLE   Df Model:                           13\n",
      "Date:                Tue, 08 Sep 2020   Pseudo R-squ.:                  -9.600\n",
      "Time:                        00:52:08   Log-Likelihood:                -1491.4\n",
      "converged:                      False   LL-Null:                       -140.71\n",
      "Covariance Type:            nonrobust   LLR p-value:                     1.000\n",
      "==============================================================================\n",
      "                 coef    std err          z      P>|z|      [0.025      0.975]\n",
      "------------------------------------------------------------------------------\n",
      "const        -81.2685     19.130     -4.248      0.000    -118.762     -43.775\n",
      "prev       -2850.2138    654.893     -4.352      0.000   -4133.780   -1566.648\n",
      "sma2       -1830.5790    466.424     -3.925      0.000   -2744.754    -916.404\n",
      "sma5       -1.404e+04   3239.756     -4.335      0.000   -2.04e+04   -7693.753\n",
      "sma10      -1.985e+04   4584.902     -4.330      0.000   -2.88e+04   -1.09e+04\n",
      "sma20      -1.277e+04   2944.759     -4.338      0.000   -1.85e+04   -7001.940\n",
      "ema12       5.562e+04   1.28e+04      4.330      0.000    3.04e+04    8.08e+04\n",
      "ema26      -6027.2096   1403.605     -4.294      0.000   -8778.224   -3276.195\n",
      "sma2_diff  -4.168e+04   1.06e+04     -3.936      0.000   -6.24e+04   -2.09e+04\n",
      "sma5_diff  -3.166e+05   7.31e+04     -4.333      0.000    -4.6e+05   -1.73e+05\n",
      "sma10_diff -4.559e+05   1.05e+05     -4.329      0.000   -6.62e+05   -2.49e+05\n",
      "sma20_diff -3.084e+05   7.11e+04     -4.338      0.000   -4.48e+05   -1.69e+05\n",
      "ema12_diff  1.345e+06   3.11e+05      4.329      0.000    7.36e+05    1.95e+06\n",
      "ema26_diff -1.586e+05   3.69e+04     -4.292      0.000   -2.31e+05   -8.62e+04\n",
      "==============================================================================\n",
      "\n",
      "Possibly complete quasi-separation: A fraction 0.29 of observations can be\n",
      "perfectly predicted. This might indicate that there is complete\n",
      "quasi-separation. In this case some parameters will not be identified.\n"
     ]
    },
    {
     "name": "stderr",
     "output_type": "stream",
     "text": [
      "C:\\Users\\ShadabHussain\\Anaconda3\\lib\\site-packages\\statsmodels\\base\\model.py:512: ConvergenceWarning: Maximum Likelihood optimization failed to converge. Check mle_retvals\n",
      "  \"Check mle_retvals\", ConvergenceWarning)\n"
     ]
    }
   ],
   "source": [
    "result = logit.fit()\n",
    "print(result.summary())"
   ]
  },
  {
   "cell_type": "markdown",
   "metadata": {
    "papermill": {
     "duration": 0.057905,
     "end_time": "2020-09-07T19:22:08.692050",
     "exception": false,
     "start_time": "2020-09-07T19:22:08.634145",
     "status": "completed"
    },
    "tags": []
   },
   "source": [
    "### Train some basic models"
   ]
  },
  {
   "cell_type": "code",
   "execution_count": 37,
   "metadata": {
    "execution": {
     "iopub.execute_input": "2020-09-07T19:22:08.823399Z",
     "iopub.status.busy": "2020-09-07T19:22:08.823399Z",
     "iopub.status.idle": "2020-09-07T19:22:09.141837Z",
     "shell.execute_reply": "2020-09-07T19:22:09.141837Z"
    },
    "papermill": {
     "duration": 0.387638,
     "end_time": "2020-09-07T19:22:09.141837",
     "exception": false,
     "start_time": "2020-09-07T19:22:08.754199",
     "status": "completed"
    },
    "tags": []
   },
   "outputs": [],
   "source": [
    "y_train = train['label'].values\n",
    "X_train = train.drop(columns='label').values\n",
    "\n",
    "y_val = val['label'].values\n",
    "X_val = val.drop(columns='label').values"
   ]
  },
  {
   "cell_type": "code",
   "execution_count": 38,
   "metadata": {
    "execution": {
     "iopub.execute_input": "2020-09-07T19:22:09.269823Z",
     "iopub.status.busy": "2020-09-07T19:22:09.269823Z",
     "iopub.status.idle": "2020-09-07T19:22:11.506539Z",
     "shell.execute_reply": "2020-09-07T19:22:11.515065Z"
    },
    "papermill": {
     "duration": 2.314378,
     "end_time": "2020-09-07T19:22:11.515065",
     "exception": false,
     "start_time": "2020-09-07T19:22:09.200687",
     "status": "completed"
    },
    "tags": []
   },
   "outputs": [
    {
     "name": "stderr",
     "output_type": "stream",
     "text": [
      "2020-09-08 00:52:09,635 - AUC: 0.616 | Recall: 0.667 | Precision: 0.545 | F1: 0.600\n"
     ]
    },
    {
     "name": "stderr",
     "output_type": "stream",
     "text": [
      "2020-09-08 00:52:09,857 - ROC curve saved to: ../artifact_dir/plots/roc_curve_Logistic Regression (auc = 0.62).png\n"
     ]
    },
    {
     "name": "stderr",
     "output_type": "stream",
     "text": [
      "2020-09-08 00:52:10,150 - Precision-recall curve saved to: ../artifact_dir/plots/precision_recall_Logistic Regression prec= 0.55 recall= 0.67.png\n"
     ]
    },
    {
     "name": "stderr",
     "output_type": "stream",
     "text": [
      "2020-09-08 00:52:10,151 - Model saved to: ../artifact_dir/models/Logistic Regression.pickle\n"
     ]
    },
    {
     "name": "stderr",
     "output_type": "stream",
     "text": [
      "C:\\Users\\ShadabHussain\\Anaconda3\\lib\\site-packages\\py4j\\java_collections.py:13: DeprecationWarning: Using or importing the ABCs from 'collections' instead of from 'collections.abc' is deprecated, and in 3.8 it will stop working\n",
      "  from collections import (\n",
      "C:\\Users\\ShadabHussain\\Anaconda3\\lib\\site-packages\\pyspark\\resultiterable.py:23: DeprecationWarning: Using or importing the ABCs from 'collections' instead of from 'collections.abc' is deprecated, and in 3.8 it will stop working\n",
      "  class ResultIterable(collections.Iterable):\n"
     ]
    },
    {
     "data": {
      "image/png": "[encoded data removed]",
      "text/plain": [
       "<Figure size 360x360 with 1 Axes>"
      ]
     },
     "metadata": {
      "needs_background": "light"
     },
     "output_type": "display_data"
    },
    {
     "data": {
      "image/png": "[encoded data removed]",
      "text/plain": [
       "<Figure size 1080x360 with 1 Axes>"
      ]
     },
     "metadata": {
      "needs_background": "light"
     },
     "output_type": "display_data"
    }
   ],
   "source": [
    "# Logistic regression\n",
    "model_name = 'Logistic Regression'\n",
    "model = LogisticRegression(fit_intercept=False).fit(X_train, y_train)\n",
    "pred = model.predict_proba(X_val)[:, 1]\n",
    "log_mlflow(run_params, model, model_name, y_val, pred)"
   ]
  },
  {
   "cell_type": "code",
   "execution_count": 39,
   "metadata": {
    "execution": {
     "iopub.execute_input": "2020-09-07T19:22:11.732148Z",
     "iopub.status.busy": "2020-09-07T19:22:11.732148Z",
     "iopub.status.idle": "2020-09-07T19:22:13.339966Z",
     "shell.execute_reply": "2020-09-07T19:22:13.346405Z"
    },
    "papermill": {
     "duration": 1.716126,
     "end_time": "2020-09-07T19:22:13.346405",
     "exception": false,
     "start_time": "2020-09-07T19:22:11.630279",
     "status": "completed"
    },
    "tags": []
   },
   "outputs": [
    {
     "name": "stderr",
     "output_type": "stream",
     "text": [
      "2020-09-08 00:52:12,251 - AUC: 0.566 | Recall: 0.000 | Precision: 0.000 | F1: 0.000\n"
     ]
    },
    {
     "name": "stderr",
     "output_type": "stream",
     "text": [
      "2020-09-08 00:52:12,431 - ROC curve saved to: ../artifact_dir/plots/roc_curve_Support Vector Classifier (auc = 0.57).png\n"
     ]
    },
    {
     "name": "stderr",
     "output_type": "stream",
     "text": [
      "2020-09-08 00:52:12,648 - Precision-recall curve saved to: ../artifact_dir/plots/precision_recall_Support Vector Classifier prec= 0.00 recall= 0.00.png\n"
     ]
    },
    {
     "name": "stderr",
     "output_type": "stream",
     "text": [
      "2020-09-08 00:52:12,656 - Model saved to: ../artifact_dir/models/Support Vector Classifier.pickle\n"
     ]
    },
    {
     "data": {
      "image/png": "[encoded data removed]",
      "text/plain": [
       "<Figure size 360x360 with 1 Axes>"
      ]
     },
     "metadata": {
      "needs_background": "light"
     },
     "output_type": "display_data"
    },
    {
     "data": {
      "image/png": "[encoded data removed]",
      "text/plain": [
       "<Figure size 1080x360 with 1 Axes>"
      ]
     },
     "metadata": {
      "needs_background": "light"
     },
     "output_type": "display_data"
    }
   ],
   "source": [
    "# Support vector classifier\n",
    "model_name = 'Support Vector Classifier'\n",
    "model = SVC(gamma=2, C=1, probability=True).fit(X_train, y_train)\n",
    "pred = model.predict_proba(X_val)[:, 1]\n",
    "log_mlflow(run_params, model, model_name, y_val, pred)"
   ]
  },
  {
   "cell_type": "code",
   "execution_count": 40,
   "metadata": {
    "execution": {
     "iopub.execute_input": "2020-09-07T19:22:13.528363Z",
     "iopub.status.busy": "2020-09-07T19:22:13.525643Z",
     "iopub.status.idle": "2020-09-07T19:22:15.519857Z",
     "shell.execute_reply": "2020-09-07T19:22:15.519857Z"
    },
    "papermill": {
     "duration": 2.077827,
     "end_time": "2020-09-07T19:22:15.526039",
     "exception": false,
     "start_time": "2020-09-07T19:22:13.448212",
     "status": "completed"
    },
    "tags": []
   },
   "outputs": [
    {
     "name": "stderr",
     "output_type": "stream",
     "text": [
      "2020-09-08 00:52:13,870 - AUC: 0.480 | Recall: 0.667 | Precision: 0.375 | F1: 0.480\n"
     ]
    },
    {
     "name": "stderr",
     "output_type": "stream",
     "text": [
      "2020-09-08 00:52:14,068 - ROC curve saved to: ../artifact_dir/plots/roc_curve_K-nearest Neighbours (auc = 0.48).png\n"
     ]
    },
    {
     "name": "stderr",
     "output_type": "stream",
     "text": [
      "2020-09-08 00:52:14,330 - Precision-recall curve saved to: ../artifact_dir/plots/precision_recall_K-nearest Neighbours prec= 0.38 recall= 0.67.png\n"
     ]
    },
    {
     "name": "stderr",
     "output_type": "stream",
     "text": [
      "2020-09-08 00:52:14,332 - Model saved to: ../artifact_dir/models/K-nearest Neighbours.pickle\n"
     ]
    },
    {
     "data": {
      "image/png": "[encoded data removed]",
      "text/plain": [
       "<Figure size 360x360 with 1 Axes>"
      ]
     },
     "metadata": {
      "needs_background": "light"
     },
     "output_type": "display_data"
    },
    {
     "data": {
      "image/png": "[encoded data removed]",
      "text/plain": [
       "<Figure size 1080x360 with 1 Axes>"
      ]
     },
     "metadata": {
      "needs_background": "light"
     },
     "output_type": "display_data"
    }
   ],
   "source": [
    "# K-neighbours\n",
    "model_name = 'K-nearest Neighbours'\n",
    "model = KNeighborsClassifier(5).fit(X_train, y_train)\n",
    "pred = model.predict_proba(X_val)[:, 1]\n",
    "log_mlflow(run_params, model, model_name, y_val, pred)"
   ]
  },
  {
   "cell_type": "code",
   "execution_count": 41,
   "metadata": {
    "execution": {
     "iopub.execute_input": "2020-09-07T19:22:15.677564Z",
     "iopub.status.busy": "2020-09-07T19:22:15.675767Z",
     "iopub.status.idle": "2020-09-07T19:22:17.519731Z",
     "shell.execute_reply": "2020-09-07T19:22:17.521734Z"
    },
    "papermill": {
     "duration": 1.923578,
     "end_time": "2020-09-07T19:22:17.521734",
     "exception": false,
     "start_time": "2020-09-07T19:22:15.598156",
     "status": "completed"
    },
    "tags": []
   },
   "outputs": [
    {
     "name": "stderr",
     "output_type": "stream",
     "text": [
      "2020-09-08 00:52:16,171 - AUC: 0.636 | Recall: 0.667 | Precision: 0.429 | F1: 0.522\n"
     ]
    },
    {
     "name": "stderr",
     "output_type": "stream",
     "text": [
      "2020-09-08 00:52:16,442 - ROC curve saved to: ../artifact_dir/plots/roc_curve_Gradient Boosting Machine (auc = 0.64).png\n"
     ]
    },
    {
     "name": "stderr",
     "output_type": "stream",
     "text": [
      "2020-09-08 00:52:16,721 - Precision-recall curve saved to: ../artifact_dir/plots/precision_recall_Gradient Boosting Machine prec= 0.43 recall= 0.67.png\n"
     ]
    },
    {
     "name": "stderr",
     "output_type": "stream",
     "text": [
      "2020-09-08 00:52:16,727 - Model saved to: ../artifact_dir/models/Gradient Boosting Machine.pickle\n"
     ]
    },
    {
     "data": {
      "image/png": "[encoded data removed]",
      "text/plain": [
       "<Figure size 360x360 with 1 Axes>"
      ]
     },
     "metadata": {
      "needs_background": "light"
     },
     "output_type": "display_data"
    },
    {
     "data": {
      "image/png": "[encoded data removed]",
      "text/plain": [
       "<Figure size 1080x360 with 1 Axes>"
      ]
     },
     "metadata": {
      "needs_background": "light"
     },
     "output_type": "display_data"
    }
   ],
   "source": [
    "# Gradient Boosting\n",
    "model_name = 'Gradient Boosting Machine'\n",
    "model = GradientBoostingClassifier().fit(X_train, y_train)\n",
    "pred = model.predict_proba(X_val)[:, 1]\n",
    "log_mlflow(run_params, model, model_name, y_val, pred)"
   ]
  },
  {
   "cell_type": "code",
   "execution_count": 42,
   "metadata": {
    "execution": {
     "iopub.execute_input": "2020-09-07T19:22:17.764543Z",
     "iopub.status.busy": "2020-09-07T19:22:17.762557Z",
     "iopub.status.idle": "2020-09-07T19:22:19.712682Z",
     "shell.execute_reply": "2020-09-07T19:22:19.712682Z"
    },
    "papermill": {
     "duration": 2.082543,
     "end_time": "2020-09-07T19:22:19.712682",
     "exception": false,
     "start_time": "2020-09-07T19:22:17.630139",
     "status": "completed"
    },
    "tags": []
   },
   "outputs": [
    {
     "name": "stderr",
     "output_type": "stream",
     "text": [
      "2020-09-08 00:52:18,461 - AUC: 0.338 | Recall: 0.778 | Precision: 0.438 | F1: 0.560\n"
     ]
    },
    {
     "name": "stderr",
     "output_type": "stream",
     "text": [
      "2020-09-08 00:52:18,631 - ROC curve saved to: ../artifact_dir/plots/roc_curve_Extra Trees (auc = 0.34).png\n"
     ]
    },
    {
     "name": "stderr",
     "output_type": "stream",
     "text": [
      "2020-09-08 00:52:18,909 - Precision-recall curve saved to: ../artifact_dir/plots/precision_recall_Extra Trees prec= 0.44 recall= 0.78.png\n"
     ]
    },
    {
     "name": "stderr",
     "output_type": "stream",
     "text": [
      "2020-09-08 00:52:18,913 - Model saved to: ../artifact_dir/models/Extra Trees.pickle\n"
     ]
    },
    {
     "data": {
      "image/png": "[encoded data removed]",
      "text/plain": [
       "<Figure size 360x360 with 1 Axes>"
      ]
     },
     "metadata": {
      "needs_background": "light"
     },
     "output_type": "display_data"
    },
    {
     "data": {
      "image/png": "[encoded data removed]",
      "text/plain": [
       "<Figure size 1080x360 with 1 Axes>"
      ]
     },
     "metadata": {
      "needs_background": "light"
     },
     "output_type": "display_data"
    }
   ],
   "source": [
    "# Bagged trees\n",
    "model_name = 'Extra Trees'\n",
    "model = ExtraTreesClassifier().fit(X_train, y_train)\n",
    "pred = model.predict_proba(X_val)[:, 1]\n",
    "log_mlflow(run_params, model, model_name, y_val, pred)"
   ]
  },
  {
   "cell_type": "markdown",
   "metadata": {
    "papermill": {
     "duration": 0.112789,
     "end_time": "2020-09-07T19:22:19.912713",
     "exception": false,
     "start_time": "2020-09-07T19:22:19.799924",
     "status": "completed"
    },
    "tags": []
   },
   "source": [
    "### Test loading model"
   ]
  },
  {
   "cell_type": "code",
   "execution_count": 43,
   "metadata": {
    "execution": {
     "iopub.execute_input": "2020-09-07T19:22:20.267660Z",
     "iopub.status.busy": "2020-09-07T19:22:20.265656Z",
     "iopub.status.idle": "2020-09-07T19:22:20.806733Z",
     "shell.execute_reply": "2020-09-07T19:22:20.807740Z"
    },
    "papermill": {
     "duration": 0.722676,
     "end_time": "2020-09-07T19:22:20.809392",
     "exception": false,
     "start_time": "2020-09-07T19:22:20.086716",
     "status": "completed"
    },
    "tags": []
   },
   "outputs": [],
   "source": [
    "model_name = 'Support Vector Classifier'\n",
    "check_model = load('{}/models/{}.pickle'.format(ARTIFACT_DIR, model_name))"
   ]
  },
  {
   "cell_type": "code",
   "execution_count": 44,
   "metadata": {
    "execution": {
     "iopub.execute_input": "2020-09-07T19:22:21.086807Z",
     "iopub.status.busy": "2020-09-07T19:22:21.082156Z",
     "iopub.status.idle": "2020-09-07T19:22:21.481195Z",
     "shell.execute_reply": "2020-09-07T19:22:21.479670Z"
    },
    "papermill": {
     "duration": 0.532166,
     "end_time": "2020-09-07T19:22:21.481195",
     "exception": false,
     "start_time": "2020-09-07T19:22:20.949029",
     "status": "completed"
    },
    "tags": []
   },
   "outputs": [
    {
     "data": {
      "text/plain": [
       "SVC(C=1, cache_size=200, class_weight=None, coef0=0.0,\n",
       "    decision_function_shape='ovr', degree=3, gamma=2, kernel='rbf', max_iter=-1,\n",
       "    probability=True, random_state=None, shrinking=True, tol=0.001,\n",
       "    verbose=False)"
      ]
     },
     "execution_count": 44,
     "metadata": {},
     "output_type": "execute_result"
    }
   ],
   "source": [
    "check_model"
   ]
  },
  {
   "cell_type": "code",
   "execution_count": 45,
   "metadata": {
    "execution": {
     "iopub.execute_input": "2020-09-07T19:22:21.653195Z",
     "iopub.status.busy": "2020-09-07T19:22:21.653195Z",
     "iopub.status.idle": "2020-09-07T19:22:22.043509Z",
     "shell.execute_reply": "2020-09-07T19:22:22.044666Z"
    },
    "papermill": {
     "duration": 0.48251,
     "end_time": "2020-09-07T19:22:22.045684",
     "exception": false,
     "start_time": "2020-09-07T19:22:21.563174",
     "status": "completed"
    },
    "tags": []
   },
   "outputs": [],
   "source": [
    "pred = check_model.predict_proba(X_val)[:, 1]"
   ]
  },
  {
   "cell_type": "code",
   "execution_count": 46,
   "metadata": {
    "execution": {
     "iopub.execute_input": "2020-09-07T19:22:22.311981Z",
     "iopub.status.busy": "2020-09-07T19:22:22.310011Z",
     "iopub.status.idle": "2020-09-07T19:22:22.733389Z",
     "shell.execute_reply": "2020-09-07T19:22:22.730360Z"
    },
    "papermill": {
     "duration": 0.588555,
     "end_time": "2020-09-07T19:22:22.733389",
     "exception": false,
     "start_time": "2020-09-07T19:22:22.144834",
     "status": "completed"
    },
    "tags": []
   },
   "outputs": [
    {
     "name": "stderr",
     "output_type": "stream",
     "text": [
      "2020-09-08 00:52:22,704 - AUC: 0.566 | Recall: 0.000 | Precision: 0.000 | F1: 0.000\n"
     ]
    },
    {
     "data": {
      "text/plain": [
       "(0.5656565656565656, 0.0, 0.0, 0.0)"
      ]
     },
     "execution_count": 46,
     "metadata": {},
     "output_type": "execute_result"
    }
   ],
   "source": [
    "evaluate_binary(y_val, pred)"
   ]
  }
 ],
 "metadata": {
  "kernelspec": {
   "display_name": "Python 3",
   "language": "python",
   "name": "python3"
  },
  "language_info": {
   "codemirror_mode": {
    "name": "ipython",
    "version": 3
   },
   "file_extension": ".py",
   "mimetype": "text/x-python",
   "name": "python",
   "nbconvert_exporter": "python",
   "pygments_lexer": "ipython3",
   "version": "3.7.3"
  },
  "papermill": {
   "duration": 40.102603,
   "end_time": "2020-09-07T19:22:23.718082",
   "environment_variables": {},
   "exception": null,
   "input_path": "stock_up_down_parametrize.ipynb",
   "output_path": "../artifact_dir/notebooks/stock_up_down_HANGSENG.ipynb",
   "parameters": {
    "INDEX": "HANGSENG"
   },
   "start_time": "2020-09-07T19:21:43.615479",
   "version": "2.1.3"
  }
 },
 "nbformat": 4,
 "nbformat_minor": 4
}