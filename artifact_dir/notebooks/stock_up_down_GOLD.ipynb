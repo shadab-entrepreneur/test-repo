{
 "cells": [
  {
   "cell_type": "code",
   "execution_count": 1,
   "metadata": {
    "execution": {
     "iopub.execute_input": "2020-09-07T19:20:22.057596Z",
     "iopub.status.busy": "2020-09-07T19:20:22.057596Z",
     "iopub.status.idle": "2020-09-07T19:20:22.134501Z",
     "shell.execute_reply": "2020-09-07T19:20:22.133499Z"
    },
    "papermill": {
     "duration": 0.141106,
     "end_time": "2020-09-07T19:20:22.134501",
     "exception": false,
     "start_time": "2020-09-07T19:20:21.993395",
     "status": "completed"
    },
    "tags": []
   },
   "outputs": [],
   "source": [
    "%load_ext autoreload\n",
    "%autoreload 2"
   ]
  },
  {
   "cell_type": "code",
   "execution_count": 2,
   "metadata": {
    "execution": {
     "iopub.execute_input": "2020-09-07T19:20:22.273731Z",
     "iopub.status.busy": "2020-09-07T19:20:22.272729Z",
     "iopub.status.idle": "2020-09-07T19:20:22.341768Z",
     "shell.execute_reply": "2020-09-07T19:20:22.342763Z"
    },
    "papermill": {
     "duration": 0.153059,
     "end_time": "2020-09-07T19:20:22.343902",
     "exception": false,
     "start_time": "2020-09-07T19:20:22.190843",
     "status": "completed"
    },
    "tags": []
   },
   "outputs": [],
   "source": [
    "import warnings\n",
    "warnings.filterwarnings(\"ignore\")"
   ]
  },
  {
   "cell_type": "code",
   "execution_count": 3,
   "metadata": {
    "execution": {
     "iopub.execute_input": "2020-09-07T19:20:22.456931Z",
     "iopub.status.busy": "2020-09-07T19:20:22.455452Z",
     "iopub.status.idle": "2020-09-07T19:20:28.441701Z",
     "shell.execute_reply": "2020-09-07T19:20:28.443669Z"
    },
    "papermill": {
     "duration": 6.045947,
     "end_time": "2020-09-07T19:20:28.443669",
     "exception": false,
     "start_time": "2020-09-07T19:20:22.397722",
     "status": "completed"
    },
    "tags": []
   },
   "outputs": [],
   "source": [
    "import pandas as pd\n",
    "import matplotlib.pyplot as plt\n",
    "import statsmodels.api as sm\n",
    "import statsmodels.formula.api as smf\n",
    "from statsmodels.tools.tools import add_constant\n",
    "from sklearn.preprocessing import StandardScaler\n",
    "from sklearn.linear_model import LogisticRegression\n",
    "from sklearn.svm import SVC\n",
    "from sklearn.neighbors import KNeighborsClassifier\n",
    "from sklearn.ensemble import GradientBoostingClassifier, ExtraTreesClassifier\n",
    "from joblib import load\n",
    "\n",
    "from logger import logger\n",
    "from utils import evaluate_binary, log_mlflow"
   ]
  },
  {
   "cell_type": "code",
   "execution_count": 4,
   "metadata": {
    "execution": {
     "iopub.execute_input": "2020-09-07T19:20:28.589691Z",
     "iopub.status.busy": "2020-09-07T19:20:28.587661Z",
     "iopub.status.idle": "2020-09-07T19:20:28.935266Z",
     "shell.execute_reply": "2020-09-07T19:20:28.936263Z"
    },
    "papermill": {
     "duration": 0.431647,
     "end_time": "2020-09-07T19:20:28.937261",
     "exception": false,
     "start_time": "2020-09-07T19:20:28.505614",
     "status": "completed"
    },
    "tags": [
     "parameters"
    ]
   },
   "outputs": [],
   "source": [
    "# Tag this cell as 'parameters'\n",
    "INDEX = 'SNP'"
   ]
  },
  {
   "cell_type": "code",
   "execution_count": 5,
   "metadata": {
    "execution": {
     "iopub.execute_input": "2020-09-07T19:20:29.066802Z",
     "iopub.status.busy": "2020-09-07T19:20:29.061344Z",
     "iopub.status.idle": "2020-09-07T19:20:29.378558Z",
     "shell.execute_reply": "2020-09-07T19:20:29.379579Z"
    },
    "papermill": {
     "duration": 0.389063,
     "end_time": "2020-09-07T19:20:29.380559",
     "exception": false,
     "start_time": "2020-09-07T19:20:28.991496",
     "status": "completed"
    },
    "tags": [
     "injected-parameters"
    ]
   },
   "outputs": [],
   "source": [
    "# Parameters\n",
    "INDEX = \"GOLD\"\n"
   ]
  },
  {
   "cell_type": "code",
   "execution_count": 6,
   "metadata": {
    "execution": {
     "iopub.execute_input": "2020-09-07T19:20:29.493796Z",
     "iopub.status.busy": "2020-09-07T19:20:29.492440Z",
     "iopub.status.idle": "2020-09-07T19:20:29.824603Z",
     "shell.execute_reply": "2020-09-07T19:20:29.824603Z"
    },
    "papermill": {
     "duration": 0.389243,
     "end_time": "2020-09-07T19:20:29.824603",
     "exception": false,
     "start_time": "2020-09-07T19:20:29.435360",
     "status": "completed"
    },
    "tags": []
   },
   "outputs": [],
   "source": [
    "EXPERIMENT = 'stock_up_down'  # Name of experiment\n",
    "RUN_NAME = 'initial assessment'  # Name of iteration (that will show\n",
    "ARTIFACT_DIR = '../artifact_dir'  # Dir for notebook outputs where plots are saved"
   ]
  },
  {
   "cell_type": "code",
   "execution_count": 7,
   "metadata": {
    "execution": {
     "iopub.execute_input": "2020-09-07T19:20:29.963642Z",
     "iopub.status.busy": "2020-09-07T19:20:29.955613Z",
     "iopub.status.idle": "2020-09-07T19:20:30.314826Z",
     "shell.execute_reply": "2020-09-07T19:20:30.314826Z"
    },
    "papermill": {
     "duration": 0.423558,
     "end_time": "2020-09-07T19:20:30.314826",
     "exception": false,
     "start_time": "2020-09-07T19:20:29.891268",
     "status": "completed"
    },
    "tags": []
   },
   "outputs": [],
   "source": [
    "# Wrap all this is a parameter dict\n",
    "run_params = {'experiment': EXPERIMENT,\n",
    "              'iteration': RUN_NAME,\n",
    "              'index': INDEX,\n",
    "              'artifact_dir': ARTIFACT_DIR}"
   ]
  },
  {
   "cell_type": "markdown",
   "metadata": {
    "papermill": {
     "duration": 0.070242,
     "end_time": "2020-09-07T19:20:30.450515",
     "exception": false,
     "start_time": "2020-09-07T19:20:30.380273",
     "status": "completed"
    },
    "tags": []
   },
   "source": [
    "### Import data"
   ]
  },
  {
   "cell_type": "code",
   "execution_count": 8,
   "metadata": {
    "execution": {
     "iopub.execute_input": "2020-09-07T19:20:30.596614Z",
     "iopub.status.busy": "2020-09-07T19:20:30.590668Z",
     "iopub.status.idle": "2020-09-07T19:20:30.971116Z",
     "shell.execute_reply": "2020-09-07T19:20:30.971116Z"
    },
    "papermill": {
     "duration": 0.448596,
     "end_time": "2020-09-07T19:20:30.971116",
     "exception": false,
     "start_time": "2020-09-07T19:20:30.522520",
     "status": "completed"
    },
    "tags": []
   },
   "outputs": [],
   "source": [
    "df = pd.read_csv('../datadir/{}.csv'.format(INDEX))"
   ]
  },
  {
   "cell_type": "markdown",
   "metadata": {
    "papermill": {
     "duration": 0.055984,
     "end_time": "2020-09-07T19:20:31.088655",
     "exception": false,
     "start_time": "2020-09-07T19:20:31.032671",
     "status": "completed"
    },
    "tags": []
   },
   "source": [
    "### Data prep"
   ]
  },
  {
   "cell_type": "code",
   "execution_count": 9,
   "metadata": {
    "execution": {
     "iopub.execute_input": "2020-09-07T19:20:31.251679Z",
     "iopub.status.busy": "2020-09-07T19:20:31.250678Z",
     "iopub.status.idle": "2020-09-07T19:20:31.581319Z",
     "shell.execute_reply": "2020-09-07T19:20:31.580319Z"
    },
    "papermill": {
     "duration": 0.405209,
     "end_time": "2020-09-07T19:20:31.583131",
     "exception": false,
     "start_time": "2020-09-07T19:20:31.177922",
     "status": "completed"
    },
    "tags": []
   },
   "outputs": [],
   "source": [
    "df.columns = [col.lower().replace(' ', '_') for col in df.columns]"
   ]
  },
  {
   "cell_type": "code",
   "execution_count": 10,
   "metadata": {
    "execution": {
     "iopub.execute_input": "2020-09-07T19:20:31.735663Z",
     "iopub.status.busy": "2020-09-07T19:20:31.735663Z",
     "iopub.status.idle": "2020-09-07T19:20:32.054325Z",
     "shell.execute_reply": "2020-09-07T19:20:32.055325Z"
    },
    "papermill": {
     "duration": 0.416178,
     "end_time": "2020-09-07T19:20:32.055325",
     "exception": false,
     "start_time": "2020-09-07T19:20:31.639147",
     "status": "completed"
    },
    "tags": []
   },
   "outputs": [],
   "source": [
    "df.sort_values(by='date', ascending=True, inplace=True)  # Have to sort ascending for rolling to work correctly"
   ]
  },
  {
   "cell_type": "markdown",
   "metadata": {
    "papermill": {
     "duration": 0.05337,
     "end_time": "2020-09-07T19:20:32.169555",
     "exception": false,
     "start_time": "2020-09-07T19:20:32.116185",
     "status": "completed"
    },
    "tags": []
   },
   "source": [
    "### Create basic features"
   ]
  },
  {
   "cell_type": "code",
   "execution_count": 11,
   "metadata": {
    "execution": {
     "iopub.execute_input": "2020-09-07T19:20:32.302465Z",
     "iopub.status.busy": "2020-09-07T19:20:32.298947Z",
     "iopub.status.idle": "2020-09-07T19:20:32.640763Z",
     "shell.execute_reply": "2020-09-07T19:20:32.641765Z"
    },
    "papermill": {
     "duration": 0.40257,
     "end_time": "2020-09-07T19:20:32.641765",
     "exception": false,
     "start_time": "2020-09-07T19:20:32.239195",
     "status": "completed"
    },
    "tags": []
   },
   "outputs": [],
   "source": [
    "df = df[['date', 'open', 'adj_close']].copy()"
   ]
  },
  {
   "cell_type": "code",
   "execution_count": 12,
   "metadata": {
    "execution": {
     "iopub.execute_input": "2020-09-07T19:20:32.772678Z",
     "iopub.status.busy": "2020-09-07T19:20:32.767934Z",
     "iopub.status.idle": "2020-09-07T19:20:33.081408Z",
     "shell.execute_reply": "2020-09-07T19:20:33.082768Z"
    },
    "papermill": {
     "duration": 0.381189,
     "end_time": "2020-09-07T19:20:33.083903",
     "exception": false,
     "start_time": "2020-09-07T19:20:32.702714",
     "status": "completed"
    },
    "tags": []
   },
   "outputs": [],
   "source": [
    "df['prev'] = df['adj_close'].shift(1)"
   ]
  },
  {
   "cell_type": "code",
   "execution_count": 13,
   "metadata": {
    "execution": {
     "iopub.execute_input": "2020-09-07T19:20:33.235972Z",
     "iopub.status.busy": "2020-09-07T19:20:33.235972Z",
     "iopub.status.idle": "2020-09-07T19:20:33.596249Z",
     "shell.execute_reply": "2020-09-07T19:20:33.596249Z"
    },
    "papermill": {
     "duration": 0.447605,
     "end_time": "2020-09-07T19:20:33.596249",
     "exception": false,
     "start_time": "2020-09-07T19:20:33.148644",
     "status": "completed"
    },
    "tags": []
   },
   "outputs": [],
   "source": [
    "df['sma2'] = df['prev'].rolling(window=2).mean()\n",
    "df['sma5'] = df['prev'].rolling(window=5).mean()\n",
    "df['sma10'] = df['prev'].rolling(window=10).mean()\n",
    "df['sma20'] = df['prev'].rolling(window=20).mean()"
   ]
  },
  {
   "cell_type": "code",
   "execution_count": 14,
   "metadata": {
    "execution": {
     "iopub.execute_input": "2020-09-07T19:20:33.747142Z",
     "iopub.status.busy": "2020-09-07T19:20:33.734599Z",
     "iopub.status.idle": "2020-09-07T19:20:34.166980Z",
     "shell.execute_reply": "2020-09-07T19:20:34.168212Z"
    },
    "papermill": {
     "duration": 0.507037,
     "end_time": "2020-09-07T19:20:34.169199",
     "exception": false,
     "start_time": "2020-09-07T19:20:33.662162",
     "status": "completed"
    },
    "tags": []
   },
   "outputs": [],
   "source": [
    "assert round(df['prev'].tail(5).mean(), 4) == round(df['sma5'].tail(1).item(), 4), 'Expected sma5 to be same as mean of past 5 items'\n",
    "assert round(df['prev'].tail(10).mean(), 4) == round(df['sma10'].tail(1).item(), 4), 'Expected sma10 to be same as mean of past 10 items'\n",
    "assert round(df['prev'].tail(20).mean(), 4) == round(df['sma20'].tail(1).item(), 4), 'Expected sma20 to be same as mean of past 20 items'"
   ]
  },
  {
   "cell_type": "code",
   "execution_count": 15,
   "metadata": {
    "execution": {
     "iopub.execute_input": "2020-09-07T19:20:34.315384Z",
     "iopub.status.busy": "2020-09-07T19:20:34.304254Z",
     "iopub.status.idle": "2020-09-07T19:20:34.670413Z",
     "shell.execute_reply": "2020-09-07T19:20:34.670413Z"
    },
    "papermill": {
     "duration": 0.438808,
     "end_time": "2020-09-07T19:20:34.670413",
     "exception": false,
     "start_time": "2020-09-07T19:20:34.231605",
     "status": "completed"
    },
    "tags": []
   },
   "outputs": [],
   "source": [
    "df['ema12'] = df['prev'].ewm(span=12, min_periods=12, adjust=False).mean()\n",
    "df['ema26'] = df['prev'].ewm(span=26, min_periods=26, adjust=False).mean()"
   ]
  },
  {
   "cell_type": "code",
   "execution_count": 16,
   "metadata": {
    "execution": {
     "iopub.execute_input": "2020-09-07T19:20:34.799458Z",
     "iopub.status.busy": "2020-09-07T19:20:34.799458Z",
     "iopub.status.idle": "2020-09-07T19:20:35.036534Z",
     "shell.execute_reply": "2020-09-07T19:20:35.036534Z"
    },
    "papermill": {
     "duration": 0.292834,
     "end_time": "2020-09-07T19:20:35.036534",
     "exception": false,
     "start_time": "2020-09-07T19:20:34.743700",
     "status": "completed"
    },
    "tags": []
   },
   "outputs": [],
   "source": [
    "def difference(prev_price, moving_average):\n",
    "    return (prev_price - moving_average) / prev_price"
   ]
  },
  {
   "cell_type": "code",
   "execution_count": 17,
   "metadata": {
    "execution": {
     "iopub.execute_input": "2020-09-07T19:20:35.130466Z",
     "iopub.status.busy": "2020-09-07T19:20:35.130466Z",
     "iopub.status.idle": "2020-09-07T19:20:35.484952Z",
     "shell.execute_reply": "2020-09-07T19:20:35.484952Z"
    },
    "papermill": {
     "duration": 0.402484,
     "end_time": "2020-09-07T19:20:35.484952",
     "exception": false,
     "start_time": "2020-09-07T19:20:35.082468",
     "status": "completed"
    },
    "tags": []
   },
   "outputs": [],
   "source": [
    "for col in ['sma2', 'sma5', 'sma10', 'sma20', 'ema12', 'ema26']:\n",
    "    df['{}_diff'.format(col)] = difference(df['prev'], df[col])"
   ]
  },
  {
   "cell_type": "code",
   "execution_count": 18,
   "metadata": {
    "execution": {
     "iopub.execute_input": "2020-09-07T19:20:35.629702Z",
     "iopub.status.busy": "2020-09-07T19:20:35.629702Z",
     "iopub.status.idle": "2020-09-07T19:20:35.999931Z",
     "shell.execute_reply": "2020-09-07T19:20:35.999931Z"
    },
    "papermill": {
     "duration": 0.448857,
     "end_time": "2020-09-07T19:20:35.999931",
     "exception": false,
     "start_time": "2020-09-07T19:20:35.551074",
     "status": "completed"
    },
    "tags": []
   },
   "outputs": [],
   "source": [
    "df.dropna(inplace=True)"
   ]
  },
  {
   "cell_type": "code",
   "execution_count": 19,
   "metadata": {
    "execution": {
     "iopub.execute_input": "2020-09-07T19:20:36.142487Z",
     "iopub.status.busy": "2020-09-07T19:20:36.139674Z",
     "iopub.status.idle": "2020-09-07T19:20:36.496631Z",
     "shell.execute_reply": "2020-09-07T19:20:36.496631Z"
    },
    "papermill": {
     "duration": 0.430292,
     "end_time": "2020-09-07T19:20:36.496631",
     "exception": false,
     "start_time": "2020-09-07T19:20:36.066339",
     "status": "completed"
    },
    "tags": []
   },
   "outputs": [
    {
     "data": {
      "text/plain": [
       "(216, 16)"
      ]
     },
     "execution_count": 19,
     "metadata": {},
     "output_type": "execute_result"
    }
   ],
   "source": [
    "df.shape"
   ]
  },
  {
   "cell_type": "code",
   "execution_count": 20,
   "metadata": {
    "execution": {
     "iopub.execute_input": "2020-09-07T19:20:36.638603Z",
     "iopub.status.busy": "2020-09-07T19:20:36.636101Z",
     "iopub.status.idle": "2020-09-07T19:20:37.021008Z",
     "shell.execute_reply": "2020-09-07T19:20:37.021008Z"
    },
    "papermill": {
     "duration": 0.452337,
     "end_time": "2020-09-07T19:20:37.021008",
     "exception": false,
     "start_time": "2020-09-07T19:20:36.568671",
     "status": "completed"
    },
    "tags": []
   },
   "outputs": [],
   "source": [
    "df.drop(columns=['date', 'open'], inplace=True)"
   ]
  },
  {
   "cell_type": "markdown",
   "metadata": {
    "papermill": {
     "duration": 0.064042,
     "end_time": "2020-09-07T19:20:37.174756",
     "exception": false,
     "start_time": "2020-09-07T19:20:37.110714",
     "status": "completed"
    },
    "tags": []
   },
   "source": [
    "### Create label"
   ]
  },
  {
   "cell_type": "code",
   "execution_count": 21,
   "metadata": {
    "execution": {
     "iopub.execute_input": "2020-09-07T19:20:37.330323Z",
     "iopub.status.busy": "2020-09-07T19:20:37.323995Z",
     "iopub.status.idle": "2020-09-07T19:20:37.680840Z",
     "shell.execute_reply": "2020-09-07T19:20:37.680840Z"
    },
    "papermill": {
     "duration": 0.438831,
     "end_time": "2020-09-07T19:20:37.680840",
     "exception": false,
     "start_time": "2020-09-07T19:20:37.242009",
     "status": "completed"
    },
    "tags": []
   },
   "outputs": [],
   "source": [
    "df['label'] = (df['adj_close'] > df['prev']).astype(int)"
   ]
  },
  {
   "cell_type": "markdown",
   "metadata": {
    "papermill": {
     "duration": 0.0711,
     "end_time": "2020-09-07T19:20:37.823094",
     "exception": false,
     "start_time": "2020-09-07T19:20:37.751994",
     "status": "completed"
    },
    "tags": []
   },
   "source": [
    "### Train-val split"
   ]
  },
  {
   "cell_type": "code",
   "execution_count": 22,
   "metadata": {
    "execution": {
     "iopub.execute_input": "2020-09-07T19:20:37.993584Z",
     "iopub.status.busy": "2020-09-07T19:20:37.989529Z",
     "iopub.status.idle": "2020-09-07T19:20:38.339800Z",
     "shell.execute_reply": "2020-09-07T19:20:38.339800Z"
    },
    "papermill": {
     "duration": 0.453069,
     "end_time": "2020-09-07T19:20:38.347550",
     "exception": false,
     "start_time": "2020-09-07T19:20:37.894481",
     "status": "completed"
    },
    "tags": []
   },
   "outputs": [],
   "source": [
    "# Keep most recent 20 days as validation set"
   ]
  },
  {
   "cell_type": "code",
   "execution_count": 23,
   "metadata": {
    "execution": {
     "iopub.execute_input": "2020-09-07T19:20:38.498924Z",
     "iopub.status.busy": "2020-09-07T19:20:38.498924Z",
     "iopub.status.idle": "2020-09-07T19:20:38.844682Z",
     "shell.execute_reply": "2020-09-07T19:20:38.844682Z"
    },
    "papermill": {
     "duration": 0.438841,
     "end_time": "2020-09-07T19:20:38.844682",
     "exception": false,
     "start_time": "2020-09-07T19:20:38.405841",
     "status": "completed"
    },
    "tags": []
   },
   "outputs": [
    {
     "name": "stderr",
     "output_type": "stream",
     "text": [
      "2020-09-08 00:50:38,828 - No. of days - Train: 196, Val: 20\n"
     ]
    }
   ],
   "source": [
    "validation_days = 20\n",
    "train = df.iloc[:-validation_days].copy()\n",
    "val = df.iloc[-validation_days:].copy()\n",
    "logger.info('No. of days - Train: {}, Val: {}'.format(train.shape[0], val.shape[0]))"
   ]
  },
  {
   "cell_type": "markdown",
   "metadata": {
    "papermill": {
     "duration": 0.065139,
     "end_time": "2020-09-07T19:20:38.975435",
     "exception": false,
     "start_time": "2020-09-07T19:20:38.910296",
     "status": "completed"
    },
    "tags": []
   },
   "source": [
    "### Basic visualizations"
   ]
  },
  {
   "cell_type": "code",
   "execution_count": 24,
   "metadata": {
    "execution": {
     "iopub.execute_input": "2020-09-07T19:20:39.132636Z",
     "iopub.status.busy": "2020-09-07T19:20:39.132636Z",
     "iopub.status.idle": "2020-09-07T19:20:40.028705Z",
     "shell.execute_reply": "2020-09-07T19:20:40.028705Z"
    },
    "papermill": {
     "duration": 0.971662,
     "end_time": "2020-09-07T19:20:40.028705",
     "exception": false,
     "start_time": "2020-09-07T19:20:39.057043",
     "status": "completed"
    },
    "tags": []
   },
   "outputs": [
    {
     "data": {
      "text/plain": [
       "<matplotlib.legend.Legend at 0x1e122e6f240>"
      ]
     },
     "execution_count": 24,
     "metadata": {},
     "output_type": "execute_result"
    },
    {
     "data": {
      "image/png": "[encoded data removed]",
      "text/plain": [
       "<Figure size 1080x360 with 1 Axes>"
      ]
     },
     "metadata": {
      "needs_background": "light"
     },
     "output_type": "display_data"
    }
   ],
   "source": [
    "plt.figure(figsize=(15, 5))\n",
    "plt.grid()\n",
    "plt.plot(train['adj_close'], label='price')\n",
    "plt.plot(train['sma20'], label='simple moving average 20')\n",
    "plt.plot(train['ema12'], label='exponential moving average 12')\n",
    "plt.plot(train['ema26'], label='exponential moving average 26')\n",
    "plt.legend()"
   ]
  },
  {
   "cell_type": "markdown",
   "metadata": {
    "papermill": {
     "duration": 0.069467,
     "end_time": "2020-09-07T19:20:40.171580",
     "exception": false,
     "start_time": "2020-09-07T19:20:40.102113",
     "status": "completed"
    },
    "tags": []
   },
   "source": [
    "### Feature transformations"
   ]
  },
  {
   "cell_type": "code",
   "execution_count": 25,
   "metadata": {
    "execution": {
     "iopub.execute_input": "2020-09-07T19:20:40.326018Z",
     "iopub.status.busy": "2020-09-07T19:20:40.319928Z",
     "iopub.status.idle": "2020-09-07T19:20:40.666740Z",
     "shell.execute_reply": "2020-09-07T19:20:40.666740Z"
    },
    "papermill": {
     "duration": 0.424396,
     "end_time": "2020-09-07T19:20:40.666740",
     "exception": false,
     "start_time": "2020-09-07T19:20:40.242344",
     "status": "completed"
    },
    "tags": []
   },
   "outputs": [],
   "source": [
    "scaler = StandardScaler()"
   ]
  },
  {
   "cell_type": "code",
   "execution_count": 26,
   "metadata": {
    "execution": {
     "iopub.execute_input": "2020-09-07T19:20:40.822524Z",
     "iopub.status.busy": "2020-09-07T19:20:40.822524Z",
     "iopub.status.idle": "2020-09-07T19:20:41.171249Z",
     "shell.execute_reply": "2020-09-07T19:20:41.171249Z"
    },
    "papermill": {
     "duration": 0.4246,
     "end_time": "2020-09-07T19:20:41.171249",
     "exception": false,
     "start_time": "2020-09-07T19:20:40.746649",
     "status": "completed"
    },
    "tags": []
   },
   "outputs": [],
   "source": [
    "COLS_TO_SCALE = ['prev', 'sma2', 'sma5', 'sma10', 'sma20', 'ema12', 'ema26']"
   ]
  },
  {
   "cell_type": "code",
   "execution_count": 27,
   "metadata": {
    "execution": {
     "iopub.execute_input": "2020-09-07T19:20:41.326859Z",
     "iopub.status.busy": "2020-09-07T19:20:41.324317Z",
     "iopub.status.idle": "2020-09-07T19:20:41.686935Z",
     "shell.execute_reply": "2020-09-07T19:20:41.686935Z"
    },
    "papermill": {
     "duration": 0.450529,
     "end_time": "2020-09-07T19:20:41.686935",
     "exception": false,
     "start_time": "2020-09-07T19:20:41.236406",
     "status": "completed"
    },
    "tags": []
   },
   "outputs": [
    {
     "data": {
      "text/plain": [
       "StandardScaler(copy=True, with_mean=True, with_std=True)"
      ]
     },
     "execution_count": 27,
     "metadata": {},
     "output_type": "execute_result"
    }
   ],
   "source": [
    "scaler.fit(train[COLS_TO_SCALE])"
   ]
  },
  {
   "cell_type": "code",
   "execution_count": 28,
   "metadata": {
    "execution": {
     "iopub.execute_input": "2020-09-07T19:20:41.834588Z",
     "iopub.status.busy": "2020-09-07T19:20:41.833582Z",
     "iopub.status.idle": "2020-09-07T19:20:42.233354Z",
     "shell.execute_reply": "2020-09-07T19:20:42.233354Z"
    },
    "papermill": {
     "duration": 0.480861,
     "end_time": "2020-09-07T19:20:42.233354",
     "exception": false,
     "start_time": "2020-09-07T19:20:41.752493",
     "status": "completed"
    },
    "tags": []
   },
   "outputs": [],
   "source": [
    "train[COLS_TO_SCALE] = scaler.transform(train[COLS_TO_SCALE])\n",
    "val[COLS_TO_SCALE] = scaler.transform(val[COLS_TO_SCALE])"
   ]
  },
  {
   "cell_type": "markdown",
   "metadata": {
    "papermill": {
     "duration": 0.06767,
     "end_time": "2020-09-07T19:20:42.366237",
     "exception": false,
     "start_time": "2020-09-07T19:20:42.298567",
     "status": "completed"
    },
    "tags": []
   },
   "source": [
    "### Linear regression coefficients"
   ]
  },
  {
   "cell_type": "code",
   "execution_count": 29,
   "metadata": {
    "execution": {
     "iopub.execute_input": "2020-09-07T19:20:42.528080Z",
     "iopub.status.busy": "2020-09-07T19:20:42.528080Z",
     "iopub.status.idle": "2020-09-07T19:20:42.871001Z",
     "shell.execute_reply": "2020-09-07T19:20:42.871001Z"
    },
    "papermill": {
     "duration": 0.426082,
     "end_time": "2020-09-07T19:20:42.871001",
     "exception": false,
     "start_time": "2020-09-07T19:20:42.444919",
     "status": "completed"
    },
    "tags": []
   },
   "outputs": [
    {
     "name": "stderr",
     "output_type": "stream",
     "text": [
      "2020-09-08 00:50:42,850 - x variables: prev+sma2+sma5+sma10+sma20+ema12+ema26+sma2_diff+sma5_diff+sma10_diff+sma20_diff+ema12_diff+ema26_diff\n"
     ]
    }
   ],
   "source": [
    "x_variables = '+'.join(list(train.columns[1:-1]))\n",
    "logger.info('x variables: {}'.format(x_variables))"
   ]
  },
  {
   "cell_type": "code",
   "execution_count": 30,
   "metadata": {
    "execution": {
     "iopub.execute_input": "2020-09-07T19:20:43.028456Z",
     "iopub.status.busy": "2020-09-07T19:20:43.028456Z",
     "iopub.status.idle": "2020-09-07T19:20:43.438304Z",
     "shell.execute_reply": "2020-09-07T19:20:43.438304Z"
    },
    "papermill": {
     "duration": 0.488471,
     "end_time": "2020-09-07T19:20:43.438304",
     "exception": false,
     "start_time": "2020-09-07T19:20:42.949833",
     "status": "completed"
    },
    "tags": []
   },
   "outputs": [],
   "source": [
    "results = smf.ols('adj_close ~ {}'.format(x_variables), data=train).fit()"
   ]
  },
  {
   "cell_type": "code",
   "execution_count": 31,
   "metadata": {
    "execution": {
     "iopub.execute_input": "2020-09-07T19:20:43.585329Z",
     "iopub.status.busy": "2020-09-07T19:20:43.585329Z",
     "iopub.status.idle": "2020-09-07T19:20:43.954071Z",
     "shell.execute_reply": "2020-09-07T19:20:43.954071Z"
    },
    "papermill": {
     "duration": 0.448771,
     "end_time": "2020-09-07T19:20:43.955400",
     "exception": false,
     "start_time": "2020-09-07T19:20:43.506629",
     "status": "completed"
    },
    "scrolled": false,
    "tags": []
   },
   "outputs": [
    {
     "name": "stdout",
     "output_type": "stream",
     "text": [
      "                            OLS Regression Results                            \n",
      "==============================================================================\n",
      "Dep. Variable:              adj_close   R-squared:                       0.989\n",
      "Model:                            OLS   Adj. R-squared:                  0.988\n",
      "Method:                 Least Squares   F-statistic:                     1238.\n",
      "Date:                Tue, 08 Sep 2020   Prob (F-statistic):          6.22e-170\n",
      "Time:                        00:50:43   Log-Likelihood:                -742.93\n",
      "No. Observations:                 196   AIC:                             1514.\n",
      "Df Residuals:                     182   BIC:                             1560.\n",
      "Df Model:                          13                                         \n",
      "Covariance Type:            nonrobust                                         \n",
      "==============================================================================\n",
      "                 coef    std err          t      P>|t|      [0.025      0.975]\n",
      "------------------------------------------------------------------------------\n",
      "Intercept   1413.1773     10.631    132.932      0.000    1392.202    1434.153\n",
      "prev         -42.8879    280.687     -0.153      0.879    -596.707     510.931\n",
      "sma2        -205.2115    459.256     -0.447      0.656   -1111.361     700.938\n",
      "sma5         -22.9379    770.804     -0.030      0.976   -1543.800    1497.924\n",
      "sma10       -701.7504   1235.132     -0.568      0.571   -3138.771    1735.270\n",
      "sma20       -353.3180    843.868     -0.419      0.676   -2018.341    1311.705\n",
      "ema12       1324.5330   3393.701      0.390      0.697   -5371.525    8020.591\n",
      "ema26         91.5897    465.805      0.197      0.844    -827.483    1010.662\n",
      "sma2_diff  -2669.3844   6628.782     -0.403      0.688   -1.57e+04    1.04e+04\n",
      "sma5_diff   1312.9230   1.09e+04      0.120      0.905   -2.03e+04    2.29e+04\n",
      "sma10_diff -7514.0442   1.76e+04     -0.427      0.670   -4.22e+04    2.72e+04\n",
      "sma20_diff -3864.3166   1.21e+04     -0.319      0.750   -2.77e+04       2e+04\n",
      "ema12_diff  1.164e+04   4.87e+04      0.239      0.811   -8.44e+04    1.08e+05\n",
      "ema26_diff  2707.6570   6889.260      0.393      0.695   -1.09e+04    1.63e+04\n",
      "==============================================================================\n",
      "Omnibus:                       11.308   Durbin-Watson:                   1.983\n",
      "Prob(Omnibus):                  0.004   Jarque-Bera (JB):               26.725\n",
      "Skew:                          -0.055   Prob(JB):                     1.57e-06\n",
      "Kurtosis:                       4.806   Cond. No.                     1.80e+05\n",
      "==============================================================================\n",
      "\n",
      "Warnings:\n",
      "[1] Standard Errors assume that the covariance matrix of the errors is correctly specified.\n",
      "[2] The condition number is large, 1.8e+05. This might indicate that there are\n",
      "strong multicollinearity or other numerical problems.\n"
     ]
    }
   ],
   "source": [
    "print(results.summary())"
   ]
  },
  {
   "cell_type": "markdown",
   "metadata": {
    "papermill": {
     "duration": 0.070449,
     "end_time": "2020-09-07T19:20:44.098958",
     "exception": false,
     "start_time": "2020-09-07T19:20:44.028509",
     "status": "completed"
    },
    "tags": []
   },
   "source": [
    "### Drop label col"
   ]
  },
  {
   "cell_type": "code",
   "execution_count": 32,
   "metadata": {
    "execution": {
     "iopub.execute_input": "2020-09-07T19:20:44.272063Z",
     "iopub.status.busy": "2020-09-07T19:20:44.267973Z",
     "iopub.status.idle": "2020-09-07T19:20:44.623949Z",
     "shell.execute_reply": "2020-09-07T19:20:44.628541Z"
    },
    "papermill": {
     "duration": 0.462595,
     "end_time": "2020-09-07T19:20:44.629538",
     "exception": false,
     "start_time": "2020-09-07T19:20:44.166943",
     "status": "completed"
    },
    "tags": []
   },
   "outputs": [],
   "source": [
    "train.drop(columns=['adj_close'], inplace=True)\n",
    "val.drop(columns=['adj_close'], inplace=True)"
   ]
  },
  {
   "cell_type": "markdown",
   "metadata": {
    "papermill": {
     "duration": 0.088155,
     "end_time": "2020-09-07T19:20:44.780968",
     "exception": false,
     "start_time": "2020-09-07T19:20:44.692813",
     "status": "completed"
    },
    "tags": []
   },
   "source": [
    "### Logistic Regression Coefficients"
   ]
  },
  {
   "cell_type": "code",
   "execution_count": 33,
   "metadata": {
    "execution": {
     "iopub.execute_input": "2020-09-07T19:20:44.994970Z",
     "iopub.status.busy": "2020-09-07T19:20:44.989745Z",
     "iopub.status.idle": "2020-09-07T19:20:45.384734Z",
     "shell.execute_reply": "2020-09-07T19:20:45.390752Z"
    },
    "papermill": {
     "duration": 0.509027,
     "end_time": "2020-09-07T19:20:45.390752",
     "exception": false,
     "start_time": "2020-09-07T19:20:44.881725",
     "status": "completed"
    },
    "tags": []
   },
   "outputs": [],
   "source": [
    "y = train['label'].values\n",
    "X = train.drop(columns=['label'])"
   ]
  },
  {
   "cell_type": "code",
   "execution_count": 34,
   "metadata": {
    "execution": {
     "iopub.execute_input": "2020-09-07T19:20:45.539539Z",
     "iopub.status.busy": "2020-09-07T19:20:45.539539Z",
     "iopub.status.idle": "2020-09-07T19:20:45.949010Z",
     "shell.execute_reply": "2020-09-07T19:20:45.954968Z"
    },
    "papermill": {
     "duration": 0.501694,
     "end_time": "2020-09-07T19:20:45.955971",
     "exception": false,
     "start_time": "2020-09-07T19:20:45.454277",
     "status": "completed"
    },
    "tags": []
   },
   "outputs": [],
   "source": [
    "X = add_constant(X)"
   ]
  },
  {
   "cell_type": "code",
   "execution_count": 35,
   "metadata": {
    "execution": {
     "iopub.execute_input": "2020-09-07T19:20:46.152285Z",
     "iopub.status.busy": "2020-09-07T19:20:46.149611Z",
     "iopub.status.idle": "2020-09-07T19:20:46.538963Z",
     "shell.execute_reply": "2020-09-07T19:20:46.536892Z"
    },
    "papermill": {
     "duration": 0.510981,
     "end_time": "2020-09-07T19:20:46.538963",
     "exception": false,
     "start_time": "2020-09-07T19:20:46.027982",
     "status": "completed"
    },
    "tags": []
   },
   "outputs": [],
   "source": [
    "logit = sm.Logit(y, X)"
   ]
  },
  {
   "cell_type": "code",
   "execution_count": 36,
   "metadata": {
    "execution": {
     "iopub.execute_input": "2020-09-07T19:20:46.680285Z",
     "iopub.status.busy": "2020-09-07T19:20:46.677609Z",
     "iopub.status.idle": "2020-09-07T19:20:47.135924Z",
     "shell.execute_reply": "2020-09-07T19:20:47.137931Z"
    },
    "papermill": {
     "duration": 0.545589,
     "end_time": "2020-09-07T19:20:47.137931",
     "exception": false,
     "start_time": "2020-09-07T19:20:46.592342",
     "status": "completed"
    },
    "tags": []
   },
   "outputs": [
    {
     "name": "stdout",
     "output_type": "stream",
     "text": [
      "Warning: Maximum number of iterations has been exceeded.\n",
      "         Current function value: 37.310625\n",
      "         Iterations: 35\n",
      "                           Logit Regression Results                           \n",
      "==============================================================================\n",
      "Dep. Variable:                      y   No. Observations:                  196\n",
      "Model:                          Logit   Df Residuals:                      182\n",
      "Method:                           MLE   Df Model:                           13\n",
      "Date:                Tue, 08 Sep 2020   Pseudo R-squ.:                  -53.42\n",
      "Time:                        00:50:47   Log-Likelihood:                -7312.9\n",
      "converged:                      False   LL-Null:                       -134.38\n",
      "Covariance Type:            nonrobust   LLR p-value:                     1.000\n",
      "==============================================================================\n",
      "                 coef    std err          z      P>|z|      [0.025      0.975]\n",
      "------------------------------------------------------------------------------\n",
      "const        382.6619    300.200      1.275      0.202    -205.718     971.042\n",
      "prev       -1.569e+04   1.03e+04     -1.519      0.129    -3.6e+04    4561.343\n",
      "sma2        6491.8232   8180.547      0.794      0.427   -9541.753    2.25e+04\n",
      "sma5       -7783.4606    1.7e+04     -0.459      0.646    -4.1e+04    2.55e+04\n",
      "sma10      -5.321e+04   4.53e+04     -1.176      0.240   -1.42e+05    3.55e+04\n",
      "sma20       2030.8836   1.51e+04      0.135      0.893   -2.75e+04    3.16e+04\n",
      "ema12        9.25e+04   9.53e+04      0.971      0.332   -9.43e+04    2.79e+05\n",
      "ema26      -2.421e+04   1.76e+04     -1.374      0.170   -5.88e+04    1.03e+04\n",
      "sma2_diff   9.751e+04   1.22e+05      0.800      0.423   -1.41e+05    3.36e+05\n",
      "sma5_diff  -1.138e+05   2.49e+05     -0.457      0.648   -6.02e+05    3.74e+05\n",
      "sma10_diff -7.714e+05   6.62e+05     -1.166      0.244   -2.07e+06    5.26e+05\n",
      "sma20_diff   3.59e+04   2.24e+05      0.161      0.872   -4.02e+05    4.74e+05\n",
      "ema12_diff   1.35e+06   1.41e+06      0.960      0.337   -1.41e+06     4.1e+06\n",
      "ema26_diff -3.675e+05   2.67e+05     -1.374      0.169   -8.92e+05    1.57e+05\n",
      "==============================================================================\n",
      "\n",
      "Possibly complete quasi-separation: A fraction 0.40 of observations can be\n",
      "perfectly predicted. This might indicate that there is complete\n",
      "quasi-separation. In this case some parameters will not be identified.\n"
     ]
    },
    {
     "name": "stderr",
     "output_type": "stream",
     "text": [
      "C:\\Users\\ShadabHussain\\Anaconda3\\lib\\site-packages\\statsmodels\\base\\model.py:512: ConvergenceWarning: Maximum Likelihood optimization failed to converge. Check mle_retvals\n",
      "  \"Check mle_retvals\", ConvergenceWarning)\n"
     ]
    }
   ],
   "source": [
    "result = logit.fit()\n",
    "print(result.summary())"
   ]
  },
  {
   "cell_type": "markdown",
   "metadata": {
    "papermill": {
     "duration": 0.079271,
     "end_time": "2020-09-07T19:20:47.305217",
     "exception": false,
     "start_time": "2020-09-07T19:20:47.225946",
     "status": "completed"
    },
    "tags": []
   },
   "source": [
    "### Train some basic models"
   ]
  },
  {
   "cell_type": "code",
   "execution_count": 37,
   "metadata": {
    "execution": {
     "iopub.execute_input": "2020-09-07T19:20:47.461613Z",
     "iopub.status.busy": "2020-09-07T19:20:47.453554Z",
     "iopub.status.idle": "2020-09-07T19:20:47.794839Z",
     "shell.execute_reply": "2020-09-07T19:20:47.802656Z"
    },
    "papermill": {
     "duration": 0.42819,
     "end_time": "2020-09-07T19:20:47.802656",
     "exception": false,
     "start_time": "2020-09-07T19:20:47.374466",
     "status": "completed"
    },
    "tags": []
   },
   "outputs": [],
   "source": [
    "y_train = train['label'].values\n",
    "X_train = train.drop(columns='label').values\n",
    "\n",
    "y_val = val['label'].values\n",
    "X_val = val.drop(columns='label').values"
   ]
  },
  {
   "cell_type": "code",
   "execution_count": 38,
   "metadata": {
    "execution": {
     "iopub.execute_input": "2020-09-07T19:20:47.948625Z",
     "iopub.status.busy": "2020-09-07T19:20:47.948625Z",
     "iopub.status.idle": "2020-09-07T19:20:50.185155Z",
     "shell.execute_reply": "2020-09-07T19:20:50.189479Z"
    },
    "papermill": {
     "duration": 2.321989,
     "end_time": "2020-09-07T19:20:50.190478",
     "exception": false,
     "start_time": "2020-09-07T19:20:47.868489",
     "status": "completed"
    },
    "tags": []
   },
   "outputs": [
    {
     "name": "stderr",
     "output_type": "stream",
     "text": [
      "2020-09-08 00:50:48,364 - AUC: 0.690 | Recall: 0.000 | Precision: 0.000 | F1: 0.000\n"
     ]
    },
    {
     "name": "stderr",
     "output_type": "stream",
     "text": [
      "2020-09-08 00:50:48,602 - ROC curve saved to: ../artifact_dir/plots/roc_curve_Logistic Regression (auc = 0.69).png\n"
     ]
    },
    {
     "name": "stderr",
     "output_type": "stream",
     "text": [
      "2020-09-08 00:50:48,837 - Precision-recall curve saved to: ../artifact_dir/plots/precision_recall_Logistic Regression prec= 0.00 recall= 0.00.png\n"
     ]
    },
    {
     "name": "stderr",
     "output_type": "stream",
     "text": [
      "2020-09-08 00:50:48,839 - Model saved to: ../artifact_dir/models/Logistic Regression.pickle\n"
     ]
    },
    {
     "name": "stderr",
     "output_type": "stream",
     "text": [
      "C:\\Users\\ShadabHussain\\Anaconda3\\lib\\site-packages\\py4j\\java_collections.py:13: DeprecationWarning: Using or importing the ABCs from 'collections' instead of from 'collections.abc' is deprecated, and in 3.8 it will stop working\n",
      "  from collections import (\n",
      "C:\\Users\\ShadabHussain\\Anaconda3\\lib\\site-packages\\pyspark\\resultiterable.py:23: DeprecationWarning: Using or importing the ABCs from 'collections' instead of from 'collections.abc' is deprecated, and in 3.8 it will stop working\n",
      "  class ResultIterable(collections.Iterable):\n"
     ]
    },
    {
     "data": {
      "image/png": "[encoded data removed]",
      "text/plain": [
       "<Figure size 360x360 with 1 Axes>"
      ]
     },
     "metadata": {
      "needs_background": "light"
     },
     "output_type": "display_data"
    },
    {
     "data": {
      "image/png": "[encoded data removed]",
      "text/plain": [
       "<Figure size 1080x360 with 1 Axes>"
      ]
     },
     "metadata": {
      "needs_background": "light"
     },
     "output_type": "display_data"
    }
   ],
   "source": [
    "# Logistic regression\n",
    "model_name = 'Logistic Regression'\n",
    "model = LogisticRegression(fit_intercept=False).fit(X_train, y_train)\n",
    "pred = model.predict_proba(X_val)[:, 1]\n",
    "log_mlflow(run_params, model, model_name, y_val, pred)"
   ]
  },
  {
   "cell_type": "code",
   "execution_count": 39,
   "metadata": {
    "execution": {
     "iopub.execute_input": "2020-09-07T19:20:50.502207Z",
     "iopub.status.busy": "2020-09-07T19:20:50.501170Z",
     "iopub.status.idle": "2020-09-07T19:20:52.255492Z",
     "shell.execute_reply": "2020-09-07T19:20:52.255492Z"
    },
    "papermill": {
     "duration": 1.95917,
     "end_time": "2020-09-07T19:20:52.255492",
     "exception": false,
     "start_time": "2020-09-07T19:20:50.296322",
     "status": "completed"
    },
    "tags": []
   },
   "outputs": [
    {
     "name": "stderr",
     "output_type": "stream",
     "text": [
      "2020-09-08 00:50:50,937 - AUC: 0.643 | Recall: 1.000 | Precision: 0.700 | F1: 0.824\n"
     ]
    },
    {
     "name": "stderr",
     "output_type": "stream",
     "text": [
      "2020-09-08 00:50:51,132 - ROC curve saved to: ../artifact_dir/plots/roc_curve_Support Vector Classifier (auc = 0.64).png\n"
     ]
    },
    {
     "name": "stderr",
     "output_type": "stream",
     "text": [
      "2020-09-08 00:50:51,383 - Precision-recall curve saved to: ../artifact_dir/plots/precision_recall_Support Vector Classifier prec= 0.70 recall= 1.00.png\n"
     ]
    },
    {
     "name": "stderr",
     "output_type": "stream",
     "text": [
      "2020-09-08 00:50:51,384 - Model saved to: ../artifact_dir/models/Support Vector Classifier.pickle\n"
     ]
    },
    {
     "data": {
      "image/png": "[encoded data removed]",
      "text/plain": [
       "<Figure size 360x360 with 1 Axes>"
      ]
     },
     "metadata": {
      "needs_background": "light"
     },
     "output_type": "display_data"
    },
    {
     "data": {
      "image/png": "[encoded data removed]",
      "text/plain": [
       "<Figure size 1080x360 with 1 Axes>"
      ]
     },
     "metadata": {
      "needs_background": "light"
     },
     "output_type": "display_data"
    }
   ],
   "source": [
    "# Support vector classifier\n",
    "model_name = 'Support Vector Classifier'\n",
    "model = SVC(gamma=2, C=1, probability=True).fit(X_train, y_train)\n",
    "pred = model.predict_proba(X_val)[:, 1]\n",
    "log_mlflow(run_params, model, model_name, y_val, pred)"
   ]
  },
  {
   "cell_type": "code",
   "execution_count": 40,
   "metadata": {
    "execution": {
     "iopub.execute_input": "2020-09-07T19:20:52.441413Z",
     "iopub.status.busy": "2020-09-07T19:20:52.432519Z",
     "iopub.status.idle": "2020-09-07T19:20:54.426830Z",
     "shell.execute_reply": "2020-09-07T19:20:54.426830Z"
    },
    "papermill": {
     "duration": 2.08253,
     "end_time": "2020-09-07T19:20:54.426830",
     "exception": false,
     "start_time": "2020-09-07T19:20:52.344300",
     "status": "completed"
    },
    "tags": []
   },
   "outputs": [
    {
     "name": "stderr",
     "output_type": "stream",
     "text": [
      "2020-09-08 00:50:52,931 - AUC: 0.506 | Recall: 0.286 | Precision: 0.667 | F1: 0.400\n"
     ]
    },
    {
     "name": "stderr",
     "output_type": "stream",
     "text": [
      "2020-09-08 00:50:53,263 - ROC curve saved to: ../artifact_dir/plots/roc_curve_K-nearest Neighbours (auc = 0.51).png\n"
     ]
    },
    {
     "name": "stderr",
     "output_type": "stream",
     "text": [
      "2020-09-08 00:50:53,549 - Precision-recall curve saved to: ../artifact_dir/plots/precision_recall_K-nearest Neighbours prec= 0.67 recall= 0.29.png\n"
     ]
    },
    {
     "name": "stderr",
     "output_type": "stream",
     "text": [
      "2020-09-08 00:50:53,551 - Model saved to: ../artifact_dir/models/K-nearest Neighbours.pickle\n"
     ]
    },
    {
     "data": {
      "image/png": "[encoded data removed]",
      "text/plain": [
       "<Figure size 360x360 with 1 Axes>"
      ]
     },
     "metadata": {
      "needs_background": "light"
     },
     "output_type": "display_data"
    },
    {
     "data": {
      "image/png": "[encoded data removed]",
      "text/plain": [
       "<Figure size 1080x360 with 1 Axes>"
      ]
     },
     "metadata": {
      "needs_background": "light"
     },
     "output_type": "display_data"
    }
   ],
   "source": [
    "# K-neighbours\n",
    "model_name = 'K-nearest Neighbours'\n",
    "model = KNeighborsClassifier(5).fit(X_train, y_train)\n",
    "pred = model.predict_proba(X_val)[:, 1]\n",
    "log_mlflow(run_params, model, model_name, y_val, pred)"
   ]
  },
  {
   "cell_type": "code",
   "execution_count": 41,
   "metadata": {
    "execution": {
     "iopub.execute_input": "2020-09-07T19:20:54.719470Z",
     "iopub.status.busy": "2020-09-07T19:20:54.719470Z",
     "iopub.status.idle": "2020-09-07T19:20:56.497014Z",
     "shell.execute_reply": "2020-09-07T19:20:56.497014Z"
    },
    "papermill": {
     "duration": 1.914673,
     "end_time": "2020-09-07T19:20:56.497014",
     "exception": false,
     "start_time": "2020-09-07T19:20:54.582341",
     "status": "completed"
    },
    "tags": []
   },
   "outputs": [
    {
     "name": "stderr",
     "output_type": "stream",
     "text": [
      "2020-09-08 00:50:55,361 - AUC: 0.524 | Recall: 0.500 | Precision: 0.778 | F1: 0.609\n"
     ]
    },
    {
     "name": "stderr",
     "output_type": "stream",
     "text": [
      "2020-09-08 00:50:55,533 - ROC curve saved to: ../artifact_dir/plots/roc_curve_Gradient Boosting Machine (auc = 0.52).png\n"
     ]
    },
    {
     "name": "stderr",
     "output_type": "stream",
     "text": [
      "2020-09-08 00:50:55,774 - Precision-recall curve saved to: ../artifact_dir/plots/precision_recall_Gradient Boosting Machine prec= 0.78 recall= 0.50.png\n"
     ]
    },
    {
     "name": "stderr",
     "output_type": "stream",
     "text": [
      "2020-09-08 00:50:55,782 - Model saved to: ../artifact_dir/models/Gradient Boosting Machine.pickle\n"
     ]
    },
    {
     "data": {
      "image/png": "[encoded data removed]",
      "text/plain": [
       "<Figure size 360x360 with 1 Axes>"
      ]
     },
     "metadata": {
      "needs_background": "light"
     },
     "output_type": "display_data"
    },
    {
     "data": {
      "image/png": "[encoded data removed]",
      "text/plain": [
       "<Figure size 1080x360 with 1 Axes>"
      ]
     },
     "metadata": {
      "needs_background": "light"
     },
     "output_type": "display_data"
    }
   ],
   "source": [
    "# Gradient Boosting\n",
    "model_name = 'Gradient Boosting Machine'\n",
    "model = GradientBoostingClassifier().fit(X_train, y_train)\n",
    "pred = model.predict_proba(X_val)[:, 1]\n",
    "log_mlflow(run_params, model, model_name, y_val, pred)"
   ]
  },
  {
   "cell_type": "code",
   "execution_count": 42,
   "metadata": {
    "execution": {
     "iopub.execute_input": "2020-09-07T19:20:56.732608Z",
     "iopub.status.busy": "2020-09-07T19:20:56.724965Z",
     "iopub.status.idle": "2020-09-07T19:20:58.774412Z",
     "shell.execute_reply": "2020-09-07T19:20:58.777041Z"
    },
    "papermill": {
     "duration": 2.160099,
     "end_time": "2020-09-07T19:20:58.778043",
     "exception": false,
     "start_time": "2020-09-07T19:20:56.617944",
     "status": "completed"
    },
    "tags": []
   },
   "outputs": [
    {
     "name": "stderr",
     "output_type": "stream",
     "text": [
      "2020-09-08 00:50:57,089 - AUC: 0.554 | Recall: 0.500 | Precision: 0.700 | F1: 0.583\n"
     ]
    },
    {
     "name": "stderr",
     "output_type": "stream",
     "text": [
      "2020-09-08 00:50:57,352 - ROC curve saved to: ../artifact_dir/plots/roc_curve_Extra Trees (auc = 0.55).png\n"
     ]
    },
    {
     "name": "stderr",
     "output_type": "stream",
     "text": [
      "2020-09-08 00:50:57,678 - Precision-recall curve saved to: ../artifact_dir/plots/precision_recall_Extra Trees prec= 0.70 recall= 0.50.png\n"
     ]
    },
    {
     "name": "stderr",
     "output_type": "stream",
     "text": [
      "2020-09-08 00:50:57,678 - Model saved to: ../artifact_dir/models/Extra Trees.pickle\n"
     ]
    },
    {
     "data": {
      "image/png": "[encoded data removed]",
      "text/plain": [
       "<Figure size 360x360 with 1 Axes>"
      ]
     },
     "metadata": {
      "needs_background": "light"
     },
     "output_type": "display_data"
    },
    {
     "data": {
      "image/png": "[encoded data removed]",
      "text/plain": [
       "<Figure size 1080x360 with 1 Axes>"
      ]
     },
     "metadata": {
      "needs_background": "light"
     },
     "output_type": "display_data"
    }
   ],
   "source": [
    "# Bagged trees\n",
    "model_name = 'Extra Trees'\n",
    "model = ExtraTreesClassifier().fit(X_train, y_train)\n",
    "pred = model.predict_proba(X_val)[:, 1]\n",
    "log_mlflow(run_params, model, model_name, y_val, pred)"
   ]
  },
  {
   "cell_type": "markdown",
   "metadata": {
    "papermill": {
     "duration": 0.096581,
     "end_time": "2020-09-07T19:20:58.990625",
     "exception": false,
     "start_time": "2020-09-07T19:20:58.894044",
     "status": "completed"
    },
    "tags": []
   },
   "source": [
    "### Test loading model"
   ]
  },
  {
   "cell_type": "code",
   "execution_count": 43,
   "metadata": {
    "execution": {
     "iopub.execute_input": "2020-09-07T19:20:59.196549Z",
     "iopub.status.busy": "2020-09-07T19:20:59.185793Z",
     "iopub.status.idle": "2020-09-07T19:20:59.590354Z",
     "shell.execute_reply": "2020-09-07T19:20:59.593797Z"
    },
    "papermill": {
     "duration": 0.513202,
     "end_time": "2020-09-07T19:20:59.593797",
     "exception": false,
     "start_time": "2020-09-07T19:20:59.080595",
     "status": "completed"
    },
    "tags": []
   },
   "outputs": [],
   "source": [
    "model_name = 'Support Vector Classifier'\n",
    "check_model = load('{}/models/{}.pickle'.format(ARTIFACT_DIR, model_name))"
   ]
  },
  {
   "cell_type": "code",
   "execution_count": 44,
   "metadata": {
    "execution": {
     "iopub.execute_input": "2020-09-07T19:20:59.835108Z",
     "iopub.status.busy": "2020-09-07T19:20:59.835108Z",
     "iopub.status.idle": "2020-09-07T19:21:00.192931Z",
     "shell.execute_reply": "2020-09-07T19:21:00.192931Z"
    },
    "papermill": {
     "duration": 0.469799,
     "end_time": "2020-09-07T19:21:00.192931",
     "exception": false,
     "start_time": "2020-09-07T19:20:59.723132",
     "status": "completed"
    },
    "tags": []
   },
   "outputs": [
    {
     "data": {
      "text/plain": [
       "SVC(C=1, cache_size=200, class_weight=None, coef0=0.0,\n",
       "    decision_function_shape='ovr', degree=3, gamma=2, kernel='rbf', max_iter=-1,\n",
       "    probability=True, random_state=None, shrinking=True, tol=0.001,\n",
       "    verbose=False)"
      ]
     },
     "execution_count": 44,
     "metadata": {},
     "output_type": "execute_result"
    }
   ],
   "source": [
    "check_model"
   ]
  },
  {
   "cell_type": "code",
   "execution_count": 45,
   "metadata": {
    "execution": {
     "iopub.execute_input": "2020-09-07T19:21:00.414556Z",
     "iopub.status.busy": "2020-09-07T19:21:00.413544Z",
     "iopub.status.idle": "2020-09-07T19:21:00.814585Z",
     "shell.execute_reply": "2020-09-07T19:21:00.821844Z"
    },
    "papermill": {
     "duration": 0.518156,
     "end_time": "2020-09-07T19:21:00.822836",
     "exception": false,
     "start_time": "2020-09-07T19:21:00.304680",
     "status": "completed"
    },
    "tags": []
   },
   "outputs": [],
   "source": [
    "pred = check_model.predict_proba(X_val)[:, 1]"
   ]
  },
  {
   "cell_type": "code",
   "execution_count": 46,
   "metadata": {
    "execution": {
     "iopub.execute_input": "2020-09-07T19:21:01.198982Z",
     "iopub.status.busy": "2020-09-07T19:21:01.190259Z",
     "iopub.status.idle": "2020-09-07T19:21:01.584415Z",
     "shell.execute_reply": "2020-09-07T19:21:01.584415Z"
    },
    "papermill": {
     "duration": 0.652951,
     "end_time": "2020-09-07T19:21:01.584415",
     "exception": false,
     "start_time": "2020-09-07T19:21:00.931464",
     "status": "completed"
    },
    "tags": []
   },
   "outputs": [
    {
     "name": "stderr",
     "output_type": "stream",
     "text": [
      "2020-09-08 00:51:01,559 - AUC: 0.643 | Recall: 1.000 | Precision: 0.700 | F1: 0.824\n"
     ]
    },
    {
     "data": {
      "text/plain": [
       "(0.6428571428571429, 1.0, 0.7, 0.8235294117647058)"
      ]
     },
     "execution_count": 46,
     "metadata": {},
     "output_type": "execute_result"
    }
   ],
   "source": [
    "evaluate_binary(y_val, pred)"
   ]
  }
 ],
 "metadata": {
  "kernelspec": {
   "display_name": "Python 3",
   "language": "python",
   "name": "python3"
  },
  "language_info": {
   "codemirror_mode": {
    "name": "ipython",
    "version": 3
   },
   "file_extension": ".py",
   "mimetype": "text/x-python",
   "name": "python",
   "nbconvert_exporter": "python",
   "pygments_lexer": "ipython3",
   "version": "3.7.3"
  },
  "papermill": {
   "duration": 43.72722,
   "end_time": "2020-09-07T19:21:03.110014",
   "environment_variables": {},
   "exception": null,
   "input_path": "stock_up_down_parametrize.ipynb",
   "output_path": "../artifact_dir/notebooks/stock_up_down_GOLD.ipynb",
   "parameters": {
    "INDEX": "GOLD"
   },
   "start_time": "2020-09-07T19:20:19.382794",
   "version": "2.1.3"
  }
 },
 "nbformat": 4,
 "nbformat_minor": 4
}