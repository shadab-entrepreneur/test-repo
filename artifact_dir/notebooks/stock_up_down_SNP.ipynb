{
 "cells": [
  {
   "cell_type": "code",
   "execution_count": 1,
   "metadata": {
    "execution": {
     "iopub.execute_input": "2020-09-07T19:19:42.575588Z",
     "iopub.status.busy": "2020-09-07T19:19:42.574587Z",
     "iopub.status.idle": "2020-09-07T19:19:42.638879Z",
     "shell.execute_reply": "2020-09-07T19:19:42.638879Z"
    },
    "papermill": {
     "duration": 0.131448,
     "end_time": "2020-09-07T19:19:42.638879",
     "exception": false,
     "start_time": "2020-09-07T19:19:42.507431",
     "status": "completed"
    },
    "tags": []
   },
   "outputs": [],
   "source": [
    "%load_ext autoreload\n",
    "%autoreload 2"
   ]
  },
  {
   "cell_type": "code",
   "execution_count": 2,
   "metadata": {
    "execution": {
     "iopub.execute_input": "2020-09-07T19:19:42.754759Z",
     "iopub.status.busy": "2020-09-07T19:19:42.753581Z",
     "iopub.status.idle": "2020-09-07T19:19:42.809559Z",
     "shell.execute_reply": "2020-09-07T19:19:42.809559Z"
    },
    "papermill": {
     "duration": 0.119896,
     "end_time": "2020-09-07T19:19:42.810558",
     "exception": false,
     "start_time": "2020-09-07T19:19:42.690662",
     "status": "completed"
    },
    "tags": []
   },
   "outputs": [],
   "source": [
    "import warnings\n",
    "warnings.filterwarnings(\"ignore\")"
   ]
  },
  {
   "cell_type": "code",
   "execution_count": 3,
   "metadata": {
    "execution": {
     "iopub.execute_input": "2020-09-07T19:19:42.923612Z",
     "iopub.status.busy": "2020-09-07T19:19:42.922617Z",
     "iopub.status.idle": "2020-09-07T19:19:46.801622Z",
     "shell.execute_reply": "2020-09-07T19:19:46.800622Z"
    },
    "papermill": {
     "duration": 3.944261,
     "end_time": "2020-09-07T19:19:46.801622",
     "exception": false,
     "start_time": "2020-09-07T19:19:42.857361",
     "status": "completed"
    },
    "tags": []
   },
   "outputs": [],
   "source": [
    "import pandas as pd\n",
    "import matplotlib.pyplot as plt\n",
    "import statsmodels.api as sm\n",
    "import statsmodels.formula.api as smf\n",
    "from statsmodels.tools.tools import add_constant\n",
    "from sklearn.preprocessing import StandardScaler\n",
    "from sklearn.linear_model import LogisticRegression\n",
    "from sklearn.svm import SVC\n",
    "from sklearn.neighbors import KNeighborsClassifier\n",
    "from sklearn.ensemble import GradientBoostingClassifier, ExtraTreesClassifier\n",
    "from joblib import load\n",
    "\n",
    "from logger import logger\n",
    "from utils import evaluate_binary, log_mlflow"
   ]
  },
  {
   "cell_type": "code",
   "execution_count": 4,
   "metadata": {
    "execution": {
     "iopub.execute_input": "2020-09-07T19:19:46.914731Z",
     "iopub.status.busy": "2020-09-07T19:19:46.912296Z",
     "iopub.status.idle": "2020-09-07T19:19:47.124868Z",
     "shell.execute_reply": "2020-09-07T19:19:47.124868Z"
    },
    "papermill": {
     "duration": 0.274863,
     "end_time": "2020-09-07T19:19:47.124868",
     "exception": false,
     "start_time": "2020-09-07T19:19:46.850005",
     "status": "completed"
    },
    "tags": [
     "parameters"
    ]
   },
   "outputs": [],
   "source": [
    "# Tag this cell as 'parameters'\n",
    "INDEX = 'SNP'"
   ]
  },
  {
   "cell_type": "code",
   "execution_count": 5,
   "metadata": {
    "execution": {
     "iopub.execute_input": "2020-09-07T19:19:47.235861Z",
     "iopub.status.busy": "2020-09-07T19:19:47.235861Z",
     "iopub.status.idle": "2020-09-07T19:19:47.459508Z",
     "shell.execute_reply": "2020-09-07T19:19:47.459508Z"
    },
    "papermill": {
     "duration": 0.288105,
     "end_time": "2020-09-07T19:19:47.460505",
     "exception": false,
     "start_time": "2020-09-07T19:19:47.172400",
     "status": "completed"
    },
    "tags": [
     "injected-parameters"
    ]
   },
   "outputs": [],
   "source": [
    "# Parameters\n",
    "INDEX = \"SNP\"\n"
   ]
  },
  {
   "cell_type": "code",
   "execution_count": 6,
   "metadata": {
    "execution": {
     "iopub.execute_input": "2020-09-07T19:19:47.577340Z",
     "iopub.status.busy": "2020-09-07T19:19:47.576343Z",
     "iopub.status.idle": "2020-09-07T19:19:47.766364Z",
     "shell.execute_reply": "2020-09-07T19:19:47.766364Z"
    },
    "papermill": {
     "duration": 0.261613,
     "end_time": "2020-09-07T19:19:47.767361",
     "exception": false,
     "start_time": "2020-09-07T19:19:47.505748",
     "status": "completed"
    },
    "tags": []
   },
   "outputs": [],
   "source": [
    "EXPERIMENT = 'stock_up_down'  # Name of experiment\n",
    "RUN_NAME = 'initial assessment'  # Name of iteration (that will show\n",
    "ARTIFACT_DIR = '../artifact_dir'  # Dir for notebook outputs where plots are saved"
   ]
  },
  {
   "cell_type": "code",
   "execution_count": 7,
   "metadata": {
    "execution": {
     "iopub.execute_input": "2020-09-07T19:19:47.888224Z",
     "iopub.status.busy": "2020-09-07T19:19:47.888224Z",
     "iopub.status.idle": "2020-09-07T19:19:48.125381Z",
     "shell.execute_reply": "2020-09-07T19:19:48.125381Z"
    },
    "papermill": {
     "duration": 0.302818,
     "end_time": "2020-09-07T19:19:48.126379",
     "exception": false,
     "start_time": "2020-09-07T19:19:47.823561",
     "status": "completed"
    },
    "tags": []
   },
   "outputs": [],
   "source": [
    "# Wrap all this is a parameter dict\n",
    "run_params = {'experiment': EXPERIMENT,\n",
    "              'iteration': RUN_NAME,\n",
    "              'index': INDEX,\n",
    "              'artifact_dir': ARTIFACT_DIR}"
   ]
  },
  {
   "cell_type": "markdown",
   "metadata": {
    "papermill": {
     "duration": 0.049879,
     "end_time": "2020-09-07T19:19:48.230724",
     "exception": false,
     "start_time": "2020-09-07T19:19:48.180845",
     "status": "completed"
    },
    "tags": []
   },
   "source": [
    "### Import data"
   ]
  },
  {
   "cell_type": "code",
   "execution_count": 8,
   "metadata": {
    "execution": {
     "iopub.execute_input": "2020-09-07T19:19:48.381054Z",
     "iopub.status.busy": "2020-09-07T19:19:48.379048Z",
     "iopub.status.idle": "2020-09-07T19:19:48.573527Z",
     "shell.execute_reply": "2020-09-07T19:19:48.573527Z"
    },
    "papermill": {
     "duration": 0.260545,
     "end_time": "2020-09-07T19:19:48.574532",
     "exception": false,
     "start_time": "2020-09-07T19:19:48.313987",
     "status": "completed"
    },
    "tags": []
   },
   "outputs": [],
   "source": [
    "df = pd.read_csv('../datadir/{}.csv'.format(INDEX))"
   ]
  },
  {
   "cell_type": "markdown",
   "metadata": {
    "papermill": {
     "duration": 0.054415,
     "end_time": "2020-09-07T19:19:48.678495",
     "exception": false,
     "start_time": "2020-09-07T19:19:48.624080",
     "status": "completed"
    },
    "tags": []
   },
   "source": [
    "### Data prep"
   ]
  },
  {
   "cell_type": "code",
   "execution_count": 9,
   "metadata": {
    "execution": {
     "iopub.execute_input": "2020-09-07T19:19:48.799321Z",
     "iopub.status.busy": "2020-09-07T19:19:48.798315Z",
     "iopub.status.idle": "2020-09-07T19:19:48.991813Z",
     "shell.execute_reply": "2020-09-07T19:19:48.990805Z"
    },
    "papermill": {
     "duration": 0.26093,
     "end_time": "2020-09-07T19:19:48.991813",
     "exception": false,
     "start_time": "2020-09-07T19:19:48.730883",
     "status": "completed"
    },
    "tags": []
   },
   "outputs": [],
   "source": [
    "df.columns = [col.lower().replace(' ', '_') for col in df.columns]"
   ]
  },
  {
   "cell_type": "code",
   "execution_count": 10,
   "metadata": {
    "execution": {
     "iopub.execute_input": "2020-09-07T19:19:49.105637Z",
     "iopub.status.busy": "2020-09-07T19:19:49.104633Z",
     "iopub.status.idle": "2020-09-07T19:19:49.313684Z",
     "shell.execute_reply": "2020-09-07T19:19:49.313684Z"
    },
    "papermill": {
     "duration": 0.267538,
     "end_time": "2020-09-07T19:19:49.313684",
     "exception": false,
     "start_time": "2020-09-07T19:19:49.046146",
     "status": "completed"
    },
    "tags": []
   },
   "outputs": [],
   "source": [
    "df.sort_values(by='date', ascending=True, inplace=True)  # Have to sort ascending for rolling to work correctly"
   ]
  },
  {
   "cell_type": "markdown",
   "metadata": {
    "papermill": {
     "duration": 0.053708,
     "end_time": "2020-09-07T19:19:49.428251",
     "exception": false,
     "start_time": "2020-09-07T19:19:49.374543",
     "status": "completed"
    },
    "tags": []
   },
   "source": [
    "### Create basic features"
   ]
  },
  {
   "cell_type": "code",
   "execution_count": 11,
   "metadata": {
    "execution": {
     "iopub.execute_input": "2020-09-07T19:19:49.544822Z",
     "iopub.status.busy": "2020-09-07T19:19:49.542823Z",
     "iopub.status.idle": "2020-09-07T19:19:49.838632Z",
     "shell.execute_reply": "2020-09-07T19:19:49.838632Z"
    },
    "papermill": {
     "duration": 0.364567,
     "end_time": "2020-09-07T19:19:49.844907",
     "exception": false,
     "start_time": "2020-09-07T19:19:49.480340",
     "status": "completed"
    },
    "tags": []
   },
   "outputs": [],
   "source": [
    "df = df[['date', 'open', 'adj_close']].copy()"
   ]
  },
  {
   "cell_type": "code",
   "execution_count": 12,
   "metadata": {
    "execution": {
     "iopub.execute_input": "2020-09-07T19:19:49.965437Z",
     "iopub.status.busy": "2020-09-07T19:19:49.964436Z",
     "iopub.status.idle": "2020-09-07T19:19:50.374914Z",
     "shell.execute_reply": "2020-09-07T19:19:50.374914Z"
    },
    "papermill": {
     "duration": 0.478086,
     "end_time": "2020-09-07T19:19:50.374914",
     "exception": false,
     "start_time": "2020-09-07T19:19:49.896828",
     "status": "completed"
    },
    "tags": []
   },
   "outputs": [],
   "source": [
    "df['prev'] = df['adj_close'].shift(1)"
   ]
  },
  {
   "cell_type": "code",
   "execution_count": 13,
   "metadata": {
    "execution": {
     "iopub.execute_input": "2020-09-07T19:19:50.453595Z",
     "iopub.status.busy": "2020-09-07T19:19:50.452596Z",
     "iopub.status.idle": "2020-09-07T19:19:50.761603Z",
     "shell.execute_reply": "2020-09-07T19:19:50.762604Z"
    },
    "papermill": {
     "duration": 0.35966,
     "end_time": "2020-09-07T19:19:50.764212",
     "exception": false,
     "start_time": "2020-09-07T19:19:50.404552",
     "status": "completed"
    },
    "tags": []
   },
   "outputs": [],
   "source": [
    "df['sma2'] = df['prev'].rolling(window=2).mean()\n",
    "df['sma5'] = df['prev'].rolling(window=5).mean()\n",
    "df['sma10'] = df['prev'].rolling(window=10).mean()\n",
    "df['sma20'] = df['prev'].rolling(window=20).mean()"
   ]
  },
  {
   "cell_type": "code",
   "execution_count": 14,
   "metadata": {
    "execution": {
     "iopub.execute_input": "2020-09-07T19:19:50.938994Z",
     "iopub.status.busy": "2020-09-07T19:19:50.935821Z",
     "iopub.status.idle": "2020-09-07T19:19:51.358531Z",
     "shell.execute_reply": "2020-09-07T19:19:51.359533Z"
    },
    "papermill": {
     "duration": 0.499819,
     "end_time": "2020-09-07T19:19:51.359533",
     "exception": false,
     "start_time": "2020-09-07T19:19:50.859714",
     "status": "completed"
    },
    "tags": []
   },
   "outputs": [],
   "source": [
    "assert round(df['prev'].tail(5).mean(), 4) == round(df['sma5'].tail(1).item(), 4), 'Expected sma5 to be same as mean of past 5 items'\n",
    "assert round(df['prev'].tail(10).mean(), 4) == round(df['sma10'].tail(1).item(), 4), 'Expected sma10 to be same as mean of past 10 items'\n",
    "assert round(df['prev'].tail(20).mean(), 4) == round(df['sma20'].tail(1).item(), 4), 'Expected sma20 to be same as mean of past 20 items'"
   ]
  },
  {
   "cell_type": "code",
   "execution_count": 15,
   "metadata": {
    "execution": {
     "iopub.execute_input": "2020-09-07T19:19:51.541248Z",
     "iopub.status.busy": "2020-09-07T19:19:51.539804Z",
     "iopub.status.idle": "2020-09-07T19:19:51.922444Z",
     "shell.execute_reply": "2020-09-07T19:19:51.927450Z"
    },
    "papermill": {
     "duration": 0.485866,
     "end_time": "2020-09-07T19:19:51.928453",
     "exception": false,
     "start_time": "2020-09-07T19:19:51.442587",
     "status": "completed"
    },
    "tags": []
   },
   "outputs": [],
   "source": [
    "df['ema12'] = df['prev'].ewm(span=12, min_periods=12, adjust=False).mean()\n",
    "df['ema26'] = df['prev'].ewm(span=26, min_periods=26, adjust=False).mean()"
   ]
  },
  {
   "cell_type": "code",
   "execution_count": 16,
   "metadata": {
    "execution": {
     "iopub.execute_input": "2020-09-07T19:19:52.090702Z",
     "iopub.status.busy": "2020-09-07T19:19:52.089691Z",
     "iopub.status.idle": "2020-09-07T19:19:52.475282Z",
     "shell.execute_reply": "2020-09-07T19:19:52.475282Z"
    },
    "papermill": {
     "duration": 0.464468,
     "end_time": "2020-09-07T19:19:52.476282",
     "exception": false,
     "start_time": "2020-09-07T19:19:52.011814",
     "status": "completed"
    },
    "tags": []
   },
   "outputs": [],
   "source": [
    "def difference(prev_price, moving_average):\n",
    "    return (prev_price - moving_average) / prev_price"
   ]
  },
  {
   "cell_type": "code",
   "execution_count": 17,
   "metadata": {
    "execution": {
     "iopub.execute_input": "2020-09-07T19:19:52.629954Z",
     "iopub.status.busy": "2020-09-07T19:19:52.626923Z",
     "iopub.status.idle": "2020-09-07T19:19:52.962521Z",
     "shell.execute_reply": "2020-09-07T19:19:52.962521Z"
    },
    "papermill": {
     "duration": 0.408381,
     "end_time": "2020-09-07T19:19:52.962521",
     "exception": false,
     "start_time": "2020-09-07T19:19:52.554140",
     "status": "completed"
    },
    "tags": []
   },
   "outputs": [],
   "source": [
    "for col in ['sma2', 'sma5', 'sma10', 'sma20', 'ema12', 'ema26']:\n",
    "    df['{}_diff'.format(col)] = difference(df['prev'], df[col])"
   ]
  },
  {
   "cell_type": "code",
   "execution_count": 18,
   "metadata": {
    "execution": {
     "iopub.execute_input": "2020-09-07T19:19:53.082411Z",
     "iopub.status.busy": "2020-09-07T19:19:53.080250Z",
     "iopub.status.idle": "2020-09-07T19:19:53.403158Z",
     "shell.execute_reply": "2020-09-07T19:19:53.410309Z"
    },
    "papermill": {
     "duration": 0.389764,
     "end_time": "2020-09-07T19:19:53.410309",
     "exception": false,
     "start_time": "2020-09-07T19:19:53.020545",
     "status": "completed"
    },
    "tags": []
   },
   "outputs": [],
   "source": [
    "df.dropna(inplace=True)"
   ]
  },
  {
   "cell_type": "code",
   "execution_count": 19,
   "metadata": {
    "execution": {
     "iopub.execute_input": "2020-09-07T19:19:53.527969Z",
     "iopub.status.busy": "2020-09-07T19:19:53.527969Z",
     "iopub.status.idle": "2020-09-07T19:19:53.861305Z",
     "shell.execute_reply": "2020-09-07T19:19:53.861305Z"
    },
    "papermill": {
     "duration": 0.399032,
     "end_time": "2020-09-07T19:19:53.861305",
     "exception": false,
     "start_time": "2020-09-07T19:19:53.462273",
     "status": "completed"
    },
    "tags": []
   },
   "outputs": [
    {
     "data": {
      "text/plain": [
       "(227, 16)"
      ]
     },
     "execution_count": 19,
     "metadata": {},
     "output_type": "execute_result"
    }
   ],
   "source": [
    "df.shape"
   ]
  },
  {
   "cell_type": "code",
   "execution_count": 20,
   "metadata": {
    "execution": {
     "iopub.execute_input": "2020-09-07T19:19:53.986110Z",
     "iopub.status.busy": "2020-09-07T19:19:53.985106Z",
     "iopub.status.idle": "2020-09-07T19:19:54.309933Z",
     "shell.execute_reply": "2020-09-07T19:19:54.310967Z"
    },
    "papermill": {
     "duration": 0.38413,
     "end_time": "2020-09-07T19:19:54.310967",
     "exception": false,
     "start_time": "2020-09-07T19:19:53.926837",
     "status": "completed"
    },
    "tags": []
   },
   "outputs": [],
   "source": [
    "df.drop(columns=['date', 'open'], inplace=True)"
   ]
  },
  {
   "cell_type": "markdown",
   "metadata": {
    "papermill": {
     "duration": 0.049966,
     "end_time": "2020-09-07T19:19:54.411973",
     "exception": false,
     "start_time": "2020-09-07T19:19:54.362007",
     "status": "completed"
    },
    "tags": []
   },
   "source": [
    "### Create label"
   ]
  },
  {
   "cell_type": "code",
   "execution_count": 21,
   "metadata": {
    "execution": {
     "iopub.execute_input": "2020-09-07T19:19:54.543890Z",
     "iopub.status.busy": "2020-09-07T19:19:54.539239Z",
     "iopub.status.idle": "2020-09-07T19:19:54.858231Z",
     "shell.execute_reply": "2020-09-07T19:19:54.858231Z"
    },
    "papermill": {
     "duration": 0.379607,
     "end_time": "2020-09-07T19:19:54.859228",
     "exception": false,
     "start_time": "2020-09-07T19:19:54.479621",
     "status": "completed"
    },
    "tags": []
   },
   "outputs": [],
   "source": [
    "df['label'] = (df['adj_close'] > df['prev']).astype(int)"
   ]
  },
  {
   "cell_type": "markdown",
   "metadata": {
    "papermill": {
     "duration": 0.062069,
     "end_time": "2020-09-07T19:19:54.973876",
     "exception": false,
     "start_time": "2020-09-07T19:19:54.911807",
     "status": "completed"
    },
    "tags": []
   },
   "source": [
    "### Train-val split"
   ]
  },
  {
   "cell_type": "code",
   "execution_count": 22,
   "metadata": {
    "execution": {
     "iopub.execute_input": "2020-09-07T19:19:55.094168Z",
     "iopub.status.busy": "2020-09-07T19:19:55.093163Z",
     "iopub.status.idle": "2020-09-07T19:19:55.411248Z",
     "shell.execute_reply": "2020-09-07T19:19:55.411248Z"
    },
    "papermill": {
     "duration": 0.382836,
     "end_time": "2020-09-07T19:19:55.411248",
     "exception": false,
     "start_time": "2020-09-07T19:19:55.028412",
     "status": "completed"
    },
    "tags": []
   },
   "outputs": [],
   "source": [
    "# Keep most recent 20 days as validation set"
   ]
  },
  {
   "cell_type": "code",
   "execution_count": 23,
   "metadata": {
    "execution": {
     "iopub.execute_input": "2020-09-07T19:19:55.535358Z",
     "iopub.status.busy": "2020-09-07T19:19:55.535358Z",
     "iopub.status.idle": "2020-09-07T19:19:55.860518Z",
     "shell.execute_reply": "2020-09-07T19:19:55.852806Z"
    },
    "papermill": {
     "duration": 0.398729,
     "end_time": "2020-09-07T19:19:55.860518",
     "exception": false,
     "start_time": "2020-09-07T19:19:55.461789",
     "status": "completed"
    },
    "tags": []
   },
   "outputs": [
    {
     "name": "stderr",
     "output_type": "stream",
     "text": [
      "2020-09-08 00:49:55,828 - No. of days - Train: 207, Val: 20\n"
     ]
    }
   ],
   "source": [
    "validation_days = 20\n",
    "train = df.iloc[:-validation_days].copy()\n",
    "val = df.iloc[-validation_days:].copy()\n",
    "logger.info('No. of days - Train: {}, Val: {}'.format(train.shape[0], val.shape[0]))"
   ]
  },
  {
   "cell_type": "markdown",
   "metadata": {
    "papermill": {
     "duration": 0.06459,
     "end_time": "2020-09-07T19:19:55.976101",
     "exception": false,
     "start_time": "2020-09-07T19:19:55.911511",
     "status": "completed"
    },
    "tags": []
   },
   "source": [
    "### Basic visualizations"
   ]
  },
  {
   "cell_type": "code",
   "execution_count": 24,
   "metadata": {
    "execution": {
     "iopub.execute_input": "2020-09-07T19:19:56.115099Z",
     "iopub.status.busy": "2020-09-07T19:19:56.112404Z",
     "iopub.status.idle": "2020-09-07T19:19:56.898096Z",
     "shell.execute_reply": "2020-09-07T19:19:56.897060Z"
    },
    "papermill": {
     "duration": 0.87004,
     "end_time": "2020-09-07T19:19:56.898096",
     "exception": false,
     "start_time": "2020-09-07T19:19:56.028056",
     "status": "completed"
    },
    "tags": []
   },
   "outputs": [
    {
     "data": {
      "text/plain": [
       "<matplotlib.legend.Legend at 0x269bc6a0320>"
      ]
     },
     "execution_count": 24,
     "metadata": {},
     "output_type": "execute_result"
    },
    {
     "data": {
      "image/png": "[encoded data removed]",
      "text/plain": [
       "<Figure size 1080x360 with 1 Axes>"
      ]
     },
     "metadata": {
      "needs_background": "light"
     },
     "output_type": "display_data"
    }
   ],
   "source": [
    "plt.figure(figsize=(15, 5))\n",
    "plt.grid()\n",
    "plt.plot(train['adj_close'], label='price')\n",
    "plt.plot(train['sma20'], label='simple moving average 20')\n",
    "plt.plot(train['ema12'], label='exponential moving average 12')\n",
    "plt.plot(train['ema26'], label='exponential moving average 26')\n",
    "plt.legend()"
   ]
  },
  {
   "cell_type": "markdown",
   "metadata": {
    "papermill": {
     "duration": 0.056711,
     "end_time": "2020-09-07T19:19:57.009265",
     "exception": false,
     "start_time": "2020-09-07T19:19:56.952554",
     "status": "completed"
    },
    "tags": []
   },
   "source": [
    "### Feature transformations"
   ]
  },
  {
   "cell_type": "code",
   "execution_count": 25,
   "metadata": {
    "execution": {
     "iopub.execute_input": "2020-09-07T19:19:57.135847Z",
     "iopub.status.busy": "2020-09-07T19:19:57.134841Z",
     "iopub.status.idle": "2020-09-07T19:19:57.440479Z",
     "shell.execute_reply": "2020-09-07T19:19:57.441483Z"
    },
    "papermill": {
     "duration": 0.371839,
     "end_time": "2020-09-07T19:19:57.442230",
     "exception": false,
     "start_time": "2020-09-07T19:19:57.070391",
     "status": "completed"
    },
    "tags": []
   },
   "outputs": [],
   "source": [
    "scaler = StandardScaler()"
   ]
  },
  {
   "cell_type": "code",
   "execution_count": 26,
   "metadata": {
    "execution": {
     "iopub.execute_input": "2020-09-07T19:19:57.563549Z",
     "iopub.status.busy": "2020-09-07T19:19:57.560904Z",
     "iopub.status.idle": "2020-09-07T19:19:57.876573Z",
     "shell.execute_reply": "2020-09-07T19:19:57.876573Z"
    },
    "papermill": {
     "duration": 0.382251,
     "end_time": "2020-09-07T19:19:57.876573",
     "exception": false,
     "start_time": "2020-09-07T19:19:57.494322",
     "status": "completed"
    },
    "tags": []
   },
   "outputs": [],
   "source": [
    "COLS_TO_SCALE = ['prev', 'sma2', 'sma5', 'sma10', 'sma20', 'ema12', 'ema26']"
   ]
  },
  {
   "cell_type": "code",
   "execution_count": 27,
   "metadata": {
    "execution": {
     "iopub.execute_input": "2020-09-07T19:19:58.030070Z",
     "iopub.status.busy": "2020-09-07T19:19:58.027515Z",
     "iopub.status.idle": "2020-09-07T19:19:58.341962Z",
     "shell.execute_reply": "2020-09-07T19:19:58.340685Z"
    },
    "papermill": {
     "duration": 0.390805,
     "end_time": "2020-09-07T19:19:58.341962",
     "exception": false,
     "start_time": "2020-09-07T19:19:57.951157",
     "status": "completed"
    },
    "tags": []
   },
   "outputs": [
    {
     "data": {
      "text/plain": [
       "StandardScaler(copy=True, with_mean=True, with_std=True)"
      ]
     },
     "execution_count": 27,
     "metadata": {},
     "output_type": "execute_result"
    }
   ],
   "source": [
    "scaler.fit(train[COLS_TO_SCALE])"
   ]
  },
  {
   "cell_type": "code",
   "execution_count": 28,
   "metadata": {
    "execution": {
     "iopub.execute_input": "2020-09-07T19:19:58.474436Z",
     "iopub.status.busy": "2020-09-07T19:19:58.472445Z",
     "iopub.status.idle": "2020-09-07T19:19:58.806296Z",
     "shell.execute_reply": "2020-09-07T19:19:58.808395Z"
    },
    "papermill": {
     "duration": 0.406365,
     "end_time": "2020-09-07T19:19:58.808395",
     "exception": false,
     "start_time": "2020-09-07T19:19:58.402030",
     "status": "completed"
    },
    "tags": []
   },
   "outputs": [],
   "source": [
    "train[COLS_TO_SCALE] = scaler.transform(train[COLS_TO_SCALE])\n",
    "val[COLS_TO_SCALE] = scaler.transform(val[COLS_TO_SCALE])"
   ]
  },
  {
   "cell_type": "markdown",
   "metadata": {
    "papermill": {
     "duration": 0.058098,
     "end_time": "2020-09-07T19:19:58.918549",
     "exception": false,
     "start_time": "2020-09-07T19:19:58.860451",
     "status": "completed"
    },
    "tags": []
   },
   "source": [
    "### Linear regression coefficients"
   ]
  },
  {
   "cell_type": "code",
   "execution_count": 29,
   "metadata": {
    "execution": {
     "iopub.execute_input": "2020-09-07T19:19:59.063293Z",
     "iopub.status.busy": "2020-09-07T19:19:59.062291Z",
     "iopub.status.idle": "2020-09-07T19:19:59.377677Z",
     "shell.execute_reply": "2020-09-07T19:19:59.376650Z"
    },
    "papermill": {
     "duration": 0.383326,
     "end_time": "2020-09-07T19:19:59.377677",
     "exception": false,
     "start_time": "2020-09-07T19:19:58.994351",
     "status": "completed"
    },
    "tags": []
   },
   "outputs": [
    {
     "name": "stderr",
     "output_type": "stream",
     "text": [
      "2020-09-08 00:49:59,351 - x variables: prev+sma2+sma5+sma10+sma20+ema12+ema26+sma2_diff+sma5_diff+sma10_diff+sma20_diff+ema12_diff+ema26_diff\n"
     ]
    }
   ],
   "source": [
    "x_variables = '+'.join(list(train.columns[1:-1]))\n",
    "logger.info('x variables: {}'.format(x_variables))"
   ]
  },
  {
   "cell_type": "code",
   "execution_count": 30,
   "metadata": {
    "execution": {
     "iopub.execute_input": "2020-09-07T19:19:59.506774Z",
     "iopub.status.busy": "2020-09-07T19:19:59.504422Z",
     "iopub.status.idle": "2020-09-07T19:19:59.875839Z",
     "shell.execute_reply": "2020-09-07T19:19:59.875839Z"
    },
    "papermill": {
     "duration": 0.439701,
     "end_time": "2020-09-07T19:19:59.875839",
     "exception": false,
     "start_time": "2020-09-07T19:19:59.436138",
     "status": "completed"
    },
    "tags": []
   },
   "outputs": [],
   "source": [
    "results = smf.ols('adj_close ~ {}'.format(x_variables), data=train).fit()"
   ]
  },
  {
   "cell_type": "code",
   "execution_count": 31,
   "metadata": {
    "execution": {
     "iopub.execute_input": "2020-09-07T19:20:00.017990Z",
     "iopub.status.busy": "2020-09-07T19:20:00.009839Z",
     "iopub.status.idle": "2020-09-07T19:20:00.359219Z",
     "shell.execute_reply": "2020-09-07T19:20:00.359219Z"
    },
    "papermill": {
     "duration": 0.416756,
     "end_time": "2020-09-07T19:20:00.359219",
     "exception": false,
     "start_time": "2020-09-07T19:19:59.942463",
     "status": "completed"
    },
    "scrolled": false,
    "tags": []
   },
   "outputs": [
    {
     "name": "stdout",
     "output_type": "stream",
     "text": [
      "                            OLS Regression Results                            \n",
      "==============================================================================\n",
      "Dep. Variable:              adj_close   R-squared:                       0.975\n",
      "Model:                            OLS   Adj. R-squared:                  0.973\n",
      "Method:                 Least Squares   F-statistic:                     578.1\n",
      "Date:                Tue, 08 Sep 2020   Prob (F-statistic):          8.72e-147\n",
      "Time:                        00:50:00   Log-Likelihood:                -930.76\n",
      "No. Observations:                 207   AIC:                             1890.\n",
      "Df Residuals:                     193   BIC:                             1936.\n",
      "Df Model:                          13                                         \n",
      "Covariance Type:            nonrobust                                         \n",
      "==============================================================================\n",
      "                 coef    std err          t      P>|t|      [0.025      0.975]\n",
      "------------------------------------------------------------------------------\n",
      "Intercept   3041.1045     46.445     65.478      0.000    2949.500    3132.709\n",
      "prev         185.6646    495.152      0.375      0.708    -790.940    1162.269\n",
      "sma2         120.9202    854.229      0.142      0.888   -1563.903    1805.744\n",
      "sma5        1403.7465   1735.709      0.809      0.420   -2019.648    4827.141\n",
      "sma10         98.3506   2555.307      0.038      0.969   -4941.562    5138.264\n",
      "sma20       1331.1240   1713.684      0.777      0.438   -2048.829    4711.077\n",
      "ema12      -2706.4934   7031.946     -0.385      0.701   -1.66e+04    1.12e+04\n",
      "ema26       -249.6699    960.045     -0.260      0.795   -2143.197    1643.857\n",
      "sma2_diff   3179.1214   1.86e+04      0.171      0.864   -3.34e+04    3.98e+04\n",
      "sma5_diff   3.311e+04   3.84e+04      0.861      0.390   -4.27e+04    1.09e+05\n",
      "sma10_diff  5057.1708   5.81e+04      0.087      0.931    -1.1e+05     1.2e+05\n",
      "sma20_diff  3.614e+04   4.21e+04      0.859      0.392   -4.69e+04    1.19e+05\n",
      "ema12_diff -7.252e+04   1.64e+05     -0.442      0.659   -3.96e+05    2.51e+05\n",
      "ema26_diff -6761.1402   2.45e+04     -0.276      0.783   -5.51e+04    4.16e+04\n",
      "==============================================================================\n",
      "Omnibus:                       48.526   Durbin-Watson:                   2.011\n",
      "Prob(Omnibus):                  0.000   Jarque-Bera (JB):               99.612\n",
      "Skew:                          -1.116   Prob(JB):                     2.34e-22\n",
      "Kurtosis:                       5.563   Cond. No.                     3.07e+05\n",
      "==============================================================================\n",
      "\n",
      "Warnings:\n",
      "[1] Standard Errors assume that the covariance matrix of the errors is correctly specified.\n",
      "[2] The condition number is large, 3.07e+05. This might indicate that there are\n",
      "strong multicollinearity or other numerical problems.\n"
     ]
    }
   ],
   "source": [
    "print(results.summary())"
   ]
  },
  {
   "cell_type": "markdown",
   "metadata": {
    "papermill": {
     "duration": 0.060176,
     "end_time": "2020-09-07T19:20:00.478206",
     "exception": false,
     "start_time": "2020-09-07T19:20:00.418030",
     "status": "completed"
    },
    "tags": []
   },
   "source": [
    "### Drop label col"
   ]
  },
  {
   "cell_type": "code",
   "execution_count": 32,
   "metadata": {
    "execution": {
     "iopub.execute_input": "2020-09-07T19:20:00.627549Z",
     "iopub.status.busy": "2020-09-07T19:20:00.626553Z",
     "iopub.status.idle": "2020-09-07T19:20:00.942139Z",
     "shell.execute_reply": "2020-09-07T19:20:00.942139Z"
    },
    "papermill": {
     "duration": 0.398928,
     "end_time": "2020-09-07T19:20:00.942139",
     "exception": false,
     "start_time": "2020-09-07T19:20:00.543211",
     "status": "completed"
    },
    "tags": []
   },
   "outputs": [],
   "source": [
    "train.drop(columns=['adj_close'], inplace=True)\n",
    "val.drop(columns=['adj_close'], inplace=True)"
   ]
  },
  {
   "cell_type": "markdown",
   "metadata": {
    "papermill": {
     "duration": 0.050909,
     "end_time": "2020-09-07T19:20:01.059683",
     "exception": false,
     "start_time": "2020-09-07T19:20:01.008774",
     "status": "completed"
    },
    "tags": []
   },
   "source": [
    "### Logistic Regression Coefficients"
   ]
  },
  {
   "cell_type": "code",
   "execution_count": 33,
   "metadata": {
    "execution": {
     "iopub.execute_input": "2020-09-07T19:20:01.209642Z",
     "iopub.status.busy": "2020-09-07T19:20:01.208641Z",
     "iopub.status.idle": "2020-09-07T19:20:01.518078Z",
     "shell.execute_reply": "2020-09-07T19:20:01.524187Z"
    },
    "papermill": {
     "duration": 0.382166,
     "end_time": "2020-09-07T19:20:01.524187",
     "exception": false,
     "start_time": "2020-09-07T19:20:01.142021",
     "status": "completed"
    },
    "tags": []
   },
   "outputs": [],
   "source": [
    "y = train['label'].values\n",
    "X = train.drop(columns=['label'])"
   ]
  },
  {
   "cell_type": "code",
   "execution_count": 34,
   "metadata": {
    "execution": {
     "iopub.execute_input": "2020-09-07T19:20:01.669485Z",
     "iopub.status.busy": "2020-09-07T19:20:01.669485Z",
     "iopub.status.idle": "2020-09-07T19:20:01.990997Z",
     "shell.execute_reply": "2020-09-07T19:20:01.989998Z"
    },
    "papermill": {
     "duration": 0.398079,
     "end_time": "2020-09-07T19:20:01.990997",
     "exception": false,
     "start_time": "2020-09-07T19:20:01.592918",
     "status": "completed"
    },
    "tags": []
   },
   "outputs": [],
   "source": [
    "X = add_constant(X)"
   ]
  },
  {
   "cell_type": "code",
   "execution_count": 35,
   "metadata": {
    "execution": {
     "iopub.execute_input": "2020-09-07T19:20:02.124014Z",
     "iopub.status.busy": "2020-09-07T19:20:02.118016Z",
     "iopub.status.idle": "2020-09-07T19:20:02.433459Z",
     "shell.execute_reply": "2020-09-07T19:20:02.433459Z"
    },
    "papermill": {
     "duration": 0.382633,
     "end_time": "2020-09-07T19:20:02.433459",
     "exception": false,
     "start_time": "2020-09-07T19:20:02.050826",
     "status": "completed"
    },
    "tags": []
   },
   "outputs": [],
   "source": [
    "logit = sm.Logit(y, X)"
   ]
  },
  {
   "cell_type": "code",
   "execution_count": 36,
   "metadata": {
    "execution": {
     "iopub.execute_input": "2020-09-07T19:20:02.674819Z",
     "iopub.status.busy": "2020-09-07T19:20:02.673819Z",
     "iopub.status.idle": "2020-09-07T19:20:03.116127Z",
     "shell.execute_reply": "2020-09-07T19:20:03.124090Z"
    },
    "papermill": {
     "duration": 0.548134,
     "end_time": "2020-09-07T19:20:03.124090",
     "exception": false,
     "start_time": "2020-09-07T19:20:02.575956",
     "status": "completed"
    },
    "tags": []
   },
   "outputs": [
    {
     "name": "stdout",
     "output_type": "stream",
     "text": [
      "Warning: Maximum number of iterations has been exceeded.\n",
      "         Current function value: 1.780240\n",
      "         Iterations: 35\n",
      "                           Logit Regression Results                           \n",
      "==============================================================================\n",
      "Dep. Variable:                      y   No. Observations:                  207\n",
      "Model:                          Logit   Df Residuals:                      193\n",
      "Method:                           MLE   Df Model:                           13\n",
      "Date:                Tue, 08 Sep 2020   Pseudo R-squ.:                  -1.617\n",
      "Time:                        00:50:03   Log-Likelihood:                -368.51\n",
      "converged:                      False   LL-Null:                       -140.84\n",
      "Covariance Type:            nonrobust   LLR p-value:                     1.000\n",
      "==============================================================================\n",
      "                 coef    std err          z      P>|z|      [0.025      0.975]\n",
      "------------------------------------------------------------------------------\n",
      "const         64.3716     15.369      4.188      0.000      34.249      94.494\n",
      "prev        -596.4932    150.250     -3.970      0.000    -890.977    -302.009\n",
      "sma2       -1707.3596    337.404     -5.060      0.000   -2368.660   -1046.059\n",
      "sma5       -4526.4406    749.987     -6.035      0.000   -5996.388   -3056.493\n",
      "sma10      -7961.4803   1300.633     -6.121      0.000   -1.05e+04   -5412.286\n",
      "sma20      -4616.2349    770.437     -5.992      0.000   -6126.263   -3106.207\n",
      "ema12       2.175e+04   3548.673      6.128      0.000    1.48e+04    2.87e+04\n",
      "ema26      -2471.3916    424.812     -5.818      0.000   -3304.007   -1638.776\n",
      "sma2_diff  -3.704e+04   7310.690     -5.067      0.000   -5.14e+04   -2.27e+04\n",
      "sma5_diff  -1.001e+05   1.66e+04     -6.037      0.000   -1.33e+05   -6.76e+04\n",
      "sma10_diff -1.811e+05   2.96e+04     -6.120      0.000   -2.39e+05   -1.23e+05\n",
      "sma20_diff -1.128e+05   1.88e+04     -5.992      0.000    -1.5e+05   -7.59e+04\n",
      "ema12_diff  5.072e+05   8.28e+04      6.127      0.000    3.45e+05    6.69e+05\n",
      "ema26_diff -6.339e+04   1.09e+04     -5.815      0.000   -8.48e+04    -4.2e+04\n",
      "==============================================================================\n"
     ]
    },
    {
     "name": "stderr",
     "output_type": "stream",
     "text": [
      "C:\\Users\\ShadabHussain\\Anaconda3\\lib\\site-packages\\statsmodels\\base\\model.py:512: ConvergenceWarning: Maximum Likelihood optimization failed to converge. Check mle_retvals\n",
      "  \"Check mle_retvals\", ConvergenceWarning)\n"
     ]
    }
   ],
   "source": [
    "result = logit.fit()\n",
    "print(result.summary())"
   ]
  },
  {
   "cell_type": "markdown",
   "metadata": {
    "papermill": {
     "duration": 0.089557,
     "end_time": "2020-09-07T19:20:03.309116",
     "exception": false,
     "start_time": "2020-09-07T19:20:03.219559",
     "status": "completed"
    },
    "tags": []
   },
   "source": [
    "### Train some basic models"
   ]
  },
  {
   "cell_type": "code",
   "execution_count": 37,
   "metadata": {
    "execution": {
     "iopub.execute_input": "2020-09-07T19:20:03.500331Z",
     "iopub.status.busy": "2020-09-07T19:20:03.500331Z",
     "iopub.status.idle": "2020-09-07T19:20:03.875372Z",
     "shell.execute_reply": "2020-09-07T19:20:03.875372Z"
    },
    "papermill": {
     "duration": 0.467515,
     "end_time": "2020-09-07T19:20:03.875372",
     "exception": false,
     "start_time": "2020-09-07T19:20:03.407857",
     "status": "completed"
    },
    "tags": []
   },
   "outputs": [],
   "source": [
    "y_train = train['label'].values\n",
    "X_train = train.drop(columns='label').values\n",
    "\n",
    "y_val = val['label'].values\n",
    "X_val = val.drop(columns='label').values"
   ]
  },
  {
   "cell_type": "code",
   "execution_count": 38,
   "metadata": {
    "execution": {
     "iopub.execute_input": "2020-09-07T19:20:04.058191Z",
     "iopub.status.busy": "2020-09-07T19:20:04.058191Z",
     "iopub.status.idle": "2020-09-07T19:20:06.290213Z",
     "shell.execute_reply": "2020-09-07T19:20:06.290213Z"
    },
    "papermill": {
     "duration": 2.333439,
     "end_time": "2020-09-07T19:20:06.291216",
     "exception": false,
     "start_time": "2020-09-07T19:20:03.957777",
     "status": "completed"
    },
    "tags": []
   },
   "outputs": [
    {
     "name": "stderr",
     "output_type": "stream",
     "text": [
      "2020-09-08 00:50:04,461 - AUC: 0.303 | Recall: 0.889 | Precision: 0.444 | F1: 0.593\n"
     ]
    },
    {
     "name": "stderr",
     "output_type": "stream",
     "text": [
      "2020-09-08 00:50:04,647 - ROC curve saved to: ../artifact_dir/plots/roc_curve_Logistic Regression (auc = 0.30).png\n"
     ]
    },
    {
     "name": "stdout",
     "output_type": "stream",
     "text": [
      "INFO: 'stock_up_down' does not exist. Creating a new experiment\n"
     ]
    },
    {
     "name": "stderr",
     "output_type": "stream",
     "text": [
      "2020-09-08 00:50:04,986 - Precision-recall curve saved to: ../artifact_dir/plots/precision_recall_Logistic Regression prec= 0.44 recall= 0.89.png\n"
     ]
    },
    {
     "name": "stderr",
     "output_type": "stream",
     "text": [
      "2020-09-08 00:50:04,986 - Model saved to: ../artifact_dir/models/Logistic Regression.pickle\n"
     ]
    },
    {
     "name": "stderr",
     "output_type": "stream",
     "text": [
      "C:\\Users\\ShadabHussain\\Anaconda3\\lib\\site-packages\\py4j\\java_collections.py:13: DeprecationWarning: Using or importing the ABCs from 'collections' instead of from 'collections.abc' is deprecated, and in 3.8 it will stop working\n",
      "  from collections import (\n",
      "C:\\Users\\ShadabHussain\\Anaconda3\\lib\\site-packages\\pyspark\\resultiterable.py:23: DeprecationWarning: Using or importing the ABCs from 'collections' instead of from 'collections.abc' is deprecated, and in 3.8 it will stop working\n",
      "  class ResultIterable(collections.Iterable):\n"
     ]
    },
    {
     "data": {
      "image/png": "[encoded data removed]",
      "text/plain": [
       "<Figure size 360x360 with 1 Axes>"
      ]
     },
     "metadata": {
      "needs_background": "light"
     },
     "output_type": "display_data"
    },
    {
     "data": {
      "image/png": "[encoded data removed]",
      "text/plain": [
       "<Figure size 1080x360 with 1 Axes>"
      ]
     },
     "metadata": {
      "needs_background": "light"
     },
     "output_type": "display_data"
    }
   ],
   "source": [
    "# Logistic regression\n",
    "model_name = 'Logistic Regression'\n",
    "model = LogisticRegression(fit_intercept=False).fit(X_train, y_train)\n",
    "pred = model.predict_proba(X_val)[:, 1]\n",
    "log_mlflow(run_params, model, model_name, y_val, pred)"
   ]
  },
  {
   "cell_type": "code",
   "execution_count": 39,
   "metadata": {
    "execution": {
     "iopub.execute_input": "2020-09-07T19:20:06.439157Z",
     "iopub.status.busy": "2020-09-07T19:20:06.437276Z",
     "iopub.status.idle": "2020-09-07T19:20:07.956892Z",
     "shell.execute_reply": "2020-09-07T19:20:07.953895Z"
    },
    "papermill": {
     "duration": 1.597884,
     "end_time": "2020-09-07T19:20:07.956892",
     "exception": false,
     "start_time": "2020-09-07T19:20:06.359008",
     "status": "completed"
    },
    "tags": []
   },
   "outputs": [
    {
     "name": "stderr",
     "output_type": "stream",
     "text": [
      "2020-09-08 00:50:06,777 - AUC: 0.707 | Recall: 1.000 | Precision: 0.450 | F1: 0.621\n"
     ]
    },
    {
     "name": "stderr",
     "output_type": "stream",
     "text": [
      "2020-09-08 00:50:06,932 - ROC curve saved to: ../artifact_dir/plots/roc_curve_Support Vector Classifier (auc = 0.71).png\n"
     ]
    },
    {
     "name": "stderr",
     "output_type": "stream",
     "text": [
      "2020-09-08 00:50:07,148 - Precision-recall curve saved to: ../artifact_dir/plots/precision_recall_Support Vector Classifier prec= 0.45 recall= 1.00.png\n"
     ]
    },
    {
     "name": "stderr",
     "output_type": "stream",
     "text": [
      "2020-09-08 00:50:07,148 - Model saved to: ../artifact_dir/models/Support Vector Classifier.pickle\n"
     ]
    },
    {
     "data": {
      "image/png": "[encoded data removed]",
      "text/plain": [
       "<Figure size 360x360 with 1 Axes>"
      ]
     },
     "metadata": {
      "needs_background": "light"
     },
     "output_type": "display_data"
    },
    {
     "data": {
      "image/png": "[encoded data removed]",
      "text/plain": [
       "<Figure size 1080x360 with 1 Axes>"
      ]
     },
     "metadata": {
      "needs_background": "light"
     },
     "output_type": "display_data"
    }
   ],
   "source": [
    "# Support vector classifier\n",
    "model_name = 'Support Vector Classifier'\n",
    "model = SVC(gamma=2, C=1, probability=True).fit(X_train, y_train)\n",
    "pred = model.predict_proba(X_val)[:, 1]\n",
    "log_mlflow(run_params, model, model_name, y_val, pred)"
   ]
  },
  {
   "cell_type": "code",
   "execution_count": 40,
   "metadata": {
    "execution": {
     "iopub.execute_input": "2020-09-07T19:20:08.194913Z",
     "iopub.status.busy": "2020-09-07T19:20:08.194913Z",
     "iopub.status.idle": "2020-09-07T19:20:10.306000Z",
     "shell.execute_reply": "2020-09-07T19:20:10.305466Z"
    },
    "papermill": {
     "duration": 2.214344,
     "end_time": "2020-09-07T19:20:10.306000",
     "exception": false,
     "start_time": "2020-09-07T19:20:08.091656",
     "status": "completed"
    },
    "tags": []
   },
   "outputs": [
    {
     "name": "stderr",
     "output_type": "stream",
     "text": [
      "2020-09-08 00:50:08,729 - AUC: 0.480 | Recall: 0.333 | Precision: 0.429 | F1: 0.375\n"
     ]
    },
    {
     "name": "stderr",
     "output_type": "stream",
     "text": [
      "2020-09-08 00:50:08,986 - ROC curve saved to: ../artifact_dir/plots/roc_curve_K-nearest Neighbours (auc = 0.48).png\n"
     ]
    },
    {
     "name": "stderr",
     "output_type": "stream",
     "text": [
      "2020-09-08 00:50:09,305 - Precision-recall curve saved to: ../artifact_dir/plots/precision_recall_K-nearest Neighbours prec= 0.43 recall= 0.33.png\n"
     ]
    },
    {
     "name": "stderr",
     "output_type": "stream",
     "text": [
      "2020-09-08 00:50:09,311 - Model saved to: ../artifact_dir/models/K-nearest Neighbours.pickle\n"
     ]
    },
    {
     "data": {
      "image/png": "[encoded data removed]",
      "text/plain": [
       "<Figure size 360x360 with 1 Axes>"
      ]
     },
     "metadata": {
      "needs_background": "light"
     },
     "output_type": "display_data"
    },
    {
     "data": {
      "image/png": "[encoded data removed]",
      "text/plain": [
       "<Figure size 1080x360 with 1 Axes>"
      ]
     },
     "metadata": {
      "needs_background": "light"
     },
     "output_type": "display_data"
    }
   ],
   "source": [
    "# K-neighbours\n",
    "model_name = 'K-nearest Neighbours'\n",
    "model = KNeighborsClassifier(5).fit(X_train, y_train)\n",
    "pred = model.predict_proba(X_val)[:, 1]\n",
    "log_mlflow(run_params, model, model_name, y_val, pred)"
   ]
  },
  {
   "cell_type": "code",
   "execution_count": 41,
   "metadata": {
    "execution": {
     "iopub.execute_input": "2020-09-07T19:20:10.511833Z",
     "iopub.status.busy": "2020-09-07T19:20:10.511833Z",
     "iopub.status.idle": "2020-09-07T19:20:12.317322Z",
     "shell.execute_reply": "2020-09-07T19:20:12.315045Z"
    },
    "papermill": {
     "duration": 1.911722,
     "end_time": "2020-09-07T19:20:12.317322",
     "exception": false,
     "start_time": "2020-09-07T19:20:10.405600",
     "status": "completed"
    },
    "tags": []
   },
   "outputs": [
    {
     "name": "stderr",
     "output_type": "stream",
     "text": [
      "2020-09-08 00:50:10,976 - AUC: 0.333 | Recall: 0.222 | Precision: 0.286 | F1: 0.250\n"
     ]
    },
    {
     "name": "stderr",
     "output_type": "stream",
     "text": [
      "2020-09-08 00:50:11,238 - ROC curve saved to: ../artifact_dir/plots/roc_curve_Gradient Boosting Machine (auc = 0.33).png\n"
     ]
    },
    {
     "name": "stderr",
     "output_type": "stream",
     "text": [
      "2020-09-08 00:50:11,493 - Precision-recall curve saved to: ../artifact_dir/plots/precision_recall_Gradient Boosting Machine prec= 0.29 recall= 0.22.png\n"
     ]
    },
    {
     "name": "stderr",
     "output_type": "stream",
     "text": [
      "2020-09-08 00:50:11,495 - Model saved to: ../artifact_dir/models/Gradient Boosting Machine.pickle\n"
     ]
    },
    {
     "data": {
      "image/png": "[encoded data removed]",
      "text/plain": [
       "<Figure size 360x360 with 1 Axes>"
      ]
     },
     "metadata": {
      "needs_background": "light"
     },
     "output_type": "display_data"
    },
    {
     "data": {
      "image/png": "[encoded data removed]",
      "text/plain": [
       "<Figure size 1080x360 with 1 Axes>"
      ]
     },
     "metadata": {
      "needs_background": "light"
     },
     "output_type": "display_data"
    }
   ],
   "source": [
    "# Gradient Boosting\n",
    "model_name = 'Gradient Boosting Machine'\n",
    "model = GradientBoostingClassifier().fit(X_train, y_train)\n",
    "pred = model.predict_proba(X_val)[:, 1]\n",
    "log_mlflow(run_params, model, model_name, y_val, pred)"
   ]
  },
  {
   "cell_type": "code",
   "execution_count": 42,
   "metadata": {
    "execution": {
     "iopub.execute_input": "2020-09-07T19:20:12.519226Z",
     "iopub.status.busy": "2020-09-07T19:20:12.511051Z",
     "iopub.status.idle": "2020-09-07T19:20:14.025755Z",
     "shell.execute_reply": "2020-09-07T19:20:14.025755Z"
    },
    "papermill": {
     "duration": 1.624128,
     "end_time": "2020-09-07T19:20:14.025755",
     "exception": false,
     "start_time": "2020-09-07T19:20:12.401627",
     "status": "completed"
    },
    "tags": []
   },
   "outputs": [
    {
     "name": "stderr",
     "output_type": "stream",
     "text": [
      "2020-09-08 00:50:12,952 - AUC: 0.455 | Recall: 0.222 | Precision: 0.286 | F1: 0.250\n"
     ]
    },
    {
     "name": "stderr",
     "output_type": "stream",
     "text": [
      "2020-09-08 00:50:13,143 - ROC curve saved to: ../artifact_dir/plots/roc_curve_Extra Trees (auc = 0.45).png\n"
     ]
    },
    {
     "name": "stderr",
     "output_type": "stream",
     "text": [
      "2020-09-08 00:50:13,391 - Precision-recall curve saved to: ../artifact_dir/plots/precision_recall_Extra Trees prec= 0.29 recall= 0.22.png\n"
     ]
    },
    {
     "name": "stderr",
     "output_type": "stream",
     "text": [
      "2020-09-08 00:50:13,400 - Model saved to: ../artifact_dir/models/Extra Trees.pickle\n"
     ]
    },
    {
     "data": {
      "image/png": "[encoded data removed]",
      "text/plain": [
       "<Figure size 360x360 with 1 Axes>"
      ]
     },
     "metadata": {
      "needs_background": "light"
     },
     "output_type": "display_data"
    },
    {
     "data": {
      "image/png": "[encoded data removed]",
      "text/plain": [
       "<Figure size 1080x360 with 1 Axes>"
      ]
     },
     "metadata": {
      "needs_background": "light"
     },
     "output_type": "display_data"
    }
   ],
   "source": [
    "# Bagged trees\n",
    "model_name = 'Extra Trees'\n",
    "model = ExtraTreesClassifier().fit(X_train, y_train)\n",
    "pred = model.predict_proba(X_val)[:, 1]\n",
    "log_mlflow(run_params, model, model_name, y_val, pred)"
   ]
  },
  {
   "cell_type": "markdown",
   "metadata": {
    "papermill": {
     "duration": 0.230135,
     "end_time": "2020-09-07T19:20:14.392411",
     "exception": false,
     "start_time": "2020-09-07T19:20:14.162276",
     "status": "completed"
    },
    "tags": []
   },
   "source": [
    "### Test loading model"
   ]
  },
  {
   "cell_type": "code",
   "execution_count": 43,
   "metadata": {
    "execution": {
     "iopub.execute_input": "2020-09-07T19:20:14.630942Z",
     "iopub.status.busy": "2020-09-07T19:20:14.630942Z",
     "iopub.status.idle": "2020-09-07T19:20:15.011097Z",
     "shell.execute_reply": "2020-09-07T19:20:15.012089Z"
    },
    "papermill": {
     "duration": 0.512193,
     "end_time": "2020-09-07T19:20:15.012089",
     "exception": false,
     "start_time": "2020-09-07T19:20:14.499896",
     "status": "completed"
    },
    "tags": []
   },
   "outputs": [],
   "source": [
    "model_name = 'Support Vector Classifier'\n",
    "check_model = load('{}/models/{}.pickle'.format(ARTIFACT_DIR, model_name))"
   ]
  },
  {
   "cell_type": "code",
   "execution_count": 44,
   "metadata": {
    "execution": {
     "iopub.execute_input": "2020-09-07T19:20:15.213410Z",
     "iopub.status.busy": "2020-09-07T19:20:15.210083Z",
     "iopub.status.idle": "2020-09-07T19:20:15.559880Z",
     "shell.execute_reply": "2020-09-07T19:20:15.565340Z"
    },
    "papermill": {
     "duration": 0.456376,
     "end_time": "2020-09-07T19:20:15.565340",
     "exception": false,
     "start_time": "2020-09-07T19:20:15.108964",
     "status": "completed"
    },
    "tags": []
   },
   "outputs": [
    {
     "data": {
      "text/plain": [
       "SVC(C=1, cache_size=200, class_weight=None, coef0=0.0,\n",
       "    decision_function_shape='ovr', degree=3, gamma=2, kernel='rbf', max_iter=-1,\n",
       "    probability=True, random_state=None, shrinking=True, tol=0.001,\n",
       "    verbose=False)"
      ]
     },
     "execution_count": 44,
     "metadata": {},
     "output_type": "execute_result"
    }
   ],
   "source": [
    "check_model"
   ]
  },
  {
   "cell_type": "code",
   "execution_count": 45,
   "metadata": {
    "execution": {
     "iopub.execute_input": "2020-09-07T19:20:15.815607Z",
     "iopub.status.busy": "2020-09-07T19:20:15.813780Z",
     "iopub.status.idle": "2020-09-07T19:20:16.172295Z",
     "shell.execute_reply": "2020-09-07T19:20:16.171057Z"
    },
    "papermill": {
     "duration": 0.515201,
     "end_time": "2020-09-07T19:20:16.173300",
     "exception": false,
     "start_time": "2020-09-07T19:20:15.658099",
     "status": "completed"
    },
    "tags": []
   },
   "outputs": [],
   "source": [
    "pred = check_model.predict_proba(X_val)[:, 1]"
   ]
  },
  {
   "cell_type": "code",
   "execution_count": 46,
   "metadata": {
    "execution": {
     "iopub.execute_input": "2020-09-07T19:20:16.464700Z",
     "iopub.status.busy": "2020-09-07T19:20:16.461893Z",
     "iopub.status.idle": "2020-09-07T19:20:17.047037Z",
     "shell.execute_reply": "2020-09-07T19:20:17.047037Z"
    },
    "papermill": {
     "duration": 0.738942,
     "end_time": "2020-09-07T19:20:17.047037",
     "exception": false,
     "start_time": "2020-09-07T19:20:16.308095",
     "status": "completed"
    },
    "tags": []
   },
   "outputs": [
    {
     "name": "stderr",
     "output_type": "stream",
     "text": [
      "2020-09-08 00:50:17,031 - AUC: 0.707 | Recall: 1.000 | Precision: 0.450 | F1: 0.621\n"
     ]
    },
    {
     "data": {
      "text/plain": [
       "(0.7070707070707071, 1.0, 0.45, 0.6206896551724138)"
      ]
     },
     "execution_count": 46,
     "metadata": {},
     "output_type": "execute_result"
    }
   ],
   "source": [
    "evaluate_binary(y_val, pred)"
   ]
  }
 ],
 "metadata": {
  "kernelspec": {
   "display_name": "Python 3",
   "language": "python",
   "name": "python3"
  },
  "language_info": {
   "codemirror_mode": {
    "name": "ipython",
    "version": 3
   },
   "file_extension": ".py",
   "mimetype": "text/x-python",
   "name": "python",
   "nbconvert_exporter": "python",
   "pygments_lexer": "ipython3",
   "version": "3.7.3"
  },
  "papermill": {
   "duration": 37.611598,
   "end_time": "2020-09-07T19:20:18.756577",
   "environment_variables": {},
   "exception": null,
   "input_path": "stock_up_down_parametrize.ipynb",
   "output_path": "../artifact_dir/notebooks/stock_up_down_SNP.ipynb",
   "parameters": {
    "INDEX": "SNP"
   },
   "start_time": "2020-09-07T19:19:41.144979",
   "version": "2.1.3"
  }
 },
 "nbformat": 4,
 "nbformat_minor": 4
}