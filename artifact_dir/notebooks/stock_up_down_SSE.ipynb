{
 "cells": [
  {
   "cell_type": "code",
   "execution_count": 1,
   "metadata": {
    "execution": {
     "iopub.execute_input": "2020-09-07T19:21:04.948942Z",
     "iopub.status.busy": "2020-09-07T19:21:04.948942Z",
     "iopub.status.idle": "2020-09-07T19:21:05.010295Z",
     "shell.execute_reply": "2020-09-07T19:21:05.010295Z"
    },
    "papermill": {
     "duration": 0.144119,
     "end_time": "2020-09-07T19:21:05.010295",
     "exception": false,
     "start_time": "2020-09-07T19:21:04.866176",
     "status": "completed"
    },
    "tags": []
   },
   "outputs": [],
   "source": [
    "%load_ext autoreload\n",
    "%autoreload 2"
   ]
  },
  {
   "cell_type": "code",
   "execution_count": 2,
   "metadata": {
    "execution": {
     "iopub.execute_input": "2020-09-07T19:21:05.143216Z",
     "iopub.status.busy": "2020-09-07T19:21:05.140323Z",
     "iopub.status.idle": "2020-09-07T19:21:05.200629Z",
     "shell.execute_reply": "2020-09-07T19:21:05.200629Z"
    },
    "papermill": {
     "duration": 0.12625,
     "end_time": "2020-09-07T19:21:05.200629",
     "exception": false,
     "start_time": "2020-09-07T19:21:05.074379",
     "status": "completed"
    },
    "tags": []
   },
   "outputs": [],
   "source": [
    "import warnings\n",
    "warnings.filterwarnings(\"ignore\")"
   ]
  },
  {
   "cell_type": "code",
   "execution_count": 3,
   "metadata": {
    "execution": {
     "iopub.execute_input": "2020-09-07T19:21:05.339859Z",
     "iopub.status.busy": "2020-09-07T19:21:05.338539Z",
     "iopub.status.idle": "2020-09-07T19:21:09.340579Z",
     "shell.execute_reply": "2020-09-07T19:21:09.340280Z"
    },
    "papermill": {
     "duration": 4.081645,
     "end_time": "2020-09-07T19:21:09.340579",
     "exception": false,
     "start_time": "2020-09-07T19:21:05.258934",
     "status": "completed"
    },
    "tags": []
   },
   "outputs": [],
   "source": [
    "import pandas as pd\n",
    "import matplotlib.pyplot as plt\n",
    "import statsmodels.api as sm\n",
    "import statsmodels.formula.api as smf\n",
    "from statsmodels.tools.tools import add_constant\n",
    "from sklearn.preprocessing import StandardScaler\n",
    "from sklearn.linear_model import LogisticRegression\n",
    "from sklearn.svm import SVC\n",
    "from sklearn.neighbors import KNeighborsClassifier\n",
    "from sklearn.ensemble import GradientBoostingClassifier, ExtraTreesClassifier\n",
    "from joblib import load\n",
    "\n",
    "from logger import logger\n",
    "from utils import evaluate_binary, log_mlflow"
   ]
  },
  {
   "cell_type": "code",
   "execution_count": 4,
   "metadata": {
    "execution": {
     "iopub.execute_input": "2020-09-07T19:21:09.468263Z",
     "iopub.status.busy": "2020-09-07T19:21:09.466189Z",
     "iopub.status.idle": "2020-09-07T19:21:09.680042Z",
     "shell.execute_reply": "2020-09-07T19:21:09.679039Z"
    },
    "papermill": {
     "duration": 0.28527,
     "end_time": "2020-09-07T19:21:09.680042",
     "exception": false,
     "start_time": "2020-09-07T19:21:09.394772",
     "status": "completed"
    },
    "tags": [
     "parameters"
    ]
   },
   "outputs": [],
   "source": [
    "# Tag this cell as 'parameters'\n",
    "INDEX = 'SNP'"
   ]
  },
  {
   "cell_type": "code",
   "execution_count": 5,
   "metadata": {
    "execution": {
     "iopub.execute_input": "2020-09-07T19:21:09.791533Z",
     "iopub.status.busy": "2020-09-07T19:21:09.790695Z",
     "iopub.status.idle": "2020-09-07T19:21:10.005637Z",
     "shell.execute_reply": "2020-09-07T19:21:10.009246Z"
    },
    "papermill": {
     "duration": 0.27877,
     "end_time": "2020-09-07T19:21:10.009246",
     "exception": false,
     "start_time": "2020-09-07T19:21:09.730476",
     "status": "completed"
    },
    "tags": [
     "injected-parameters"
    ]
   },
   "outputs": [],
   "source": [
    "# Parameters\n",
    "INDEX = \"SSE\"\n"
   ]
  },
  {
   "cell_type": "code",
   "execution_count": 6,
   "metadata": {
    "execution": {
     "iopub.execute_input": "2020-09-07T19:21:10.144207Z",
     "iopub.status.busy": "2020-09-07T19:21:10.143202Z",
     "iopub.status.idle": "2020-09-07T19:21:10.348179Z",
     "shell.execute_reply": "2020-09-07T19:21:10.347835Z"
    },
    "papermill": {
     "duration": 0.277193,
     "end_time": "2020-09-07T19:21:10.348179",
     "exception": false,
     "start_time": "2020-09-07T19:21:10.070986",
     "status": "completed"
    },
    "tags": []
   },
   "outputs": [],
   "source": [
    "EXPERIMENT = 'stock_up_down'  # Name of experiment\n",
    "RUN_NAME = 'initial assessment'  # Name of iteration (that will show\n",
    "ARTIFACT_DIR = '../artifact_dir'  # Dir for notebook outputs where plots are saved"
   ]
  },
  {
   "cell_type": "code",
   "execution_count": 7,
   "metadata": {
    "execution": {
     "iopub.execute_input": "2020-09-07T19:21:10.452940Z",
     "iopub.status.busy": "2020-09-07T19:21:10.450361Z",
     "iopub.status.idle": "2020-09-07T19:21:10.643101Z",
     "shell.execute_reply": "2020-09-07T19:21:10.642102Z"
    },
    "papermill": {
     "duration": 0.248202,
     "end_time": "2020-09-07T19:21:10.643101",
     "exception": false,
     "start_time": "2020-09-07T19:21:10.394899",
     "status": "completed"
    },
    "tags": []
   },
   "outputs": [],
   "source": [
    "# Wrap all this is a parameter dict\n",
    "run_params = {'experiment': EXPERIMENT,\n",
    "              'iteration': RUN_NAME,\n",
    "              'index': INDEX,\n",
    "              'artifact_dir': ARTIFACT_DIR}"
   ]
  },
  {
   "cell_type": "markdown",
   "metadata": {
    "papermill": {
     "duration": 0.05549,
     "end_time": "2020-09-07T19:21:10.754692",
     "exception": false,
     "start_time": "2020-09-07T19:21:10.699202",
     "status": "completed"
    },
    "tags": []
   },
   "source": [
    "### Import data"
   ]
  },
  {
   "cell_type": "code",
   "execution_count": 8,
   "metadata": {
    "execution": {
     "iopub.execute_input": "2020-09-07T19:21:10.892723Z",
     "iopub.status.busy": "2020-09-07T19:21:10.892723Z",
     "iopub.status.idle": "2020-09-07T19:21:11.251847Z",
     "shell.execute_reply": "2020-09-07T19:21:11.249398Z"
    },
    "papermill": {
     "duration": 0.441545,
     "end_time": "2020-09-07T19:21:11.251847",
     "exception": false,
     "start_time": "2020-09-07T19:21:10.810302",
     "status": "completed"
    },
    "tags": []
   },
   "outputs": [],
   "source": [
    "df = pd.read_csv('../datadir/{}.csv'.format(INDEX))"
   ]
  },
  {
   "cell_type": "markdown",
   "metadata": {
    "papermill": {
     "duration": 0.083035,
     "end_time": "2020-09-07T19:21:11.393579",
     "exception": false,
     "start_time": "2020-09-07T19:21:11.310544",
     "status": "completed"
    },
    "tags": []
   },
   "source": [
    "### Data prep"
   ]
  },
  {
   "cell_type": "code",
   "execution_count": 9,
   "metadata": {
    "execution": {
     "iopub.execute_input": "2020-09-07T19:21:11.551637Z",
     "iopub.status.busy": "2020-09-07T19:21:11.548805Z",
     "iopub.status.idle": "2020-09-07T19:21:11.835947Z",
     "shell.execute_reply": "2020-09-07T19:21:11.835947Z"
    },
    "papermill": {
     "duration": 0.362222,
     "end_time": "2020-09-07T19:21:11.835947",
     "exception": false,
     "start_time": "2020-09-07T19:21:11.473725",
     "status": "completed"
    },
    "tags": []
   },
   "outputs": [],
   "source": [
    "df.columns = [col.lower().replace(' ', '_') for col in df.columns]"
   ]
  },
  {
   "cell_type": "code",
   "execution_count": 10,
   "metadata": {
    "execution": {
     "iopub.execute_input": "2020-09-07T19:21:12.045565Z",
     "iopub.status.busy": "2020-09-07T19:21:12.037479Z",
     "iopub.status.idle": "2020-09-07T19:21:12.392162Z",
     "shell.execute_reply": "2020-09-07T19:21:12.393903Z"
    },
    "papermill": {
     "duration": 0.488787,
     "end_time": "2020-09-07T19:21:12.393903",
     "exception": false,
     "start_time": "2020-09-07T19:21:11.905116",
     "status": "completed"
    },
    "tags": []
   },
   "outputs": [],
   "source": [
    "df.sort_values(by='date', ascending=True, inplace=True)  # Have to sort ascending for rolling to work correctly"
   ]
  },
  {
   "cell_type": "markdown",
   "metadata": {
    "papermill": {
     "duration": 0.080425,
     "end_time": "2020-09-07T19:21:12.525982",
     "exception": false,
     "start_time": "2020-09-07T19:21:12.445557",
     "status": "completed"
    },
    "tags": []
   },
   "source": [
    "### Create basic features"
   ]
  },
  {
   "cell_type": "code",
   "execution_count": 11,
   "metadata": {
    "execution": {
     "iopub.execute_input": "2020-09-07T19:21:12.658575Z",
     "iopub.status.busy": "2020-09-07T19:21:12.657462Z",
     "iopub.status.idle": "2020-09-07T19:21:13.051761Z",
     "shell.execute_reply": "2020-09-07T19:21:13.051761Z"
    },
    "papermill": {
     "duration": 0.457789,
     "end_time": "2020-09-07T19:21:13.051761",
     "exception": false,
     "start_time": "2020-09-07T19:21:12.593972",
     "status": "completed"
    },
    "tags": []
   },
   "outputs": [],
   "source": [
    "df = df[['date', 'open', 'adj_close']].copy()"
   ]
  },
  {
   "cell_type": "code",
   "execution_count": 12,
   "metadata": {
    "execution": {
     "iopub.execute_input": "2020-09-07T19:21:13.215923Z",
     "iopub.status.busy": "2020-09-07T19:21:13.208585Z",
     "iopub.status.idle": "2020-09-07T19:21:13.624936Z",
     "shell.execute_reply": "2020-09-07T19:21:13.626474Z"
    },
    "papermill": {
     "duration": 0.491886,
     "end_time": "2020-09-07T19:21:13.626474",
     "exception": false,
     "start_time": "2020-09-07T19:21:13.134588",
     "status": "completed"
    },
    "tags": []
   },
   "outputs": [],
   "source": [
    "df['prev'] = df['adj_close'].shift(1)"
   ]
  },
  {
   "cell_type": "code",
   "execution_count": 13,
   "metadata": {
    "execution": {
     "iopub.execute_input": "2020-09-07T19:21:13.748747Z",
     "iopub.status.busy": "2020-09-07T19:21:13.747747Z",
     "iopub.status.idle": "2020-09-07T19:21:14.086663Z",
     "shell.execute_reply": "2020-09-07T19:21:14.088672Z"
    },
    "papermill": {
     "duration": 0.402855,
     "end_time": "2020-09-07T19:21:14.088672",
     "exception": false,
     "start_time": "2020-09-07T19:21:13.685817",
     "status": "completed"
    },
    "tags": []
   },
   "outputs": [],
   "source": [
    "df['sma2'] = df['prev'].rolling(window=2).mean()\n",
    "df['sma5'] = df['prev'].rolling(window=5).mean()\n",
    "df['sma10'] = df['prev'].rolling(window=10).mean()\n",
    "df['sma20'] = df['prev'].rolling(window=20).mean()"
   ]
  },
  {
   "cell_type": "code",
   "execution_count": 14,
   "metadata": {
    "execution": {
     "iopub.execute_input": "2020-09-07T19:21:14.256454Z",
     "iopub.status.busy": "2020-09-07T19:21:14.256454Z",
     "iopub.status.idle": "2020-09-07T19:21:14.592993Z",
     "shell.execute_reply": "2020-09-07T19:21:14.592993Z"
    },
    "papermill": {
     "duration": 0.406074,
     "end_time": "2020-09-07T19:21:14.592993",
     "exception": false,
     "start_time": "2020-09-07T19:21:14.186919",
     "status": "completed"
    },
    "tags": []
   },
   "outputs": [],
   "source": [
    "assert round(df['prev'].tail(5).mean(), 4) == round(df['sma5'].tail(1).item(), 4), 'Expected sma5 to be same as mean of past 5 items'\n",
    "assert round(df['prev'].tail(10).mean(), 4) == round(df['sma10'].tail(1).item(), 4), 'Expected sma10 to be same as mean of past 10 items'\n",
    "assert round(df['prev'].tail(20).mean(), 4) == round(df['sma20'].tail(1).item(), 4), 'Expected sma20 to be same as mean of past 20 items'"
   ]
  },
  {
   "cell_type": "code",
   "execution_count": 15,
   "metadata": {
    "execution": {
     "iopub.execute_input": "2020-09-07T19:21:14.730642Z",
     "iopub.status.busy": "2020-09-07T19:21:14.729428Z",
     "iopub.status.idle": "2020-09-07T19:21:15.083305Z",
     "shell.execute_reply": "2020-09-07T19:21:15.085489Z"
    },
    "papermill": {
     "duration": 0.414133,
     "end_time": "2020-09-07T19:21:15.085489",
     "exception": false,
     "start_time": "2020-09-07T19:21:14.671356",
     "status": "completed"
    },
    "tags": []
   },
   "outputs": [],
   "source": [
    "df['ema12'] = df['prev'].ewm(span=12, min_periods=12, adjust=False).mean()\n",
    "df['ema26'] = df['prev'].ewm(span=26, min_periods=26, adjust=False).mean()"
   ]
  },
  {
   "cell_type": "code",
   "execution_count": 16,
   "metadata": {
    "execution": {
     "iopub.execute_input": "2020-09-07T19:21:15.227810Z",
     "iopub.status.busy": "2020-09-07T19:21:15.225809Z",
     "iopub.status.idle": "2020-09-07T19:21:15.551169Z",
     "shell.execute_reply": "2020-09-07T19:21:15.549167Z"
    },
    "papermill": {
     "duration": 0.402302,
     "end_time": "2020-09-07T19:21:15.551169",
     "exception": false,
     "start_time": "2020-09-07T19:21:15.148867",
     "status": "completed"
    },
    "tags": []
   },
   "outputs": [],
   "source": [
    "def difference(prev_price, moving_average):\n",
    "    return (prev_price - moving_average) / prev_price"
   ]
  },
  {
   "cell_type": "code",
   "execution_count": 17,
   "metadata": {
    "execution": {
     "iopub.execute_input": "2020-09-07T19:21:15.683710Z",
     "iopub.status.busy": "2020-09-07T19:21:15.682491Z",
     "iopub.status.idle": "2020-09-07T19:21:16.040264Z",
     "shell.execute_reply": "2020-09-07T19:21:16.047877Z"
    },
    "papermill": {
     "duration": 0.434953,
     "end_time": "2020-09-07T19:21:16.049122",
     "exception": false,
     "start_time": "2020-09-07T19:21:15.614169",
     "status": "completed"
    },
    "tags": []
   },
   "outputs": [],
   "source": [
    "for col in ['sma2', 'sma5', 'sma10', 'sma20', 'ema12', 'ema26']:\n",
    "    df['{}_diff'.format(col)] = difference(df['prev'], df[col])"
   ]
  },
  {
   "cell_type": "code",
   "execution_count": 18,
   "metadata": {
    "execution": {
     "iopub.execute_input": "2020-09-07T19:21:16.204609Z",
     "iopub.status.busy": "2020-09-07T19:21:16.203608Z",
     "iopub.status.idle": "2020-09-07T19:21:16.592434Z",
     "shell.execute_reply": "2020-09-07T19:21:16.590047Z"
    },
    "papermill": {
     "duration": 0.48409,
     "end_time": "2020-09-07T19:21:16.592434",
     "exception": false,
     "start_time": "2020-09-07T19:21:16.108344",
     "status": "completed"
    },
    "tags": []
   },
   "outputs": [],
   "source": [
    "df.dropna(inplace=True)"
   ]
  },
  {
   "cell_type": "code",
   "execution_count": 19,
   "metadata": {
    "execution": {
     "iopub.execute_input": "2020-09-07T19:21:16.742001Z",
     "iopub.status.busy": "2020-09-07T19:21:16.742001Z",
     "iopub.status.idle": "2020-09-07T19:21:17.102080Z",
     "shell.execute_reply": "2020-09-07T19:21:17.102080Z"
    },
    "papermill": {
     "duration": 0.439228,
     "end_time": "2020-09-07T19:21:17.102080",
     "exception": false,
     "start_time": "2020-09-07T19:21:16.662852",
     "status": "completed"
    },
    "tags": []
   },
   "outputs": [
    {
     "data": {
      "text/plain": [
       "(196, 16)"
      ]
     },
     "execution_count": 19,
     "metadata": {},
     "output_type": "execute_result"
    }
   ],
   "source": [
    "df.shape"
   ]
  },
  {
   "cell_type": "code",
   "execution_count": 20,
   "metadata": {
    "execution": {
     "iopub.execute_input": "2020-09-07T19:21:17.227208Z",
     "iopub.status.busy": "2020-09-07T19:21:17.226204Z",
     "iopub.status.idle": "2020-09-07T19:21:17.582750Z",
     "shell.execute_reply": "2020-09-07T19:21:17.582750Z"
    },
    "papermill": {
     "duration": 0.422695,
     "end_time": "2020-09-07T19:21:17.582750",
     "exception": false,
     "start_time": "2020-09-07T19:21:17.160055",
     "status": "completed"
    },
    "tags": []
   },
   "outputs": [],
   "source": [
    "df.drop(columns=['date', 'open'], inplace=True)"
   ]
  },
  {
   "cell_type": "markdown",
   "metadata": {
    "papermill": {
     "duration": 0.074293,
     "end_time": "2020-09-07T19:21:17.717744",
     "exception": false,
     "start_time": "2020-09-07T19:21:17.643451",
     "status": "completed"
    },
    "tags": []
   },
   "source": [
    "### Create label"
   ]
  },
  {
   "cell_type": "code",
   "execution_count": 21,
   "metadata": {
    "execution": {
     "iopub.execute_input": "2020-09-07T19:21:17.860318Z",
     "iopub.status.busy": "2020-09-07T19:21:17.854597Z",
     "iopub.status.idle": "2020-09-07T19:21:18.199125Z",
     "shell.execute_reply": "2020-09-07T19:21:18.197124Z"
    },
    "papermill": {
     "duration": 0.417868,
     "end_time": "2020-09-07T19:21:18.200125",
     "exception": false,
     "start_time": "2020-09-07T19:21:17.782257",
     "status": "completed"
    },
    "tags": []
   },
   "outputs": [],
   "source": [
    "df['label'] = (df['adj_close'] > df['prev']).astype(int)"
   ]
  },
  {
   "cell_type": "markdown",
   "metadata": {
    "papermill": {
     "duration": 0.083938,
     "end_time": "2020-09-07T19:21:18.405566",
     "exception": false,
     "start_time": "2020-09-07T19:21:18.321628",
     "status": "completed"
    },
    "tags": []
   },
   "source": [
    "### Train-val split"
   ]
  },
  {
   "cell_type": "code",
   "execution_count": 22,
   "metadata": {
    "execution": {
     "iopub.execute_input": "2020-09-07T19:21:18.542172Z",
     "iopub.status.busy": "2020-09-07T19:21:18.537271Z",
     "iopub.status.idle": "2020-09-07T19:21:18.922967Z",
     "shell.execute_reply": "2020-09-07T19:21:18.922967Z"
    },
    "papermill": {
     "duration": 0.455382,
     "end_time": "2020-09-07T19:21:18.922967",
     "exception": false,
     "start_time": "2020-09-07T19:21:18.467585",
     "status": "completed"
    },
    "tags": []
   },
   "outputs": [],
   "source": [
    "# Keep most recent 20 days as validation set"
   ]
  },
  {
   "cell_type": "code",
   "execution_count": 23,
   "metadata": {
    "execution": {
     "iopub.execute_input": "2020-09-07T19:21:19.065581Z",
     "iopub.status.busy": "2020-09-07T19:21:19.063347Z",
     "iopub.status.idle": "2020-09-07T19:21:19.486304Z",
     "shell.execute_reply": "2020-09-07T19:21:19.485303Z"
    },
    "papermill": {
     "duration": 0.495227,
     "end_time": "2020-09-07T19:21:19.486304",
     "exception": false,
     "start_time": "2020-09-07T19:21:18.991077",
     "status": "completed"
    },
    "tags": []
   },
   "outputs": [
    {
     "name": "stderr",
     "output_type": "stream",
     "text": [
      "2020-09-08 00:51:19,456 - No. of days - Train: 176, Val: 20\n"
     ]
    }
   ],
   "source": [
    "validation_days = 20\n",
    "train = df.iloc[:-validation_days].copy()\n",
    "val = df.iloc[-validation_days:].copy()\n",
    "logger.info('No. of days - Train: {}, Val: {}'.format(train.shape[0], val.shape[0]))"
   ]
  },
  {
   "cell_type": "markdown",
   "metadata": {
    "papermill": {
     "duration": 0.092318,
     "end_time": "2020-09-07T19:21:19.666987",
     "exception": false,
     "start_time": "2020-09-07T19:21:19.574669",
     "status": "completed"
    },
    "tags": []
   },
   "source": [
    "### Basic visualizations"
   ]
  },
  {
   "cell_type": "code",
   "execution_count": 24,
   "metadata": {
    "execution": {
     "iopub.execute_input": "2020-09-07T19:21:19.798742Z",
     "iopub.status.busy": "2020-09-07T19:21:19.793245Z",
     "iopub.status.idle": "2020-09-07T19:21:20.583348Z",
     "shell.execute_reply": "2020-09-07T19:21:20.585406Z"
    },
    "papermill": {
     "duration": 0.853351,
     "end_time": "2020-09-07T19:21:20.586415",
     "exception": false,
     "start_time": "2020-09-07T19:21:19.733064",
     "status": "completed"
    },
    "tags": []
   },
   "outputs": [
    {
     "data": {
      "text/plain": [
       "<matplotlib.legend.Legend at 0x24f4b87d358>"
      ]
     },
     "execution_count": 24,
     "metadata": {},
     "output_type": "execute_result"
    },
    {
     "data": {
      "image/png": "[encoded data removed]",
      "text/plain": [
       "<Figure size 1080x360 with 1 Axes>"
      ]
     },
     "metadata": {
      "needs_background": "light"
     },
     "output_type": "display_data"
    }
   ],
   "source": [
    "plt.figure(figsize=(15, 5))\n",
    "plt.grid()\n",
    "plt.plot(train['adj_close'], label='price')\n",
    "plt.plot(train['sma20'], label='simple moving average 20')\n",
    "plt.plot(train['ema12'], label='exponential moving average 12')\n",
    "plt.plot(train['ema26'], label='exponential moving average 26')\n",
    "plt.legend()"
   ]
  },
  {
   "cell_type": "markdown",
   "metadata": {
    "papermill": {
     "duration": 0.068515,
     "end_time": "2020-09-07T19:21:20.723829",
     "exception": false,
     "start_time": "2020-09-07T19:21:20.655314",
     "status": "completed"
    },
    "tags": []
   },
   "source": [
    "### Feature transformations"
   ]
  },
  {
   "cell_type": "code",
   "execution_count": 25,
   "metadata": {
    "execution": {
     "iopub.execute_input": "2020-09-07T19:21:20.854334Z",
     "iopub.status.busy": "2020-09-07T19:21:20.853312Z",
     "iopub.status.idle": "2020-09-07T19:21:21.181595Z",
     "shell.execute_reply": "2020-09-07T19:21:21.183866Z"
    },
    "papermill": {
     "duration": 0.400152,
     "end_time": "2020-09-07T19:21:21.184873",
     "exception": false,
     "start_time": "2020-09-07T19:21:20.784721",
     "status": "completed"
    },
    "tags": []
   },
   "outputs": [],
   "source": [
    "scaler = StandardScaler()"
   ]
  },
  {
   "cell_type": "code",
   "execution_count": 26,
   "metadata": {
    "execution": {
     "iopub.execute_input": "2020-09-07T19:21:21.319022Z",
     "iopub.status.busy": "2020-09-07T19:21:21.317993Z",
     "iopub.status.idle": "2020-09-07T19:21:21.699411Z",
     "shell.execute_reply": "2020-09-07T19:21:21.698375Z"
    },
    "papermill": {
     "duration": 0.450056,
     "end_time": "2020-09-07T19:21:21.699411",
     "exception": false,
     "start_time": "2020-09-07T19:21:21.249355",
     "status": "completed"
    },
    "tags": []
   },
   "outputs": [],
   "source": [
    "COLS_TO_SCALE = ['prev', 'sma2', 'sma5', 'sma10', 'sma20', 'ema12', 'ema26']"
   ]
  },
  {
   "cell_type": "code",
   "execution_count": 27,
   "metadata": {
    "execution": {
     "iopub.execute_input": "2020-09-07T19:21:21.902128Z",
     "iopub.status.busy": "2020-09-07T19:21:21.899663Z",
     "iopub.status.idle": "2020-09-07T19:21:22.232348Z",
     "shell.execute_reply": "2020-09-07T19:21:22.232348Z"
    },
    "papermill": {
     "duration": 0.466529,
     "end_time": "2020-09-07T19:21:22.232348",
     "exception": false,
     "start_time": "2020-09-07T19:21:21.765819",
     "status": "completed"
    },
    "tags": []
   },
   "outputs": [
    {
     "data": {
      "text/plain": [
       "StandardScaler(copy=True, with_mean=True, with_std=True)"
      ]
     },
     "execution_count": 27,
     "metadata": {},
     "output_type": "execute_result"
    }
   ],
   "source": [
    "scaler.fit(train[COLS_TO_SCALE])"
   ]
  },
  {
   "cell_type": "code",
   "execution_count": 28,
   "metadata": {
    "execution": {
     "iopub.execute_input": "2020-09-07T19:21:22.437487Z",
     "iopub.status.busy": "2020-09-07T19:21:22.437487Z",
     "iopub.status.idle": "2020-09-07T19:21:22.912308Z",
     "shell.execute_reply": "2020-09-07T19:21:22.912308Z"
    },
    "papermill": {
     "duration": 0.574166,
     "end_time": "2020-09-07T19:21:22.913365",
     "exception": false,
     "start_time": "2020-09-07T19:21:22.339199",
     "status": "completed"
    },
    "tags": []
   },
   "outputs": [],
   "source": [
    "train[COLS_TO_SCALE] = scaler.transform(train[COLS_TO_SCALE])\n",
    "val[COLS_TO_SCALE] = scaler.transform(val[COLS_TO_SCALE])"
   ]
  },
  {
   "cell_type": "markdown",
   "metadata": {
    "papermill": {
     "duration": 0.068623,
     "end_time": "2020-09-07T19:21:23.048667",
     "exception": false,
     "start_time": "2020-09-07T19:21:22.980044",
     "status": "completed"
    },
    "tags": []
   },
   "source": [
    "### Linear regression coefficients"
   ]
  },
  {
   "cell_type": "code",
   "execution_count": 29,
   "metadata": {
    "execution": {
     "iopub.execute_input": "2020-09-07T19:21:23.179891Z",
     "iopub.status.busy": "2020-09-07T19:21:23.175872Z",
     "iopub.status.idle": "2020-09-07T19:21:23.494770Z",
     "shell.execute_reply": "2020-09-07T19:21:23.494770Z"
    },
    "papermill": {
     "duration": 0.382178,
     "end_time": "2020-09-07T19:21:23.496534",
     "exception": false,
     "start_time": "2020-09-07T19:21:23.114356",
     "status": "completed"
    },
    "tags": []
   },
   "outputs": [
    {
     "name": "stderr",
     "output_type": "stream",
     "text": [
      "2020-09-08 00:51:23,465 - x variables: prev+sma2+sma5+sma10+sma20+ema12+ema26+sma2_diff+sma5_diff+sma10_diff+sma20_diff+ema12_diff+ema26_diff\n"
     ]
    }
   ],
   "source": [
    "x_variables = '+'.join(list(train.columns[1:-1]))\n",
    "logger.info('x variables: {}'.format(x_variables))"
   ]
  },
  {
   "cell_type": "code",
   "execution_count": 30,
   "metadata": {
    "execution": {
     "iopub.execute_input": "2020-09-07T19:21:23.641995Z",
     "iopub.status.busy": "2020-09-07T19:21:23.640996Z",
     "iopub.status.idle": "2020-09-07T19:21:24.054171Z",
     "shell.execute_reply": "2020-09-07T19:21:24.053260Z"
    },
    "papermill": {
     "duration": 0.482438,
     "end_time": "2020-09-07T19:21:24.055173",
     "exception": false,
     "start_time": "2020-09-07T19:21:23.572735",
     "status": "completed"
    },
    "tags": []
   },
   "outputs": [],
   "source": [
    "results = smf.ols('adj_close ~ {}'.format(x_variables), data=train).fit()"
   ]
  },
  {
   "cell_type": "code",
   "execution_count": 31,
   "metadata": {
    "execution": {
     "iopub.execute_input": "2020-09-07T19:21:24.230648Z",
     "iopub.status.busy": "2020-09-07T19:21:24.226584Z",
     "iopub.status.idle": "2020-09-07T19:21:24.612765Z",
     "shell.execute_reply": "2020-09-07T19:21:24.611557Z"
    },
    "papermill": {
     "duration": 0.458433,
     "end_time": "2020-09-07T19:21:24.613766",
     "exception": false,
     "start_time": "2020-09-07T19:21:24.155333",
     "status": "completed"
    },
    "scrolled": false,
    "tags": []
   },
   "outputs": [
    {
     "name": "stdout",
     "output_type": "stream",
     "text": [
      "                            OLS Regression Results                            \n",
      "==============================================================================\n",
      "Dep. Variable:              adj_close   R-squared:                       0.893\n",
      "Model:                            OLS   Adj. R-squared:                  0.884\n",
      "Method:                 Least Squares   F-statistic:                     103.5\n",
      "Date:                Tue, 08 Sep 2020   Prob (F-statistic):           2.54e-71\n",
      "Time:                        00:51:24   Log-Likelihood:                -855.62\n",
      "No. Observations:                 176   AIC:                             1739.\n",
      "Df Residuals:                     162   BIC:                             1784.\n",
      "Df Model:                          13                                         \n",
      "Covariance Type:            nonrobust                                         \n",
      "==============================================================================\n",
      "                 coef    std err          t      P>|t|      [0.025      0.975]\n",
      "------------------------------------------------------------------------------\n",
      "Intercept   2924.4790     22.476    130.116      0.000    2880.095    2968.863\n",
      "prev          51.7749    391.078      0.132      0.895    -720.493     824.043\n",
      "sma2        -268.4319    680.929     -0.394      0.694   -1613.074    1076.210\n",
      "sma5        -710.1362   1302.442     -0.545      0.586   -3282.090    1861.818\n",
      "sma10         74.6603   1466.141      0.051      0.959   -2820.551    2969.872\n",
      "sma20      -2916.3745   1459.818     -1.998      0.047   -5799.100     -33.649\n",
      "ema12       2327.7305   4406.236      0.528      0.598   -6373.333     1.1e+04\n",
      "ema26       1218.2854    610.235      1.996      0.048      13.245    2423.326\n",
      "sma2_diff  -8100.5363   2.04e+04     -0.396      0.692   -4.85e+04    3.23e+04\n",
      "sma5_diff  -2.111e+04   3.96e+04     -0.533      0.595   -9.94e+04    5.71e+04\n",
      "sma10_diff  1595.0238   4.58e+04      0.035      0.972   -8.89e+04    9.21e+04\n",
      "sma20_diff -9.907e+04   4.98e+04     -1.988      0.048   -1.97e+05    -683.478\n",
      "ema12_diff  7.967e+04   1.51e+05      0.529      0.597   -2.18e+05    3.77e+05\n",
      "ema26_diff  4.833e+04   2.44e+04      1.981      0.049     144.548    9.65e+04\n",
      "==============================================================================\n",
      "Omnibus:                       75.100   Durbin-Watson:                   2.022\n",
      "Prob(Omnibus):                  0.000   Jarque-Bera (JB):              579.388\n",
      "Skew:                          -1.354   Prob(JB):                    1.54e-126\n",
      "Kurtosis:                      11.466   Cond. No.                     1.70e+05\n",
      "==============================================================================\n",
      "\n",
      "Warnings:\n",
      "[1] Standard Errors assume that the covariance matrix of the errors is correctly specified.\n",
      "[2] The condition number is large, 1.7e+05. This might indicate that there are\n",
      "strong multicollinearity or other numerical problems.\n"
     ]
    }
   ],
   "source": [
    "print(results.summary())"
   ]
  },
  {
   "cell_type": "markdown",
   "metadata": {
    "papermill": {
     "duration": 0.065627,
     "end_time": "2020-09-07T19:21:24.740164",
     "exception": false,
     "start_time": "2020-09-07T19:21:24.674537",
     "status": "completed"
    },
    "tags": []
   },
   "source": [
    "### Drop label col"
   ]
  },
  {
   "cell_type": "code",
   "execution_count": 32,
   "metadata": {
    "execution": {
     "iopub.execute_input": "2020-09-07T19:21:24.888036Z",
     "iopub.status.busy": "2020-09-07T19:21:24.886759Z",
     "iopub.status.idle": "2020-09-07T19:21:25.229270Z",
     "shell.execute_reply": "2020-09-07T19:21:25.230289Z"
    },
    "papermill": {
     "duration": 0.427738,
     "end_time": "2020-09-07T19:21:25.230289",
     "exception": false,
     "start_time": "2020-09-07T19:21:24.802551",
     "status": "completed"
    },
    "tags": []
   },
   "outputs": [],
   "source": [
    "train.drop(columns=['adj_close'], inplace=True)\n",
    "val.drop(columns=['adj_close'], inplace=True)"
   ]
  },
  {
   "cell_type": "markdown",
   "metadata": {
    "papermill": {
     "duration": 0.069472,
     "end_time": "2020-09-07T19:21:25.359027",
     "exception": false,
     "start_time": "2020-09-07T19:21:25.289555",
     "status": "completed"
    },
    "tags": []
   },
   "source": [
    "### Logistic Regression Coefficients"
   ]
  },
  {
   "cell_type": "code",
   "execution_count": 33,
   "metadata": {
    "execution": {
     "iopub.execute_input": "2020-09-07T19:21:25.497114Z",
     "iopub.status.busy": "2020-09-07T19:21:25.488296Z",
     "iopub.status.idle": "2020-09-07T19:21:25.849477Z",
     "shell.execute_reply": "2020-09-07T19:21:25.847883Z"
    },
    "papermill": {
     "duration": 0.43049,
     "end_time": "2020-09-07T19:21:25.849477",
     "exception": false,
     "start_time": "2020-09-07T19:21:25.418987",
     "status": "completed"
    },
    "tags": []
   },
   "outputs": [],
   "source": [
    "y = train['label'].values\n",
    "X = train.drop(columns=['label'])"
   ]
  },
  {
   "cell_type": "code",
   "execution_count": 34,
   "metadata": {
    "execution": {
     "iopub.execute_input": "2020-09-07T19:21:25.971212Z",
     "iopub.status.busy": "2020-09-07T19:21:25.964341Z",
     "iopub.status.idle": "2020-09-07T19:21:26.422983Z",
     "shell.execute_reply": "2020-09-07T19:21:26.422983Z"
    },
    "papermill": {
     "duration": 0.519228,
     "end_time": "2020-09-07T19:21:26.422983",
     "exception": false,
     "start_time": "2020-09-07T19:21:25.903755",
     "status": "completed"
    },
    "tags": []
   },
   "outputs": [],
   "source": [
    "X = add_constant(X)"
   ]
  },
  {
   "cell_type": "code",
   "execution_count": 35,
   "metadata": {
    "execution": {
     "iopub.execute_input": "2020-09-07T19:21:26.576718Z",
     "iopub.status.busy": "2020-09-07T19:21:26.575720Z",
     "iopub.status.idle": "2020-09-07T19:21:26.970725Z",
     "shell.execute_reply": "2020-09-07T19:21:26.969579Z"
    },
    "papermill": {
     "duration": 0.474276,
     "end_time": "2020-09-07T19:21:26.970725",
     "exception": false,
     "start_time": "2020-09-07T19:21:26.496449",
     "status": "completed"
    },
    "tags": []
   },
   "outputs": [],
   "source": [
    "logit = sm.Logit(y, X)"
   ]
  },
  {
   "cell_type": "code",
   "execution_count": 36,
   "metadata": {
    "execution": {
     "iopub.execute_input": "2020-09-07T19:21:27.139226Z",
     "iopub.status.busy": "2020-09-07T19:21:27.133774Z",
     "iopub.status.idle": "2020-09-07T19:21:27.547911Z",
     "shell.execute_reply": "2020-09-07T19:21:27.555520Z"
    },
    "papermill": {
     "duration": 0.510168,
     "end_time": "2020-09-07T19:21:27.555520",
     "exception": false,
     "start_time": "2020-09-07T19:21:27.045352",
     "status": "completed"
    },
    "tags": []
   },
   "outputs": [
    {
     "name": "stdout",
     "output_type": "stream",
     "text": [
      "Warning: Maximum number of iterations has been exceeded.\n",
      "         Current function value: 6.339588\n",
      "         Iterations: 35\n",
      "                           Logit Regression Results                           \n",
      "==============================================================================\n",
      "Dep. Variable:                      y   No. Observations:                  176\n",
      "Model:                          Logit   Df Residuals:                      162\n",
      "Method:                           MLE   Df Model:                           13\n",
      "Date:                Tue, 08 Sep 2020   Pseudo R-squ.:                  -8.150\n",
      "Time:                        00:51:27   Log-Likelihood:                -1115.8\n",
      "converged:                      False   LL-Null:                       -121.95\n",
      "Covariance Type:            nonrobust   LLR p-value:                     1.000\n",
      "==============================================================================\n",
      "                 coef    std err          z      P>|z|      [0.025      0.975]\n",
      "------------------------------------------------------------------------------\n",
      "const          4.0141      3.637      1.104      0.270      -3.114      11.143\n",
      "prev        1216.5266    277.864      4.378      0.000     671.923    1761.131\n",
      "sma2        2234.5034    501.123      4.459      0.000    1252.321    3216.686\n",
      "sma5         1.04e+04   2327.373      4.468      0.000    5837.130     1.5e+04\n",
      "sma10       1.346e+04   2999.902      4.487      0.000    7580.365    1.93e+04\n",
      "sma20       9081.8511   2027.160      4.480      0.000    5108.690    1.31e+04\n",
      "ema12      -3.768e+04   8402.472     -4.484      0.000   -5.41e+04   -2.12e+04\n",
      "ema26       3325.1577    751.728      4.423      0.000    1851.797    4798.518\n",
      "sma2_diff   6.722e+04   1.51e+04      4.463      0.000    3.77e+04    9.67e+04\n",
      "sma5_diff   3.132e+05   7.01e+04      4.470      0.000    1.76e+05     4.5e+05\n",
      "sma10_diff  4.142e+05   9.23e+04      4.488      0.000    2.33e+05    5.95e+05\n",
      "sma20_diff  3.088e+05   6.89e+04      4.480      0.000    1.74e+05    4.44e+05\n",
      "ema12_diff -1.272e+06   2.84e+05     -4.486      0.000   -1.83e+06   -7.16e+05\n",
      "ema26_diff  1.325e+05   2.99e+04      4.428      0.000    7.39e+04    1.91e+05\n",
      "==============================================================================\n",
      "\n",
      "Possibly complete quasi-separation: A fraction 0.14 of observations can be\n",
      "perfectly predicted. This might indicate that there is complete\n",
      "quasi-separation. In this case some parameters will not be identified.\n"
     ]
    },
    {
     "name": "stderr",
     "output_type": "stream",
     "text": [
      "C:\\Users\\ShadabHussain\\Anaconda3\\lib\\site-packages\\statsmodels\\base\\model.py:512: ConvergenceWarning: Maximum Likelihood optimization failed to converge. Check mle_retvals\n",
      "  \"Check mle_retvals\", ConvergenceWarning)\n"
     ]
    }
   ],
   "source": [
    "result = logit.fit()\n",
    "print(result.summary())"
   ]
  },
  {
   "cell_type": "markdown",
   "metadata": {
    "papermill": {
     "duration": 0.092801,
     "end_time": "2020-09-07T19:21:27.755919",
     "exception": false,
     "start_time": "2020-09-07T19:21:27.663118",
     "status": "completed"
    },
    "tags": []
   },
   "source": [
    "### Train some basic models"
   ]
  },
  {
   "cell_type": "code",
   "execution_count": 37,
   "metadata": {
    "execution": {
     "iopub.execute_input": "2020-09-07T19:21:27.963634Z",
     "iopub.status.busy": "2020-09-07T19:21:27.963634Z",
     "iopub.status.idle": "2020-09-07T19:21:28.381670Z",
     "shell.execute_reply": "2020-09-07T19:21:28.381670Z"
    },
    "papermill": {
     "duration": 0.517936,
     "end_time": "2020-09-07T19:21:28.381670",
     "exception": false,
     "start_time": "2020-09-07T19:21:27.863734",
     "status": "completed"
    },
    "tags": []
   },
   "outputs": [],
   "source": [
    "y_train = train['label'].values\n",
    "X_train = train.drop(columns='label').values\n",
    "\n",
    "y_val = val['label'].values\n",
    "X_val = val.drop(columns='label').values"
   ]
  },
  {
   "cell_type": "code",
   "execution_count": 38,
   "metadata": {
    "execution": {
     "iopub.execute_input": "2020-09-07T19:21:28.517042Z",
     "iopub.status.busy": "2020-09-07T19:21:28.517042Z",
     "iopub.status.idle": "2020-09-07T19:21:30.864716Z",
     "shell.execute_reply": "2020-09-07T19:21:30.862850Z"
    },
    "papermill": {
     "duration": 2.416933,
     "end_time": "2020-09-07T19:21:30.864716",
     "exception": false,
     "start_time": "2020-09-07T19:21:28.447783",
     "status": "completed"
    },
    "tags": []
   },
   "outputs": [
    {
     "name": "stderr",
     "output_type": "stream",
     "text": [
      "2020-09-08 00:51:28,884 - AUC: 0.833 | Recall: 0.429 | Precision: 1.000 | F1: 0.600\n"
     ]
    },
    {
     "name": "stderr",
     "output_type": "stream",
     "text": [
      "2020-09-08 00:51:29,091 - ROC curve saved to: ../artifact_dir/plots/roc_curve_Logistic Regression (auc = 0.83).png\n"
     ]
    },
    {
     "name": "stderr",
     "output_type": "stream",
     "text": [
      "2020-09-08 00:51:29,329 - Precision-recall curve saved to: ../artifact_dir/plots/precision_recall_Logistic Regression prec= 1.00 recall= 0.43.png\n"
     ]
    },
    {
     "name": "stderr",
     "output_type": "stream",
     "text": [
      "2020-09-08 00:51:29,339 - Model saved to: ../artifact_dir/models/Logistic Regression.pickle\n"
     ]
    },
    {
     "name": "stderr",
     "output_type": "stream",
     "text": [
      "C:\\Users\\ShadabHussain\\Anaconda3\\lib\\site-packages\\py4j\\java_collections.py:13: DeprecationWarning: Using or importing the ABCs from 'collections' instead of from 'collections.abc' is deprecated, and in 3.8 it will stop working\n",
      "  from collections import (\n",
      "C:\\Users\\ShadabHussain\\Anaconda3\\lib\\site-packages\\pyspark\\resultiterable.py:23: DeprecationWarning: Using or importing the ABCs from 'collections' instead of from 'collections.abc' is deprecated, and in 3.8 it will stop working\n",
      "  class ResultIterable(collections.Iterable):\n"
     ]
    },
    {
     "data": {
      "image/png": "[encoded data removed]",
      "text/plain": [
       "<Figure size 360x360 with 1 Axes>"
      ]
     },
     "metadata": {
      "needs_background": "light"
     },
     "output_type": "display_data"
    },
    {
     "data": {
      "image/png": "[encoded data removed]",
      "text/plain": [
       "<Figure size 1080x360 with 1 Axes>"
      ]
     },
     "metadata": {
      "needs_background": "light"
     },
     "output_type": "display_data"
    }
   ],
   "source": [
    "# Logistic regression\n",
    "model_name = 'Logistic Regression'\n",
    "model = LogisticRegression(fit_intercept=False).fit(X_train, y_train)\n",
    "pred = model.predict_proba(X_val)[:, 1]\n",
    "log_mlflow(run_params, model, model_name, y_val, pred)"
   ]
  },
  {
   "cell_type": "code",
   "execution_count": 39,
   "metadata": {
    "execution": {
     "iopub.execute_input": "2020-09-07T19:21:31.034124Z",
     "iopub.status.busy": "2020-09-07T19:21:31.034124Z",
     "iopub.status.idle": "2020-09-07T19:21:32.796769Z",
     "shell.execute_reply": "2020-09-07T19:21:32.796769Z"
    },
    "papermill": {
     "duration": 1.860817,
     "end_time": "2020-09-07T19:21:32.796769",
     "exception": false,
     "start_time": "2020-09-07T19:21:30.935952",
     "status": "completed"
    },
    "tags": []
   },
   "outputs": [
    {
     "name": "stderr",
     "output_type": "stream",
     "text": [
      "2020-09-08 00:51:31,426 - AUC: 0.762 | Recall: 0.571 | Precision: 0.889 | F1: 0.696\n"
     ]
    },
    {
     "name": "stderr",
     "output_type": "stream",
     "text": [
      "2020-09-08 00:51:31,613 - ROC curve saved to: ../artifact_dir/plots/roc_curve_Support Vector Classifier (auc = 0.76).png\n"
     ]
    },
    {
     "name": "stderr",
     "output_type": "stream",
     "text": [
      "2020-09-08 00:51:31,897 - Precision-recall curve saved to: ../artifact_dir/plots/precision_recall_Support Vector Classifier prec= 0.89 recall= 0.57.png\n"
     ]
    },
    {
     "name": "stderr",
     "output_type": "stream",
     "text": [
      "2020-09-08 00:51:31,905 - Model saved to: ../artifact_dir/models/Support Vector Classifier.pickle\n"
     ]
    },
    {
     "data": {
      "image/png": "[encoded data removed]",
      "text/plain": [
       "<Figure size 360x360 with 1 Axes>"
      ]
     },
     "metadata": {
      "needs_background": "light"
     },
     "output_type": "display_data"
    },
    {
     "data": {
      "image/png": "[encoded data removed]",
      "text/plain": [
       "<Figure size 1080x360 with 1 Axes>"
      ]
     },
     "metadata": {
      "needs_background": "light"
     },
     "output_type": "display_data"
    }
   ],
   "source": [
    "# Support vector classifier\n",
    "model_name = 'Support Vector Classifier'\n",
    "model = SVC(gamma=2, C=1, probability=True).fit(X_train, y_train)\n",
    "pred = model.predict_proba(X_val)[:, 1]\n",
    "log_mlflow(run_params, model, model_name, y_val, pred)"
   ]
  },
  {
   "cell_type": "code",
   "execution_count": 40,
   "metadata": {
    "execution": {
     "iopub.execute_input": "2020-09-07T19:21:33.178305Z",
     "iopub.status.busy": "2020-09-07T19:21:33.178305Z",
     "iopub.status.idle": "2020-09-07T19:21:34.910896Z",
     "shell.execute_reply": "2020-09-07T19:21:34.913440Z"
    },
    "papermill": {
     "duration": 2.001069,
     "end_time": "2020-09-07T19:21:34.914443",
     "exception": false,
     "start_time": "2020-09-07T19:21:32.913374",
     "status": "completed"
    },
    "tags": []
   },
   "outputs": [
    {
     "name": "stderr",
     "output_type": "stream",
     "text": [
      "2020-09-08 00:51:33,582 - AUC: 0.690 | Recall: 0.714 | Precision: 0.833 | F1: 0.769\n"
     ]
    },
    {
     "name": "stderr",
     "output_type": "stream",
     "text": [
      "2020-09-08 00:51:33,788 - ROC curve saved to: ../artifact_dir/plots/roc_curve_K-nearest Neighbours (auc = 0.69).png\n"
     ]
    },
    {
     "name": "stderr",
     "output_type": "stream",
     "text": [
      "2020-09-08 00:51:34,055 - Precision-recall curve saved to: ../artifact_dir/plots/precision_recall_K-nearest Neighbours prec= 0.83 recall= 0.71.png\n"
     ]
    },
    {
     "name": "stderr",
     "output_type": "stream",
     "text": [
      "2020-09-08 00:51:34,057 - Model saved to: ../artifact_dir/models/K-nearest Neighbours.pickle\n"
     ]
    },
    {
     "data": {
      "image/png": "[encoded data removed]",
      "text/plain": [
       "<Figure size 360x360 with 1 Axes>"
      ]
     },
     "metadata": {
      "needs_background": "light"
     },
     "output_type": "display_data"
    },
    {
     "data": {
      "image/png": "[encoded data removed]",
      "text/plain": [
       "<Figure size 1080x360 with 1 Axes>"
      ]
     },
     "metadata": {
      "needs_background": "light"
     },
     "output_type": "display_data"
    }
   ],
   "source": [
    "# K-neighbours\n",
    "model_name = 'K-nearest Neighbours'\n",
    "model = KNeighborsClassifier(5).fit(X_train, y_train)\n",
    "pred = model.predict_proba(X_val)[:, 1]\n",
    "log_mlflow(run_params, model, model_name, y_val, pred)"
   ]
  },
  {
   "cell_type": "code",
   "execution_count": 41,
   "metadata": {
    "execution": {
     "iopub.execute_input": "2020-09-07T19:21:35.164221Z",
     "iopub.status.busy": "2020-09-07T19:21:35.164221Z",
     "iopub.status.idle": "2020-09-07T19:21:37.062837Z",
     "shell.execute_reply": "2020-09-07T19:21:37.062007Z"
    },
    "papermill": {
     "duration": 2.016188,
     "end_time": "2020-09-07T19:21:37.062837",
     "exception": false,
     "start_time": "2020-09-07T19:21:35.046649",
     "status": "completed"
    },
    "tags": []
   },
   "outputs": [
    {
     "name": "stderr",
     "output_type": "stream",
     "text": [
      "2020-09-08 00:51:35,827 - AUC: 0.690 | Recall: 0.429 | Precision: 1.000 | F1: 0.600\n"
     ]
    },
    {
     "name": "stderr",
     "output_type": "stream",
     "text": [
      "2020-09-08 00:51:36,012 - ROC curve saved to: ../artifact_dir/plots/roc_curve_Gradient Boosting Machine (auc = 0.69).png\n"
     ]
    },
    {
     "name": "stderr",
     "output_type": "stream",
     "text": [
      "2020-09-08 00:51:36,262 - Precision-recall curve saved to: ../artifact_dir/plots/precision_recall_Gradient Boosting Machine prec= 1.00 recall= 0.43.png\n"
     ]
    },
    {
     "name": "stderr",
     "output_type": "stream",
     "text": [
      "2020-09-08 00:51:36,265 - Model saved to: ../artifact_dir/models/Gradient Boosting Machine.pickle\n"
     ]
    },
    {
     "data": {
      "image/png": "[encoded data removed]",
      "text/plain": [
       "<Figure size 360x360 with 1 Axes>"
      ]
     },
     "metadata": {
      "needs_background": "light"
     },
     "output_type": "display_data"
    },
    {
     "data": {
      "image/png": "[encoded data removed]",
      "text/plain": [
       "<Figure size 1080x360 with 1 Axes>"
      ]
     },
     "metadata": {
      "needs_background": "light"
     },
     "output_type": "display_data"
    }
   ],
   "source": [
    "# Gradient Boosting\n",
    "model_name = 'Gradient Boosting Machine'\n",
    "model = GradientBoostingClassifier().fit(X_train, y_train)\n",
    "pred = model.predict_proba(X_val)[:, 1]\n",
    "log_mlflow(run_params, model, model_name, y_val, pred)"
   ]
  },
  {
   "cell_type": "code",
   "execution_count": 42,
   "metadata": {
    "execution": {
     "iopub.execute_input": "2020-09-07T19:21:37.277380Z",
     "iopub.status.busy": "2020-09-07T19:21:37.277380Z",
     "iopub.status.idle": "2020-09-07T19:21:39.246708Z",
     "shell.execute_reply": "2020-09-07T19:21:39.248596Z"
    },
    "papermill": {
     "duration": 2.101795,
     "end_time": "2020-09-07T19:21:39.248596",
     "exception": false,
     "start_time": "2020-09-07T19:21:37.146801",
     "status": "completed"
    },
    "tags": []
   },
   "outputs": [
    {
     "name": "stderr",
     "output_type": "stream",
     "text": [
      "2020-09-08 00:51:37,701 - AUC: 0.619 | Recall: 0.500 | Precision: 0.778 | F1: 0.609\n"
     ]
    },
    {
     "name": "stderr",
     "output_type": "stream",
     "text": [
      "2020-09-08 00:51:38,025 - ROC curve saved to: ../artifact_dir/plots/roc_curve_Extra Trees (auc = 0.62).png\n"
     ]
    },
    {
     "name": "stderr",
     "output_type": "stream",
     "text": [
      "2020-09-08 00:51:38,264 - Precision-recall curve saved to: ../artifact_dir/plots/precision_recall_Extra Trees prec= 0.78 recall= 0.50.png\n"
     ]
    },
    {
     "name": "stderr",
     "output_type": "stream",
     "text": [
      "2020-09-08 00:51:38,265 - Model saved to: ../artifact_dir/models/Extra Trees.pickle\n"
     ]
    },
    {
     "data": {
      "image/png": "[encoded data removed]",
      "text/plain": [
       "<Figure size 360x360 with 1 Axes>"
      ]
     },
     "metadata": {
      "needs_background": "light"
     },
     "output_type": "display_data"
    },
    {
     "data": {
      "image/png": "[encoded data removed]",
      "text/plain": [
       "<Figure size 1080x360 with 1 Axes>"
      ]
     },
     "metadata": {
      "needs_background": "light"
     },
     "output_type": "display_data"
    }
   ],
   "source": [
    "# Bagged trees\n",
    "model_name = 'Extra Trees'\n",
    "model = ExtraTreesClassifier().fit(X_train, y_train)\n",
    "pred = model.predict_proba(X_val)[:, 1]\n",
    "log_mlflow(run_params, model, model_name, y_val, pred)"
   ]
  },
  {
   "cell_type": "markdown",
   "metadata": {
    "papermill": {
     "duration": 0.083404,
     "end_time": "2020-09-07T19:21:39.379641",
     "exception": false,
     "start_time": "2020-09-07T19:21:39.296237",
     "status": "completed"
    },
    "tags": []
   },
   "source": [
    "### Test loading model"
   ]
  },
  {
   "cell_type": "code",
   "execution_count": 43,
   "metadata": {
    "execution": {
     "iopub.execute_input": "2020-09-07T19:21:39.579038Z",
     "iopub.status.busy": "2020-09-07T19:21:39.576219Z",
     "iopub.status.idle": "2020-09-07T19:21:39.942913Z",
     "shell.execute_reply": "2020-09-07T19:21:39.942913Z"
    },
    "papermill": {
     "duration": 0.481844,
     "end_time": "2020-09-07T19:21:39.942913",
     "exception": false,
     "start_time": "2020-09-07T19:21:39.461069",
     "status": "completed"
    },
    "tags": []
   },
   "outputs": [],
   "source": [
    "model_name = 'Support Vector Classifier'\n",
    "check_model = load('{}/models/{}.pickle'.format(ARTIFACT_DIR, model_name))"
   ]
  },
  {
   "cell_type": "code",
   "execution_count": 44,
   "metadata": {
    "execution": {
     "iopub.execute_input": "2020-09-07T19:21:40.117744Z",
     "iopub.status.busy": "2020-09-07T19:21:40.117744Z",
     "iopub.status.idle": "2020-09-07T19:21:40.457385Z",
     "shell.execute_reply": "2020-09-07T19:21:40.448466Z"
    },
    "papermill": {
     "duration": 0.429837,
     "end_time": "2020-09-07T19:21:40.458382",
     "exception": false,
     "start_time": "2020-09-07T19:21:40.028545",
     "status": "completed"
    },
    "tags": []
   },
   "outputs": [
    {
     "data": {
      "text/plain": [
       "SVC(C=1, cache_size=200, class_weight=None, coef0=0.0,\n",
       "    decision_function_shape='ovr', degree=3, gamma=2, kernel='rbf', max_iter=-1,\n",
       "    probability=True, random_state=None, shrinking=True, tol=0.001,\n",
       "    verbose=False)"
      ]
     },
     "execution_count": 44,
     "metadata": {},
     "output_type": "execute_result"
    }
   ],
   "source": [
    "check_model"
   ]
  },
  {
   "cell_type": "code",
   "execution_count": 45,
   "metadata": {
    "execution": {
     "iopub.execute_input": "2020-09-07T19:21:40.662725Z",
     "iopub.status.busy": "2020-09-07T19:21:40.662725Z",
     "iopub.status.idle": "2020-09-07T19:21:41.020371Z",
     "shell.execute_reply": "2020-09-07T19:21:41.026114Z"
    },
    "papermill": {
     "duration": 0.48241,
     "end_time": "2020-09-07T19:21:41.026114",
     "exception": false,
     "start_time": "2020-09-07T19:21:40.543704",
     "status": "completed"
    },
    "tags": []
   },
   "outputs": [],
   "source": [
    "pred = check_model.predict_proba(X_val)[:, 1]"
   ]
  },
  {
   "cell_type": "code",
   "execution_count": 46,
   "metadata": {
    "execution": {
     "iopub.execute_input": "2020-09-07T19:21:41.224805Z",
     "iopub.status.busy": "2020-09-07T19:21:41.220512Z",
     "iopub.status.idle": "2020-09-07T19:21:41.712437Z",
     "shell.execute_reply": "2020-09-07T19:21:41.711441Z"
    },
    "papermill": {
     "duration": 0.602757,
     "end_time": "2020-09-07T19:21:41.712437",
     "exception": false,
     "start_time": "2020-09-07T19:21:41.109680",
     "status": "completed"
    },
    "tags": []
   },
   "outputs": [
    {
     "name": "stderr",
     "output_type": "stream",
     "text": [
      "2020-09-08 00:51:41,675 - AUC: 0.762 | Recall: 0.571 | Precision: 0.889 | F1: 0.696\n"
     ]
    },
    {
     "data": {
      "text/plain": [
       "(0.7619047619047619,\n",
       " 0.5714285714285714,\n",
       " 0.8888888888888888,\n",
       " 0.6956521739130435)"
      ]
     },
     "execution_count": 46,
     "metadata": {},
     "output_type": "execute_result"
    }
   ],
   "source": [
    "evaluate_binary(y_val, pred)"
   ]
  }
 ],
 "metadata": {
  "kernelspec": {
   "display_name": "Python 3",
   "language": "python",
   "name": "python3"
  },
  "language_info": {
   "codemirror_mode": {
    "name": "ipython",
    "version": 3
   },
   "file_extension": ".py",
   "mimetype": "text/x-python",
   "name": "python",
   "nbconvert_exporter": "python",
   "pygments_lexer": "ipython3",
   "version": "3.7.3"
  },
  "papermill": {
   "duration": 39.715958,
   "end_time": "2020-09-07T19:21:43.212388",
   "environment_variables": {},
   "exception": null,
   "input_path": "stock_up_down_parametrize.ipynb",
   "output_path": "../artifact_dir/notebooks/stock_up_down_SSE.ipynb",
   "parameters": {
    "INDEX": "SSE"
   },
   "start_time": "2020-09-07T19:21:03.496430",
   "version": "2.1.3"
  }
 },
 "nbformat": 4,
 "nbformat_minor": 4
}