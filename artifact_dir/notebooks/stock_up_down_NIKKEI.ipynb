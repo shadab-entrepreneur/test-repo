{
 "cells": [
  {
   "cell_type": "code",
   "execution_count": 1,
   "metadata": {
    "execution": {
     "iopub.execute_input": "2020-09-07T19:22:25.490629Z",
     "iopub.status.busy": "2020-09-07T19:22:25.485323Z",
     "iopub.status.idle": "2020-09-07T19:22:25.596323Z",
     "shell.execute_reply": "2020-09-07T19:22:25.596323Z"
    },
    "papermill": {
     "duration": 0.192829,
     "end_time": "2020-09-07T19:22:25.596323",
     "exception": false,
     "start_time": "2020-09-07T19:22:25.403494",
     "status": "completed"
    },
    "tags": []
   },
   "outputs": [],
   "source": [
    "%load_ext autoreload\n",
    "%autoreload 2"
   ]
  },
  {
   "cell_type": "code",
   "execution_count": 2,
   "metadata": {
    "execution": {
     "iopub.execute_input": "2020-09-07T19:22:25.713503Z",
     "iopub.status.busy": "2020-09-07T19:22:25.713503Z",
     "iopub.status.idle": "2020-09-07T19:22:25.768924Z",
     "shell.execute_reply": "2020-09-07T19:22:25.768924Z"
    },
    "papermill": {
     "duration": 0.115209,
     "end_time": "2020-09-07T19:22:25.768924",
     "exception": false,
     "start_time": "2020-09-07T19:22:25.653715",
     "status": "completed"
    },
    "tags": []
   },
   "outputs": [],
   "source": [
    "import warnings\n",
    "warnings.filterwarnings(\"ignore\")"
   ]
  },
  {
   "cell_type": "code",
   "execution_count": 3,
   "metadata": {
    "execution": {
     "iopub.execute_input": "2020-09-07T19:22:25.886897Z",
     "iopub.status.busy": "2020-09-07T19:22:25.886897Z",
     "iopub.status.idle": "2020-09-07T19:22:29.770990Z",
     "shell.execute_reply": "2020-09-07T19:22:29.769985Z"
    },
    "papermill": {
     "duration": 3.943463,
     "end_time": "2020-09-07T19:22:29.770990",
     "exception": false,
     "start_time": "2020-09-07T19:22:25.827527",
     "status": "completed"
    },
    "tags": []
   },
   "outputs": [],
   "source": [
    "import pandas as pd\n",
    "import matplotlib.pyplot as plt\n",
    "import statsmodels.api as sm\n",
    "import statsmodels.formula.api as smf\n",
    "from statsmodels.tools.tools import add_constant\n",
    "from sklearn.preprocessing import StandardScaler\n",
    "from sklearn.linear_model import LogisticRegression\n",
    "from sklearn.svm import SVC\n",
    "from sklearn.neighbors import KNeighborsClassifier\n",
    "from sklearn.ensemble import GradientBoostingClassifier, ExtraTreesClassifier\n",
    "from joblib import load\n",
    "\n",
    "from logger import logger\n",
    "from utils import evaluate_binary, log_mlflow"
   ]
  },
  {
   "cell_type": "code",
   "execution_count": 4,
   "metadata": {
    "execution": {
     "iopub.execute_input": "2020-09-07T19:22:29.886035Z",
     "iopub.status.busy": "2020-09-07T19:22:29.885024Z",
     "iopub.status.idle": "2020-09-07T19:22:30.089600Z",
     "shell.execute_reply": "2020-09-07T19:22:30.088596Z"
    },
    "papermill": {
     "duration": 0.265399,
     "end_time": "2020-09-07T19:22:30.089600",
     "exception": false,
     "start_time": "2020-09-07T19:22:29.824201",
     "status": "completed"
    },
    "tags": [
     "parameters"
    ]
   },
   "outputs": [],
   "source": [
    "# Tag this cell as 'parameters'\n",
    "INDEX = 'SNP'"
   ]
  },
  {
   "cell_type": "code",
   "execution_count": 5,
   "metadata": {
    "execution": {
     "iopub.execute_input": "2020-09-07T19:22:30.201505Z",
     "iopub.status.busy": "2020-09-07T19:22:30.198160Z",
     "iopub.status.idle": "2020-09-07T19:22:30.393650Z",
     "shell.execute_reply": "2020-09-07T19:22:30.392645Z"
    },
    "papermill": {
     "duration": 0.250999,
     "end_time": "2020-09-07T19:22:30.393650",
     "exception": false,
     "start_time": "2020-09-07T19:22:30.142651",
     "status": "completed"
    },
    "tags": [
     "injected-parameters"
    ]
   },
   "outputs": [],
   "source": [
    "# Parameters\n",
    "INDEX = \"NIKKEI\"\n"
   ]
  },
  {
   "cell_type": "code",
   "execution_count": 6,
   "metadata": {
    "execution": {
     "iopub.execute_input": "2020-09-07T19:22:30.504372Z",
     "iopub.status.busy": "2020-09-07T19:22:30.504372Z",
     "iopub.status.idle": "2020-09-07T19:22:30.694707Z",
     "shell.execute_reply": "2020-09-07T19:22:30.693670Z"
    },
    "papermill": {
     "duration": 0.250566,
     "end_time": "2020-09-07T19:22:30.694707",
     "exception": false,
     "start_time": "2020-09-07T19:22:30.444141",
     "status": "completed"
    },
    "tags": []
   },
   "outputs": [],
   "source": [
    "EXPERIMENT = 'stock_up_down'  # Name of experiment\n",
    "RUN_NAME = 'initial assessment'  # Name of iteration (that will show\n",
    "ARTIFACT_DIR = '../artifact_dir'  # Dir for notebook outputs where plots are saved"
   ]
  },
  {
   "cell_type": "code",
   "execution_count": 7,
   "metadata": {
    "execution": {
     "iopub.execute_input": "2020-09-07T19:22:30.815369Z",
     "iopub.status.busy": "2020-09-07T19:22:30.812266Z",
     "iopub.status.idle": "2020-09-07T19:22:31.007764Z",
     "shell.execute_reply": "2020-09-07T19:22:31.006786Z"
    },
    "papermill": {
     "duration": 0.264203,
     "end_time": "2020-09-07T19:22:31.007764",
     "exception": false,
     "start_time": "2020-09-07T19:22:30.743561",
     "status": "completed"
    },
    "tags": []
   },
   "outputs": [],
   "source": [
    "# Wrap all this is a parameter dict\n",
    "run_params = {'experiment': EXPERIMENT,\n",
    "              'iteration': RUN_NAME,\n",
    "              'index': INDEX,\n",
    "              'artifact_dir': ARTIFACT_DIR}"
   ]
  },
  {
   "cell_type": "markdown",
   "metadata": {
    "papermill": {
     "duration": 0.050821,
     "end_time": "2020-09-07T19:22:31.109882",
     "exception": false,
     "start_time": "2020-09-07T19:22:31.059061",
     "status": "completed"
    },
    "tags": []
   },
   "source": [
    "### Import data"
   ]
  },
  {
   "cell_type": "code",
   "execution_count": 8,
   "metadata": {
    "execution": {
     "iopub.execute_input": "2020-09-07T19:22:31.239017Z",
     "iopub.status.busy": "2020-09-07T19:22:31.238010Z",
     "iopub.status.idle": "2020-09-07T19:22:31.509000Z",
     "shell.execute_reply": "2020-09-07T19:22:31.507993Z"
    },
    "papermill": {
     "duration": 0.34085,
     "end_time": "2020-09-07T19:22:31.509000",
     "exception": false,
     "start_time": "2020-09-07T19:22:31.168150",
     "status": "completed"
    },
    "tags": []
   },
   "outputs": [],
   "source": [
    "df = pd.read_csv('../datadir/{}.csv'.format(INDEX))"
   ]
  },
  {
   "cell_type": "markdown",
   "metadata": {
    "papermill": {
     "duration": 0.048126,
     "end_time": "2020-09-07T19:22:31.606994",
     "exception": false,
     "start_time": "2020-09-07T19:22:31.558868",
     "status": "completed"
    },
    "tags": []
   },
   "source": [
    "### Data prep"
   ]
  },
  {
   "cell_type": "code",
   "execution_count": 9,
   "metadata": {
    "execution": {
     "iopub.execute_input": "2020-09-07T19:22:31.734564Z",
     "iopub.status.busy": "2020-09-07T19:22:31.733544Z",
     "iopub.status.idle": "2020-09-07T19:22:31.925586Z",
     "shell.execute_reply": "2020-09-07T19:22:31.924586Z"
    },
    "papermill": {
     "duration": 0.256723,
     "end_time": "2020-09-07T19:22:31.925586",
     "exception": false,
     "start_time": "2020-09-07T19:22:31.668863",
     "status": "completed"
    },
    "tags": []
   },
   "outputs": [],
   "source": [
    "df.columns = [col.lower().replace(' ', '_') for col in df.columns]"
   ]
  },
  {
   "cell_type": "code",
   "execution_count": 10,
   "metadata": {
    "execution": {
     "iopub.execute_input": "2020-09-07T19:22:32.034169Z",
     "iopub.status.busy": "2020-09-07T19:22:32.034169Z",
     "iopub.status.idle": "2020-09-07T19:22:32.265203Z",
     "shell.execute_reply": "2020-09-07T19:22:32.262422Z"
    },
    "papermill": {
     "duration": 0.289798,
     "end_time": "2020-09-07T19:22:32.265203",
     "exception": false,
     "start_time": "2020-09-07T19:22:31.975405",
     "status": "completed"
    },
    "tags": []
   },
   "outputs": [],
   "source": [
    "df.sort_values(by='date', ascending=True, inplace=True)  # Have to sort ascending for rolling to work correctly"
   ]
  },
  {
   "cell_type": "markdown",
   "metadata": {
    "papermill": {
     "duration": 0.049128,
     "end_time": "2020-09-07T19:22:32.366993",
     "exception": false,
     "start_time": "2020-09-07T19:22:32.317865",
     "status": "completed"
    },
    "tags": []
   },
   "source": [
    "### Create basic features"
   ]
  },
  {
   "cell_type": "code",
   "execution_count": 11,
   "metadata": {
    "execution": {
     "iopub.execute_input": "2020-09-07T19:22:32.506468Z",
     "iopub.status.busy": "2020-09-07T19:22:32.504098Z",
     "iopub.status.idle": "2020-09-07T19:22:32.806417Z",
     "shell.execute_reply": "2020-09-07T19:22:32.806417Z"
    },
    "papermill": {
     "duration": 0.366199,
     "end_time": "2020-09-07T19:22:32.807474",
     "exception": false,
     "start_time": "2020-09-07T19:22:32.441275",
     "status": "completed"
    },
    "tags": []
   },
   "outputs": [],
   "source": [
    "df = df[['date', 'open', 'adj_close']].copy()"
   ]
  },
  {
   "cell_type": "code",
   "execution_count": 12,
   "metadata": {
    "execution": {
     "iopub.execute_input": "2020-09-07T19:22:32.942188Z",
     "iopub.status.busy": "2020-09-07T19:22:32.940000Z",
     "iopub.status.idle": "2020-09-07T19:22:33.252111Z",
     "shell.execute_reply": "2020-09-07T19:22:33.252111Z"
    },
    "papermill": {
     "duration": 0.392524,
     "end_time": "2020-09-07T19:22:33.252111",
     "exception": false,
     "start_time": "2020-09-07T19:22:32.859587",
     "status": "completed"
    },
    "tags": []
   },
   "outputs": [],
   "source": [
    "df['prev'] = df['adj_close'].shift(1)"
   ]
  },
  {
   "cell_type": "code",
   "execution_count": 13,
   "metadata": {
    "execution": {
     "iopub.execute_input": "2020-09-07T19:22:33.365106Z",
     "iopub.status.busy": "2020-09-07T19:22:33.364099Z",
     "iopub.status.idle": "2020-09-07T19:22:33.680134Z",
     "shell.execute_reply": "2020-09-07T19:22:33.679135Z"
    },
    "papermill": {
     "duration": 0.37936,
     "end_time": "2020-09-07T19:22:33.680134",
     "exception": false,
     "start_time": "2020-09-07T19:22:33.300774",
     "status": "completed"
    },
    "tags": []
   },
   "outputs": [],
   "source": [
    "df['sma2'] = df['prev'].rolling(window=2).mean()\n",
    "df['sma5'] = df['prev'].rolling(window=5).mean()\n",
    "df['sma10'] = df['prev'].rolling(window=10).mean()\n",
    "df['sma20'] = df['prev'].rolling(window=20).mean()"
   ]
  },
  {
   "cell_type": "code",
   "execution_count": 14,
   "metadata": {
    "execution": {
     "iopub.execute_input": "2020-09-07T19:22:33.807173Z",
     "iopub.status.busy": "2020-09-07T19:22:33.802890Z",
     "iopub.status.idle": "2020-09-07T19:22:34.139250Z",
     "shell.execute_reply": "2020-09-07T19:22:34.134681Z"
    },
    "papermill": {
     "duration": 0.405333,
     "end_time": "2020-09-07T19:22:34.139250",
     "exception": false,
     "start_time": "2020-09-07T19:22:33.733917",
     "status": "completed"
    },
    "tags": []
   },
   "outputs": [],
   "source": [
    "assert round(df['prev'].tail(5).mean(), 4) == round(df['sma5'].tail(1).item(), 4), 'Expected sma5 to be same as mean of past 5 items'\n",
    "assert round(df['prev'].tail(10).mean(), 4) == round(df['sma10'].tail(1).item(), 4), 'Expected sma10 to be same as mean of past 10 items'\n",
    "assert round(df['prev'].tail(20).mean(), 4) == round(df['sma20'].tail(1).item(), 4), 'Expected sma20 to be same as mean of past 20 items'"
   ]
  },
  {
   "cell_type": "code",
   "execution_count": 15,
   "metadata": {
    "execution": {
     "iopub.execute_input": "2020-09-07T19:22:34.257986Z",
     "iopub.status.busy": "2020-09-07T19:22:34.256887Z",
     "iopub.status.idle": "2020-09-07T19:22:34.567447Z",
     "shell.execute_reply": "2020-09-07T19:22:34.572515Z"
    },
    "papermill": {
     "duration": 0.382146,
     "end_time": "2020-09-07T19:22:34.572515",
     "exception": false,
     "start_time": "2020-09-07T19:22:34.190369",
     "status": "completed"
    },
    "tags": []
   },
   "outputs": [],
   "source": [
    "df['ema12'] = df['prev'].ewm(span=12, min_periods=12, adjust=False).mean()\n",
    "df['ema26'] = df['prev'].ewm(span=26, min_periods=26, adjust=False).mean()"
   ]
  },
  {
   "cell_type": "code",
   "execution_count": 16,
   "metadata": {
    "execution": {
     "iopub.execute_input": "2020-09-07T19:22:34.685825Z",
     "iopub.status.busy": "2020-09-07T19:22:34.684476Z",
     "iopub.status.idle": "2020-09-07T19:22:34.990180Z",
     "shell.execute_reply": "2020-09-07T19:22:34.988804Z"
    },
    "papermill": {
     "duration": 0.365738,
     "end_time": "2020-09-07T19:22:34.990180",
     "exception": false,
     "start_time": "2020-09-07T19:22:34.624442",
     "status": "completed"
    },
    "tags": []
   },
   "outputs": [],
   "source": [
    "def difference(prev_price, moving_average):\n",
    "    return (prev_price - moving_average) / prev_price"
   ]
  },
  {
   "cell_type": "code",
   "execution_count": 17,
   "metadata": {
    "execution": {
     "iopub.execute_input": "2020-09-07T19:22:35.132445Z",
     "iopub.status.busy": "2020-09-07T19:22:35.131450Z",
     "iopub.status.idle": "2020-09-07T19:22:35.467049Z",
     "shell.execute_reply": "2020-09-07T19:22:35.472207Z"
    },
    "papermill": {
     "duration": 0.405392,
     "end_time": "2020-09-07T19:22:35.472207",
     "exception": false,
     "start_time": "2020-09-07T19:22:35.066815",
     "status": "completed"
    },
    "tags": []
   },
   "outputs": [],
   "source": [
    "for col in ['sma2', 'sma5', 'sma10', 'sma20', 'ema12', 'ema26']:\n",
    "    df['{}_diff'.format(col)] = difference(df['prev'], df[col])"
   ]
  },
  {
   "cell_type": "code",
   "execution_count": 18,
   "metadata": {
    "execution": {
     "iopub.execute_input": "2020-09-07T19:22:35.606455Z",
     "iopub.status.busy": "2020-09-07T19:22:35.605456Z",
     "iopub.status.idle": "2020-09-07T19:22:35.911217Z",
     "shell.execute_reply": "2020-09-07T19:22:35.911217Z"
    },
    "papermill": {
     "duration": 0.387078,
     "end_time": "2020-09-07T19:22:35.912248",
     "exception": false,
     "start_time": "2020-09-07T19:22:35.525170",
     "status": "completed"
    },
    "tags": []
   },
   "outputs": [],
   "source": [
    "df.dropna(inplace=True)"
   ]
  },
  {
   "cell_type": "code",
   "execution_count": 19,
   "metadata": {
    "execution": {
     "iopub.execute_input": "2020-09-07T19:22:36.029040Z",
     "iopub.status.busy": "2020-09-07T19:22:36.027040Z",
     "iopub.status.idle": "2020-09-07T19:22:36.340676Z",
     "shell.execute_reply": "2020-09-07T19:22:36.340676Z"
    },
    "papermill": {
     "duration": 0.373873,
     "end_time": "2020-09-07T19:22:36.340676",
     "exception": false,
     "start_time": "2020-09-07T19:22:35.966803",
     "status": "completed"
    },
    "tags": []
   },
   "outputs": [
    {
     "data": {
      "text/plain": [
       "(216, 16)"
      ]
     },
     "execution_count": 19,
     "metadata": {},
     "output_type": "execute_result"
    }
   ],
   "source": [
    "df.shape"
   ]
  },
  {
   "cell_type": "code",
   "execution_count": 20,
   "metadata": {
    "execution": {
     "iopub.execute_input": "2020-09-07T19:22:36.469059Z",
     "iopub.status.busy": "2020-09-07T19:22:36.464937Z",
     "iopub.status.idle": "2020-09-07T19:22:36.788343Z",
     "shell.execute_reply": "2020-09-07T19:22:36.786673Z"
    },
    "papermill": {
     "duration": 0.382007,
     "end_time": "2020-09-07T19:22:36.788343",
     "exception": false,
     "start_time": "2020-09-07T19:22:36.406336",
     "status": "completed"
    },
    "tags": []
   },
   "outputs": [],
   "source": [
    "df.drop(columns=['date', 'open'], inplace=True)"
   ]
  },
  {
   "cell_type": "markdown",
   "metadata": {
    "papermill": {
     "duration": 0.063469,
     "end_time": "2020-09-07T19:22:36.903826",
     "exception": false,
     "start_time": "2020-09-07T19:22:36.840357",
     "status": "completed"
    },
    "tags": []
   },
   "source": [
    "### Create label"
   ]
  },
  {
   "cell_type": "code",
   "execution_count": 21,
   "metadata": {
    "execution": {
     "iopub.execute_input": "2020-09-07T19:22:37.034706Z",
     "iopub.status.busy": "2020-09-07T19:22:37.034706Z",
     "iopub.status.idle": "2020-09-07T19:22:37.372616Z",
     "shell.execute_reply": "2020-09-07T19:22:37.372616Z"
    },
    "papermill": {
     "duration": 0.415596,
     "end_time": "2020-09-07T19:22:37.372616",
     "exception": false,
     "start_time": "2020-09-07T19:22:36.957020",
     "status": "completed"
    },
    "tags": []
   },
   "outputs": [],
   "source": [
    "df['label'] = (df['adj_close'] > df['prev']).astype(int)"
   ]
  },
  {
   "cell_type": "markdown",
   "metadata": {
    "papermill": {
     "duration": 0.052198,
     "end_time": "2020-09-07T19:22:37.483816",
     "exception": false,
     "start_time": "2020-09-07T19:22:37.431618",
     "status": "completed"
    },
    "tags": []
   },
   "source": [
    "### Train-val split"
   ]
  },
  {
   "cell_type": "code",
   "execution_count": 22,
   "metadata": {
    "execution": {
     "iopub.execute_input": "2020-09-07T19:22:37.606033Z",
     "iopub.status.busy": "2020-09-07T19:22:37.604036Z",
     "iopub.status.idle": "2020-09-07T19:22:37.907504Z",
     "shell.execute_reply": "2020-09-07T19:22:37.907504Z"
    },
    "papermill": {
     "duration": 0.367287,
     "end_time": "2020-09-07T19:22:37.907504",
     "exception": false,
     "start_time": "2020-09-07T19:22:37.540217",
     "status": "completed"
    },
    "tags": []
   },
   "outputs": [],
   "source": [
    "# Keep most recent 20 days as validation set"
   ]
  },
  {
   "cell_type": "code",
   "execution_count": 23,
   "metadata": {
    "execution": {
     "iopub.execute_input": "2020-09-07T19:22:38.026851Z",
     "iopub.status.busy": "2020-09-07T19:22:38.026851Z",
     "iopub.status.idle": "2020-09-07T19:22:38.364720Z",
     "shell.execute_reply": "2020-09-07T19:22:38.371249Z"
    },
    "papermill": {
     "duration": 0.406441,
     "end_time": "2020-09-07T19:22:38.371249",
     "exception": false,
     "start_time": "2020-09-07T19:22:37.964808",
     "status": "completed"
    },
    "tags": []
   },
   "outputs": [
    {
     "name": "stderr",
     "output_type": "stream",
     "text": [
      "2020-09-08 00:52:38,339 - No. of days - Train: 196, Val: 20\n"
     ]
    }
   ],
   "source": [
    "validation_days = 20\n",
    "train = df.iloc[:-validation_days].copy()\n",
    "val = df.iloc[-validation_days:].copy()\n",
    "logger.info('No. of days - Train: {}, Val: {}'.format(train.shape[0], val.shape[0]))"
   ]
  },
  {
   "cell_type": "markdown",
   "metadata": {
    "papermill": {
     "duration": 0.053805,
     "end_time": "2020-09-07T19:22:38.477003",
     "exception": false,
     "start_time": "2020-09-07T19:22:38.423198",
     "status": "completed"
    },
    "tags": []
   },
   "source": [
    "### Basic visualizations"
   ]
  },
  {
   "cell_type": "code",
   "execution_count": 24,
   "metadata": {
    "execution": {
     "iopub.execute_input": "2020-09-07T19:22:38.606544Z",
     "iopub.status.busy": "2020-09-07T19:22:38.604538Z",
     "iopub.status.idle": "2020-09-07T19:22:39.376544Z",
     "shell.execute_reply": "2020-09-07T19:22:39.375540Z"
    },
    "papermill": {
     "duration": 0.84406,
     "end_time": "2020-09-07T19:22:39.376544",
     "exception": false,
     "start_time": "2020-09-07T19:22:38.532484",
     "status": "completed"
    },
    "tags": []
   },
   "outputs": [
    {
     "data": {
      "text/plain": [
       "<matplotlib.legend.Legend at 0x20527caf198>"
      ]
     },
     "execution_count": 24,
     "metadata": {},
     "output_type": "execute_result"
    },
    {
     "data": {
      "image/png": "[encoded data removed]",
      "text/plain": [
       "<Figure size 1080x360 with 1 Axes>"
      ]
     },
     "metadata": {
      "needs_background": "light"
     },
     "output_type": "display_data"
    }
   ],
   "source": [
    "plt.figure(figsize=(15, 5))\n",
    "plt.grid()\n",
    "plt.plot(train['adj_close'], label='price')\n",
    "plt.plot(train['sma20'], label='simple moving average 20')\n",
    "plt.plot(train['ema12'], label='exponential moving average 12')\n",
    "plt.plot(train['ema26'], label='exponential moving average 26')\n",
    "plt.legend()"
   ]
  },
  {
   "cell_type": "markdown",
   "metadata": {
    "papermill": {
     "duration": 0.060562,
     "end_time": "2020-09-07T19:22:39.491536",
     "exception": false,
     "start_time": "2020-09-07T19:22:39.430974",
     "status": "completed"
    },
    "tags": []
   },
   "source": [
    "### Feature transformations"
   ]
  },
  {
   "cell_type": "code",
   "execution_count": 25,
   "metadata": {
    "execution": {
     "iopub.execute_input": "2020-09-07T19:22:39.617104Z",
     "iopub.status.busy": "2020-09-07T19:22:39.614924Z",
     "iopub.status.idle": "2020-09-07T19:22:39.922035Z",
     "shell.execute_reply": "2020-09-07T19:22:39.922035Z"
    },
    "papermill": {
     "duration": 0.374339,
     "end_time": "2020-09-07T19:22:39.922035",
     "exception": false,
     "start_time": "2020-09-07T19:22:39.547696",
     "status": "completed"
    },
    "tags": []
   },
   "outputs": [],
   "source": [
    "scaler = StandardScaler()"
   ]
  },
  {
   "cell_type": "code",
   "execution_count": 26,
   "metadata": {
    "execution": {
     "iopub.execute_input": "2020-09-07T19:22:40.058441Z",
     "iopub.status.busy": "2020-09-07T19:22:40.058441Z",
     "iopub.status.idle": "2020-09-07T19:22:40.387128Z",
     "shell.execute_reply": "2020-09-07T19:22:40.381985Z"
    },
    "papermill": {
     "duration": 0.398747,
     "end_time": "2020-09-07T19:22:40.387128",
     "exception": false,
     "start_time": "2020-09-07T19:22:39.988381",
     "status": "completed"
    },
    "tags": []
   },
   "outputs": [],
   "source": [
    "COLS_TO_SCALE = ['prev', 'sma2', 'sma5', 'sma10', 'sma20', 'ema12', 'ema26']"
   ]
  },
  {
   "cell_type": "code",
   "execution_count": 27,
   "metadata": {
    "execution": {
     "iopub.execute_input": "2020-09-07T19:22:40.525633Z",
     "iopub.status.busy": "2020-09-07T19:22:40.524631Z",
     "iopub.status.idle": "2020-09-07T19:22:40.836993Z",
     "shell.execute_reply": "2020-09-07T19:22:40.836183Z"
    },
    "papermill": {
     "duration": 0.389663,
     "end_time": "2020-09-07T19:22:40.837992",
     "exception": false,
     "start_time": "2020-09-07T19:22:40.448329",
     "status": "completed"
    },
    "tags": []
   },
   "outputs": [
    {
     "data": {
      "text/plain": [
       "StandardScaler(copy=True, with_mean=True, with_std=True)"
      ]
     },
     "execution_count": 27,
     "metadata": {},
     "output_type": "execute_result"
    }
   ],
   "source": [
    "scaler.fit(train[COLS_TO_SCALE])"
   ]
  },
  {
   "cell_type": "code",
   "execution_count": 28,
   "metadata": {
    "execution": {
     "iopub.execute_input": "2020-09-07T19:22:40.960501Z",
     "iopub.status.busy": "2020-09-07T19:22:40.958416Z",
     "iopub.status.idle": "2020-09-07T19:22:41.287939Z",
     "shell.execute_reply": "2020-09-07T19:22:41.280208Z"
    },
    "papermill": {
     "duration": 0.390794,
     "end_time": "2020-09-07T19:22:41.287939",
     "exception": false,
     "start_time": "2020-09-07T19:22:40.897145",
     "status": "completed"
    },
    "tags": []
   },
   "outputs": [],
   "source": [
    "train[COLS_TO_SCALE] = scaler.transform(train[COLS_TO_SCALE])\n",
    "val[COLS_TO_SCALE] = scaler.transform(val[COLS_TO_SCALE])"
   ]
  },
  {
   "cell_type": "markdown",
   "metadata": {
    "papermill": {
     "duration": 0.053167,
     "end_time": "2020-09-07T19:22:41.406735",
     "exception": false,
     "start_time": "2020-09-07T19:22:41.353568",
     "status": "completed"
    },
    "tags": []
   },
   "source": [
    "### Linear regression coefficients"
   ]
  },
  {
   "cell_type": "code",
   "execution_count": 29,
   "metadata": {
    "execution": {
     "iopub.execute_input": "2020-09-07T19:22:41.546762Z",
     "iopub.status.busy": "2020-09-07T19:22:41.546762Z",
     "iopub.status.idle": "2020-09-07T19:22:41.854675Z",
     "shell.execute_reply": "2020-09-07T19:22:41.854675Z"
    },
    "papermill": {
     "duration": 0.382513,
     "end_time": "2020-09-07T19:22:41.854675",
     "exception": false,
     "start_time": "2020-09-07T19:22:41.472162",
     "status": "completed"
    },
    "tags": []
   },
   "outputs": [
    {
     "name": "stderr",
     "output_type": "stream",
     "text": [
      "2020-09-08 00:52:41,838 - x variables: prev+sma2+sma5+sma10+sma20+ema12+ema26+sma2_diff+sma5_diff+sma10_diff+sma20_diff+ema12_diff+ema26_diff\n"
     ]
    }
   ],
   "source": [
    "x_variables = '+'.join(list(train.columns[1:-1]))\n",
    "logger.info('x variables: {}'.format(x_variables))"
   ]
  },
  {
   "cell_type": "code",
   "execution_count": 30,
   "metadata": {
    "execution": {
     "iopub.execute_input": "2020-09-07T19:22:41.991459Z",
     "iopub.status.busy": "2020-09-07T19:22:41.991459Z",
     "iopub.status.idle": "2020-09-07T19:22:42.386959Z",
     "shell.execute_reply": "2020-09-07T19:22:42.381412Z"
    },
    "papermill": {
     "duration": 0.464957,
     "end_time": "2020-09-07T19:22:42.386959",
     "exception": false,
     "start_time": "2020-09-07T19:22:41.922002",
     "status": "completed"
    },
    "tags": []
   },
   "outputs": [],
   "source": [
    "results = smf.ols('adj_close ~ {}'.format(x_variables), data=train).fit()"
   ]
  },
  {
   "cell_type": "code",
   "execution_count": 31,
   "metadata": {
    "execution": {
     "iopub.execute_input": "2020-09-07T19:22:42.512381Z",
     "iopub.status.busy": "2020-09-07T19:22:42.510328Z",
     "iopub.status.idle": "2020-09-07T19:22:42.853045Z",
     "shell.execute_reply": "2020-09-07T19:22:42.845697Z"
    },
    "papermill": {
     "duration": 0.414564,
     "end_time": "2020-09-07T19:22:42.853069",
     "exception": false,
     "start_time": "2020-09-07T19:22:42.438505",
     "status": "completed"
    },
    "scrolled": false,
    "tags": []
   },
   "outputs": [
    {
     "name": "stdout",
     "output_type": "stream",
     "text": [
      "                            OLS Regression Results                            \n",
      "==============================================================================\n",
      "Dep. Variable:              adj_close   R-squared:                       0.974\n",
      "Model:                            OLS   Adj. R-squared:                  0.972\n",
      "Method:                 Least Squares   F-statistic:                     528.1\n",
      "Date:                Tue, 08 Sep 2020   Prob (F-statistic):          6.85e-137\n",
      "Time:                        00:52:42   Log-Likelihood:                -1293.2\n",
      "No. Observations:                 196   AIC:                             2614.\n",
      "Df Residuals:                     182   BIC:                             2660.\n",
      "Df Model:                          13                                         \n",
      "Covariance Type:            nonrobust                                         \n",
      "==============================================================================\n",
      "                 coef    std err          t      P>|t|      [0.025      0.975]\n",
      "------------------------------------------------------------------------------\n",
      "Intercept   2.214e+04    148.906    148.716      0.000    2.19e+04    2.24e+04\n",
      "prev       -1427.3647   3551.122     -0.402      0.688   -8434.026    5579.297\n",
      "sma2        4724.3090   5371.595      0.879      0.380   -5874.300    1.53e+04\n",
      "sma5        5482.2576   9159.572      0.599      0.550   -1.26e+04    2.36e+04\n",
      "sma10       5798.4233   1.47e+04      0.394      0.694   -2.33e+04    3.49e+04\n",
      "sma20       1.049e+04   9065.998      1.157      0.249   -7395.729    2.84e+04\n",
      "ema12      -2.134e+04   3.97e+04     -0.538      0.591   -9.96e+04    5.69e+04\n",
      "ema26      -2201.0966   5413.856     -0.407      0.685   -1.29e+04    8480.897\n",
      "sma2_diff   9.249e+04   1.08e+05      0.856      0.393   -1.21e+05    3.06e+05\n",
      "sma5_diff   1.331e+05   1.87e+05      0.713      0.477   -2.35e+05    5.01e+05\n",
      "sma10_diff   1.52e+05   3.08e+05      0.494      0.622   -4.55e+05    7.59e+05\n",
      "sma20_diff  2.497e+05   2.01e+05      1.241      0.216   -1.47e+05    6.47e+05\n",
      "ema12_diff -5.459e+05   8.54e+05     -0.640      0.523   -2.23e+06    1.14e+06\n",
      "ema26_diff -3.872e+04   1.28e+05     -0.302      0.763   -2.92e+05    2.14e+05\n",
      "==============================================================================\n",
      "Omnibus:                        3.872   Durbin-Watson:                   1.992\n",
      "Prob(Omnibus):                  0.144   Jarque-Bera (JB):                4.411\n",
      "Skew:                           0.114   Prob(JB):                        0.110\n",
      "Kurtosis:                       3.698   Cond. No.                     1.88e+05\n",
      "==============================================================================\n",
      "\n",
      "Warnings:\n",
      "[1] Standard Errors assume that the covariance matrix of the errors is correctly specified.\n",
      "[2] The condition number is large, 1.88e+05. This might indicate that there are\n",
      "strong multicollinearity or other numerical problems.\n"
     ]
    }
   ],
   "source": [
    "print(results.summary())"
   ]
  },
  {
   "cell_type": "markdown",
   "metadata": {
    "papermill": {
     "duration": 0.057846,
     "end_time": "2020-09-07T19:22:42.962855",
     "exception": false,
     "start_time": "2020-09-07T19:22:42.905009",
     "status": "completed"
    },
    "tags": []
   },
   "source": [
    "### Drop label col"
   ]
  },
  {
   "cell_type": "code",
   "execution_count": 32,
   "metadata": {
    "execution": {
     "iopub.execute_input": "2020-09-07T19:22:43.122467Z",
     "iopub.status.busy": "2020-09-07T19:22:43.121433Z",
     "iopub.status.idle": "2020-09-07T19:22:43.437324Z",
     "shell.execute_reply": "2020-09-07T19:22:43.437324Z"
    },
    "papermill": {
     "duration": 0.407624,
     "end_time": "2020-09-07T19:22:43.437324",
     "exception": false,
     "start_time": "2020-09-07T19:22:43.029700",
     "status": "completed"
    },
    "tags": []
   },
   "outputs": [],
   "source": [
    "train.drop(columns=['adj_close'], inplace=True)\n",
    "val.drop(columns=['adj_close'], inplace=True)"
   ]
  },
  {
   "cell_type": "markdown",
   "metadata": {
    "papermill": {
     "duration": 0.062004,
     "end_time": "2020-09-07T19:22:43.565888",
     "exception": false,
     "start_time": "2020-09-07T19:22:43.503884",
     "status": "completed"
    },
    "tags": []
   },
   "source": [
    "### Logistic Regression Coefficients"
   ]
  },
  {
   "cell_type": "code",
   "execution_count": 33,
   "metadata": {
    "execution": {
     "iopub.execute_input": "2020-09-07T19:22:43.720457Z",
     "iopub.status.busy": "2020-09-07T19:22:43.712749Z",
     "iopub.status.idle": "2020-09-07T19:22:44.020893Z",
     "shell.execute_reply": "2020-09-07T19:22:44.019894Z"
    },
    "papermill": {
     "duration": 0.374665,
     "end_time": "2020-09-07T19:22:44.020893",
     "exception": false,
     "start_time": "2020-09-07T19:22:43.646228",
     "status": "completed"
    },
    "tags": []
   },
   "outputs": [],
   "source": [
    "y = train['label'].values\n",
    "X = train.drop(columns=['label'])"
   ]
  },
  {
   "cell_type": "code",
   "execution_count": 34,
   "metadata": {
    "execution": {
     "iopub.execute_input": "2020-09-07T19:22:44.162181Z",
     "iopub.status.busy": "2020-09-07T19:22:44.161194Z",
     "iopub.status.idle": "2020-09-07T19:22:44.480206Z",
     "shell.execute_reply": "2020-09-07T19:22:44.485847Z"
    },
    "papermill": {
     "duration": 0.404633,
     "end_time": "2020-09-07T19:22:44.485847",
     "exception": false,
     "start_time": "2020-09-07T19:22:44.081214",
     "status": "completed"
    },
    "tags": []
   },
   "outputs": [],
   "source": [
    "X = add_constant(X)"
   ]
  },
  {
   "cell_type": "code",
   "execution_count": 35,
   "metadata": {
    "execution": {
     "iopub.execute_input": "2020-09-07T19:22:44.628939Z",
     "iopub.status.busy": "2020-09-07T19:22:44.627931Z",
     "iopub.status.idle": "2020-09-07T19:22:44.936885Z",
     "shell.execute_reply": "2020-09-07T19:22:44.936885Z"
    },
    "papermill": {
     "duration": 0.389619,
     "end_time": "2020-09-07T19:22:44.936885",
     "exception": false,
     "start_time": "2020-09-07T19:22:44.547266",
     "status": "completed"
    },
    "tags": []
   },
   "outputs": [],
   "source": [
    "logit = sm.Logit(y, X)"
   ]
  },
  {
   "cell_type": "code",
   "execution_count": 36,
   "metadata": {
    "execution": {
     "iopub.execute_input": "2020-09-07T19:22:45.069894Z",
     "iopub.status.busy": "2020-09-07T19:22:45.067814Z",
     "iopub.status.idle": "2020-09-07T19:22:45.445101Z",
     "shell.execute_reply": "2020-09-07T19:22:45.452217Z"
    },
    "papermill": {
     "duration": 0.447877,
     "end_time": "2020-09-07T19:22:45.452217",
     "exception": false,
     "start_time": "2020-09-07T19:22:45.004340",
     "status": "completed"
    },
    "tags": []
   },
   "outputs": [
    {
     "name": "stdout",
     "output_type": "stream",
     "text": [
      "Warning: Maximum number of iterations has been exceeded.\n",
      "         Current function value: 6.563392\n",
      "         Iterations: 35\n",
      "                           Logit Regression Results                           \n",
      "==============================================================================\n",
      "Dep. Variable:                      y   No. Observations:                  196\n",
      "Model:                          Logit   Df Residuals:                      182\n",
      "Method:                           MLE   Df Model:                           13\n",
      "Date:                Tue, 08 Sep 2020   Pseudo R-squ.:                  -8.573\n",
      "Time:                        00:52:45   Log-Likelihood:                -1286.4\n",
      "converged:                      False   LL-Null:                       -134.38\n",
      "Covariance Type:            nonrobust   LLR p-value:                     1.000\n",
      "==============================================================================\n",
      "                 coef    std err          z      P>|z|      [0.025      0.975]\n",
      "------------------------------------------------------------------------------\n",
      "const         81.6258     19.414      4.204      0.000      43.574     119.677\n",
      "prev       -2489.7887    583.875     -4.264      0.000   -3634.163   -1345.414\n",
      "sma2       -4468.2003   1032.337     -4.328      0.000   -6491.543   -2444.858\n",
      "sma5       -1.192e+04   2742.079     -4.348      0.000   -1.73e+04   -6549.290\n",
      "sma10      -2.203e+04   5039.090     -4.371      0.000   -3.19e+04   -1.21e+04\n",
      "sma20      -1.256e+04   2870.456     -4.375      0.000   -1.82e+04   -6933.433\n",
      "ema12       5.981e+04   1.37e+04      4.367      0.000     3.3e+04    8.67e+04\n",
      "ema26      -6881.0916   1586.789     -4.336      0.000   -9991.141   -3771.043\n",
      "sma2_diff  -8.903e+04   2.05e+04     -4.341      0.000   -1.29e+05   -4.88e+04\n",
      "sma5_diff  -2.392e+05   5.49e+04     -4.356      0.000   -3.47e+05   -1.32e+05\n",
      "sma10_diff -4.523e+05   1.03e+05     -4.379      0.000   -6.55e+05    -2.5e+05\n",
      "sma20_diff -2.748e+05   6.27e+04     -4.384      0.000   -3.98e+05   -1.52e+05\n",
      "ema12_diff  1.265e+06   2.89e+05      4.375      0.000    6.98e+05    1.83e+06\n",
      "ema26_diff -1.608e+05    3.7e+04     -4.344      0.000   -2.33e+05   -8.82e+04\n",
      "==============================================================================\n",
      "\n",
      "Possibly complete quasi-separation: A fraction 0.25 of observations can be\n",
      "perfectly predicted. This might indicate that there is complete\n",
      "quasi-separation. In this case some parameters will not be identified.\n"
     ]
    },
    {
     "name": "stderr",
     "output_type": "stream",
     "text": [
      "C:\\Users\\ShadabHussain\\Anaconda3\\lib\\site-packages\\statsmodels\\base\\model.py:512: ConvergenceWarning: Maximum Likelihood optimization failed to converge. Check mle_retvals\n",
      "  \"Check mle_retvals\", ConvergenceWarning)\n"
     ]
    }
   ],
   "source": [
    "result = logit.fit()\n",
    "print(result.summary())"
   ]
  },
  {
   "cell_type": "markdown",
   "metadata": {
    "papermill": {
     "duration": 0.059228,
     "end_time": "2020-09-07T19:22:45.570497",
     "exception": false,
     "start_time": "2020-09-07T19:22:45.511269",
     "status": "completed"
    },
    "tags": []
   },
   "source": [
    "### Train some basic models"
   ]
  },
  {
   "cell_type": "code",
   "execution_count": 37,
   "metadata": {
    "execution": {
     "iopub.execute_input": "2020-09-07T19:22:45.720861Z",
     "iopub.status.busy": "2020-09-07T19:22:45.716088Z",
     "iopub.status.idle": "2020-09-07T19:22:46.022107Z",
     "shell.execute_reply": "2020-09-07T19:22:46.022107Z"
    },
    "papermill": {
     "duration": 0.393253,
     "end_time": "2020-09-07T19:22:46.022107",
     "exception": false,
     "start_time": "2020-09-07T19:22:45.628854",
     "status": "completed"
    },
    "tags": []
   },
   "outputs": [],
   "source": [
    "y_train = train['label'].values\n",
    "X_train = train.drop(columns='label').values\n",
    "\n",
    "y_val = val['label'].values\n",
    "X_val = val.drop(columns='label').values"
   ]
  },
  {
   "cell_type": "code",
   "execution_count": 38,
   "metadata": {
    "execution": {
     "iopub.execute_input": "2020-09-07T19:22:46.154193Z",
     "iopub.status.busy": "2020-09-07T19:22:46.154193Z",
     "iopub.status.idle": "2020-09-07T19:22:48.053434Z",
     "shell.execute_reply": "2020-09-07T19:22:48.053434Z"
    },
    "papermill": {
     "duration": 1.966165,
     "end_time": "2020-09-07T19:22:48.053434",
     "exception": false,
     "start_time": "2020-09-07T19:22:46.087269",
     "status": "completed"
    },
    "tags": []
   },
   "outputs": [
    {
     "name": "stderr",
     "output_type": "stream",
     "text": [
      "2020-09-08 00:52:46,486 - AUC: 0.354 | Recall: 0.000 | Precision: 0.000 | F1: 0.000\n"
     ]
    },
    {
     "name": "stderr",
     "output_type": "stream",
     "text": [
      "2020-09-08 00:52:46,651 - ROC curve saved to: ../artifact_dir/plots/roc_curve_Logistic Regression (auc = 0.35).png\n"
     ]
    },
    {
     "name": "stderr",
     "output_type": "stream",
     "text": [
      "2020-09-08 00:52:46,888 - Precision-recall curve saved to: ../artifact_dir/plots/precision_recall_Logistic Regression prec= 0.00 recall= 0.00.png\n"
     ]
    },
    {
     "name": "stderr",
     "output_type": "stream",
     "text": [
      "2020-09-08 00:52:46,888 - Model saved to: ../artifact_dir/models/Logistic Regression.pickle\n"
     ]
    },
    {
     "name": "stderr",
     "output_type": "stream",
     "text": [
      "C:\\Users\\ShadabHussain\\Anaconda3\\lib\\site-packages\\py4j\\java_collections.py:13: DeprecationWarning: Using or importing the ABCs from 'collections' instead of from 'collections.abc' is deprecated, and in 3.8 it will stop working\n",
      "  from collections import (\n",
      "C:\\Users\\ShadabHussain\\Anaconda3\\lib\\site-packages\\pyspark\\resultiterable.py:23: DeprecationWarning: Using or importing the ABCs from 'collections' instead of from 'collections.abc' is deprecated, and in 3.8 it will stop working\n",
      "  class ResultIterable(collections.Iterable):\n"
     ]
    },
    {
     "data": {
      "image/png": "[encoded data removed]",
      "text/plain": [
       "<Figure size 360x360 with 1 Axes>"
      ]
     },
     "metadata": {
      "needs_background": "light"
     },
     "output_type": "display_data"
    },
    {
     "data": {
      "image/png": "[encoded data removed]",
      "text/plain": [
       "<Figure size 1080x360 with 1 Axes>"
      ]
     },
     "metadata": {
      "needs_background": "light"
     },
     "output_type": "display_data"
    }
   ],
   "source": [
    "# Logistic regression\n",
    "model_name = 'Logistic Regression'\n",
    "model = LogisticRegression(fit_intercept=False).fit(X_train, y_train)\n",
    "pred = model.predict_proba(X_val)[:, 1]\n",
    "log_mlflow(run_params, model, model_name, y_val, pred)"
   ]
  },
  {
   "cell_type": "code",
   "execution_count": 39,
   "metadata": {
    "execution": {
     "iopub.execute_input": "2020-09-07T19:22:48.273364Z",
     "iopub.status.busy": "2020-09-07T19:22:48.273364Z",
     "iopub.status.idle": "2020-09-07T19:22:49.869907Z",
     "shell.execute_reply": "2020-09-07T19:22:49.867840Z"
    },
    "papermill": {
     "duration": 1.698994,
     "end_time": "2020-09-07T19:22:49.869907",
     "exception": false,
     "start_time": "2020-09-07T19:22:48.170913",
     "status": "completed"
    },
    "tags": []
   },
   "outputs": [
    {
     "name": "stderr",
     "output_type": "stream",
     "text": [
      "2020-09-08 00:52:48,736 - AUC: 0.229 | Recall: 1.000 | Precision: 0.400 | F1: 0.571\n"
     ]
    },
    {
     "name": "stderr",
     "output_type": "stream",
     "text": [
      "2020-09-08 00:52:49,018 - ROC curve saved to: ../artifact_dir/plots/roc_curve_Support Vector Classifier (auc = 0.23).png\n"
     ]
    },
    {
     "name": "stderr",
     "output_type": "stream",
     "text": [
      "2020-09-08 00:52:49,236 - Precision-recall curve saved to: ../artifact_dir/plots/precision_recall_Support Vector Classifier prec= 0.40 recall= 1.00.png\n"
     ]
    },
    {
     "name": "stderr",
     "output_type": "stream",
     "text": [
      "2020-09-08 00:52:49,244 - Model saved to: ../artifact_dir/models/Support Vector Classifier.pickle\n"
     ]
    },
    {
     "data": {
      "image/png": "[encoded data removed]",
      "text/plain": [
       "<Figure size 360x360 with 1 Axes>"
      ]
     },
     "metadata": {
      "needs_background": "light"
     },
     "output_type": "display_data"
    },
    {
     "data": {
      "image/png": "[encoded data removed]",
      "text/plain": [
       "<Figure size 1080x360 with 1 Axes>"
      ]
     },
     "metadata": {
      "needs_background": "light"
     },
     "output_type": "display_data"
    }
   ],
   "source": [
    "# Support vector classifier\n",
    "model_name = 'Support Vector Classifier'\n",
    "model = SVC(gamma=2, C=1, probability=True).fit(X_train, y_train)\n",
    "pred = model.predict_proba(X_val)[:, 1]\n",
    "log_mlflow(run_params, model, model_name, y_val, pred)"
   ]
  },
  {
   "cell_type": "code",
   "execution_count": 40,
   "metadata": {
    "execution": {
     "iopub.execute_input": "2020-09-07T19:22:50.058915Z",
     "iopub.status.busy": "2020-09-07T19:22:50.058915Z",
     "iopub.status.idle": "2020-09-07T19:22:51.718308Z",
     "shell.execute_reply": "2020-09-07T19:22:51.713379Z"
    },
    "papermill": {
     "duration": 1.758532,
     "end_time": "2020-09-07T19:22:51.718308",
     "exception": false,
     "start_time": "2020-09-07T19:22:49.959776",
     "status": "completed"
    },
    "tags": []
   },
   "outputs": [
    {
     "name": "stderr",
     "output_type": "stream",
     "text": [
      "2020-09-08 00:52:50,377 - AUC: 0.448 | Recall: 0.625 | Precision: 0.333 | F1: 0.435\n"
     ]
    },
    {
     "name": "stderr",
     "output_type": "stream",
     "text": [
      "2020-09-08 00:52:50,544 - ROC curve saved to: ../artifact_dir/plots/roc_curve_K-nearest Neighbours (auc = 0.45).png\n"
     ]
    },
    {
     "name": "stderr",
     "output_type": "stream",
     "text": [
      "2020-09-08 00:52:50,776 - Precision-recall curve saved to: ../artifact_dir/plots/precision_recall_K-nearest Neighbours prec= 0.33 recall= 0.62.png\n"
     ]
    },
    {
     "name": "stderr",
     "output_type": "stream",
     "text": [
      "2020-09-08 00:52:50,784 - Model saved to: ../artifact_dir/models/K-nearest Neighbours.pickle\n"
     ]
    },
    {
     "data": {
      "image/png": "[encoded data removed]",
      "text/plain": [
       "<Figure size 360x360 with 1 Axes>"
      ]
     },
     "metadata": {
      "needs_background": "light"
     },
     "output_type": "display_data"
    },
    {
     "data": {
      "image/png": "[encoded data removed]",
      "text/plain": [
       "<Figure size 1080x360 with 1 Axes>"
      ]
     },
     "metadata": {
      "needs_background": "light"
     },
     "output_type": "display_data"
    }
   ],
   "source": [
    "# K-neighbours\n",
    "model_name = 'K-nearest Neighbours'\n",
    "model = KNeighborsClassifier(5).fit(X_train, y_train)\n",
    "pred = model.predict_proba(X_val)[:, 1]\n",
    "log_mlflow(run_params, model, model_name, y_val, pred)"
   ]
  },
  {
   "cell_type": "code",
   "execution_count": 41,
   "metadata": {
    "execution": {
     "iopub.execute_input": "2020-09-07T19:22:51.870395Z",
     "iopub.status.busy": "2020-09-07T19:22:51.870395Z",
     "iopub.status.idle": "2020-09-07T19:22:53.632729Z",
     "shell.execute_reply": "2020-09-07T19:22:53.633769Z"
    },
    "papermill": {
     "duration": 1.848491,
     "end_time": "2020-09-07T19:22:53.633769",
     "exception": false,
     "start_time": "2020-09-07T19:22:51.785278",
     "status": "completed"
    },
    "tags": []
   },
   "outputs": [
    {
     "name": "stderr",
     "output_type": "stream",
     "text": [
      "2020-09-08 00:52:52,326 - AUC: 0.677 | Recall: 0.500 | Precision: 0.571 | F1: 0.533\n"
     ]
    },
    {
     "name": "stderr",
     "output_type": "stream",
     "text": [
      "2020-09-08 00:52:52,487 - ROC curve saved to: ../artifact_dir/plots/roc_curve_Gradient Boosting Machine (auc = 0.68).png\n"
     ]
    },
    {
     "name": "stderr",
     "output_type": "stream",
     "text": [
      "2020-09-08 00:52:52,759 - Precision-recall curve saved to: ../artifact_dir/plots/precision_recall_Gradient Boosting Machine prec= 0.57 recall= 0.50.png\n"
     ]
    },
    {
     "name": "stderr",
     "output_type": "stream",
     "text": [
      "2020-09-08 00:52:52,767 - Model saved to: ../artifact_dir/models/Gradient Boosting Machine.pickle\n"
     ]
    },
    {
     "data": {
      "image/png": "[encoded data removed]",
      "text/plain": [
       "<Figure size 360x360 with 1 Axes>"
      ]
     },
     "metadata": {
      "needs_background": "light"
     },
     "output_type": "display_data"
    },
    {
     "data": {
      "image/png": "[encoded data removed]",
      "text/plain": [
       "<Figure size 1080x360 with 1 Axes>"
      ]
     },
     "metadata": {
      "needs_background": "light"
     },
     "output_type": "display_data"
    }
   ],
   "source": [
    "# Gradient Boosting\n",
    "model_name = 'Gradient Boosting Machine'\n",
    "model = GradientBoostingClassifier().fit(X_train, y_train)\n",
    "pred = model.predict_proba(X_val)[:, 1]\n",
    "log_mlflow(run_params, model, model_name, y_val, pred)"
   ]
  },
  {
   "cell_type": "code",
   "execution_count": 42,
   "metadata": {
    "execution": {
     "iopub.execute_input": "2020-09-07T19:22:53.933668Z",
     "iopub.status.busy": "2020-09-07T19:22:53.926907Z",
     "iopub.status.idle": "2020-09-07T19:22:55.403109Z",
     "shell.execute_reply": "2020-09-07T19:22:55.403109Z"
    },
    "papermill": {
     "duration": 1.636135,
     "end_time": "2020-09-07T19:22:55.403109",
     "exception": false,
     "start_time": "2020-09-07T19:22:53.766974",
     "status": "completed"
    },
    "tags": []
   },
   "outputs": [
    {
     "name": "stderr",
     "output_type": "stream",
     "text": [
      "2020-09-08 00:52:54,349 - AUC: 0.427 | Recall: 0.250 | Precision: 0.333 | F1: 0.286\n"
     ]
    },
    {
     "name": "stderr",
     "output_type": "stream",
     "text": [
      "2020-09-08 00:52:54,525 - ROC curve saved to: ../artifact_dir/plots/roc_curve_Extra Trees (auc = 0.43).png\n"
     ]
    },
    {
     "name": "stderr",
     "output_type": "stream",
     "text": [
      "2020-09-08 00:52:54,743 - Precision-recall curve saved to: ../artifact_dir/plots/precision_recall_Extra Trees prec= 0.33 recall= 0.25.png\n"
     ]
    },
    {
     "name": "stderr",
     "output_type": "stream",
     "text": [
      "2020-09-08 00:52:54,748 - Model saved to: ../artifact_dir/models/Extra Trees.pickle\n"
     ]
    },
    {
     "data": {
      "image/png": "[encoded data removed]",
      "text/plain": [
       "<Figure size 360x360 with 1 Axes>"
      ]
     },
     "metadata": {
      "needs_background": "light"
     },
     "output_type": "display_data"
    },
    {
     "data": {
      "image/png": "[encoded data removed]",
      "text/plain": [
       "<Figure size 1080x360 with 1 Axes>"
      ]
     },
     "metadata": {
      "needs_background": "light"
     },
     "output_type": "display_data"
    }
   ],
   "source": [
    "# Bagged trees\n",
    "model_name = 'Extra Trees'\n",
    "model = ExtraTreesClassifier().fit(X_train, y_train)\n",
    "pred = model.predict_proba(X_val)[:, 1]\n",
    "log_mlflow(run_params, model, model_name, y_val, pred)"
   ]
  },
  {
   "cell_type": "markdown",
   "metadata": {
    "papermill": {
     "duration": 0.089613,
     "end_time": "2020-09-07T19:22:55.614171",
     "exception": false,
     "start_time": "2020-09-07T19:22:55.524558",
     "status": "completed"
    },
    "tags": []
   },
   "source": [
    "### Test loading model"
   ]
  },
  {
   "cell_type": "code",
   "execution_count": 43,
   "metadata": {
    "execution": {
     "iopub.execute_input": "2020-09-07T19:22:55.786196Z",
     "iopub.status.busy": "2020-09-07T19:22:55.785198Z",
     "iopub.status.idle": "2020-09-07T19:22:56.117231Z",
     "shell.execute_reply": "2020-09-07T19:22:56.108062Z"
    },
    "papermill": {
     "duration": 0.425051,
     "end_time": "2020-09-07T19:22:56.117231",
     "exception": false,
     "start_time": "2020-09-07T19:22:55.692180",
     "status": "completed"
    },
    "tags": []
   },
   "outputs": [],
   "source": [
    "model_name = 'Support Vector Classifier'\n",
    "check_model = load('{}/models/{}.pickle'.format(ARTIFACT_DIR, model_name))"
   ]
  },
  {
   "cell_type": "code",
   "execution_count": 44,
   "metadata": {
    "execution": {
     "iopub.execute_input": "2020-09-07T19:22:56.401358Z",
     "iopub.status.busy": "2020-09-07T19:22:56.401358Z",
     "iopub.status.idle": "2020-09-07T19:22:56.782660Z",
     "shell.execute_reply": "2020-09-07T19:22:56.783657Z"
    },
    "papermill": {
     "duration": 0.549882,
     "end_time": "2020-09-07T19:22:56.783657",
     "exception": false,
     "start_time": "2020-09-07T19:22:56.233775",
     "status": "completed"
    },
    "tags": []
   },
   "outputs": [
    {
     "data": {
      "text/plain": [
       "SVC(C=1, cache_size=200, class_weight=None, coef0=0.0,\n",
       "    decision_function_shape='ovr', degree=3, gamma=2, kernel='rbf', max_iter=-1,\n",
       "    probability=True, random_state=None, shrinking=True, tol=0.001,\n",
       "    verbose=False)"
      ]
     },
     "execution_count": 44,
     "metadata": {},
     "output_type": "execute_result"
    }
   ],
   "source": [
    "check_model"
   ]
  },
  {
   "cell_type": "code",
   "execution_count": 45,
   "metadata": {
    "execution": {
     "iopub.execute_input": "2020-09-07T19:22:56.984949Z",
     "iopub.status.busy": "2020-09-07T19:22:56.979440Z",
     "iopub.status.idle": "2020-09-07T19:22:57.299330Z",
     "shell.execute_reply": "2020-09-07T19:22:57.299330Z"
    },
    "papermill": {
     "duration": 0.415739,
     "end_time": "2020-09-07T19:22:57.299330",
     "exception": false,
     "start_time": "2020-09-07T19:22:56.883591",
     "status": "completed"
    },
    "tags": []
   },
   "outputs": [],
   "source": [
    "pred = check_model.predict_proba(X_val)[:, 1]"
   ]
  },
  {
   "cell_type": "code",
   "execution_count": 46,
   "metadata": {
    "execution": {
     "iopub.execute_input": "2020-09-07T19:22:57.483820Z",
     "iopub.status.busy": "2020-09-07T19:22:57.483820Z",
     "iopub.status.idle": "2020-09-07T19:22:57.816129Z",
     "shell.execute_reply": "2020-09-07T19:22:57.815049Z"
    },
    "papermill": {
     "duration": 0.416946,
     "end_time": "2020-09-07T19:22:57.817134",
     "exception": false,
     "start_time": "2020-09-07T19:22:57.400188",
     "status": "completed"
    },
    "tags": []
   },
   "outputs": [
    {
     "name": "stderr",
     "output_type": "stream",
     "text": [
      "2020-09-08 00:52:57,791 - AUC: 0.229 | Recall: 1.000 | Precision: 0.400 | F1: 0.571\n"
     ]
    },
    {
     "data": {
      "text/plain": [
       "(0.22916666666666669, 1.0, 0.4, 0.5714285714285715)"
      ]
     },
     "execution_count": 46,
     "metadata": {},
     "output_type": "execute_result"
    }
   ],
   "source": [
    "evaluate_binary(y_val, pred)"
   ]
  }
 ],
 "metadata": {
  "kernelspec": {
   "display_name": "Python 3",
   "language": "python",
   "name": "python3"
  },
  "language_info": {
   "codemirror_mode": {
    "name": "ipython",
    "version": 3
   },
   "file_extension": ".py",
   "mimetype": "text/x-python",
   "name": "python",
   "nbconvert_exporter": "python",
   "pygments_lexer": "ipython3",
   "version": "3.7.3"
  },
  "papermill": {
   "duration": 35.469412,
   "end_time": "2020-09-07T19:22:59.510991",
   "environment_variables": {},
   "exception": null,
   "input_path": "stock_up_down_parametrize.ipynb",
   "output_path": "../artifact_dir/notebooks/stock_up_down_NIKKEI.ipynb",
   "parameters": {
    "INDEX": "NIKKEI"
   },
   "start_time": "2020-09-07T19:22:24.041579",
   "version": "2.1.3"
  }
 },
 "nbformat": 4,
 "nbformat_minor": 4
}